{
 "cells": [
  {
   "cell_type": "code",
   "execution_count": 2,
   "metadata": {
    "_cell_guid": "79c7e3d0-c299-4dcb-8224-4455121ee9b0",
    "_kg_hide-input": true,
    "_uuid": "d629ff2d2480ee46fbb7e2d37f6b5fab8052498a",
    "execution": {
     "iopub.execute_input": "2020-11-27T16:43:01.686599Z",
     "iopub.status.busy": "2020-11-27T16:43:01.685735Z",
     "iopub.status.idle": "2020-11-27T16:43:04.046315Z",
     "shell.execute_reply": "2020-11-27T16:43:04.045131Z"
    },
    "executionInfo": {
     "elapsed": 6322,
     "status": "ok",
     "timestamp": 1605114236516,
     "user": {
      "displayName": "Vladimir Zhuravlev",
      "photoUrl": "",
      "userId": "16372324542816680996"
     },
     "user_tz": -420
    },
    "id": "pfi5SZ_kU50f",
    "outputId": "adaffd70-a7f7-49e6-ee61-20961c80c5d4",
    "papermill": {
     "duration": 2.411122,
     "end_time": "2020-11-27T16:43:04.046467",
     "exception": false,
     "start_time": "2020-11-27T16:43:01.635345",
     "status": "completed"
    },
    "tags": []
   },
   "outputs": [],
   "source": [
    "import numpy as np\n",
    "import random\n",
    "import pandas as pd\n",
    "import matplotlib.pyplot as plt\n",
    "import os\n",
    "import copy\n",
    "import seaborn as sns\n",
    " \n",
    "from sklearn import preprocessing\n",
    "from sklearn.metrics import log_loss\n",
    "from sklearn.preprocessing import StandardScaler\n",
    "from sklearn.preprocessing import QuantileTransformer\n",
    "from sklearn.decomposition import PCA\n",
    " \n",
    "import torch\n",
    "import torch.nn as nn\n",
    "import torch.nn.functional as F\n",
    "import torch.optim as optim\n",
    "from pickle import dump\n",
    " \n",
    "import warnings\n",
    "warnings.filterwarnings('ignore')"
   ]
  },
  {
   "cell_type": "code",
   "execution_count": 3,
   "metadata": {
    "_kg_hide-input": true,
    "execution": {
     "iopub.execute_input": "2020-11-27T16:43:04.136860Z",
     "iopub.status.busy": "2020-11-27T16:43:04.135895Z",
     "iopub.status.idle": "2020-11-27T16:43:04.142564Z",
     "shell.execute_reply": "2020-11-27T16:43:04.143164Z"
    },
    "executionInfo": {
     "elapsed": 79185,
     "status": "ok",
     "timestamp": 1605114309438,
     "user": {
      "displayName": "Vladimir Zhuravlev",
      "photoUrl": "",
      "userId": "16372324542816680996"
     },
     "user_tz": -420
    },
    "id": "PcmCrDMHU50n",
    "outputId": "8d65d771-547c-47c1-b374-dbc0f8d67247",
    "papermill": {
     "duration": 0.053147,
     "end_time": "2020-11-27T16:43:04.143291",
     "exception": false,
     "start_time": "2020-11-27T16:43:04.090144",
     "status": "completed"
    },
    "tags": []
   },
   "outputs": [],
   "source": [
    "data_dir = '../input/lish-moa/'\n",
    "os.listdir(data_dir)\n",
    "output_path = \"../output/nn/\""
   ]
  },
  {
   "cell_type": "code",
   "execution_count": 4,
   "metadata": {
    "execution": {
     "iopub.execute_input": "2020-11-27T16:43:04.236830Z",
     "iopub.status.busy": "2020-11-27T16:43:04.235936Z",
     "iopub.status.idle": "2020-11-27T16:43:35.666409Z",
     "shell.execute_reply": "2020-11-27T16:43:35.664828Z"
    },
    "papermill": {
     "duration": 31.480047,
     "end_time": "2020-11-27T16:43:35.666576",
     "exception": false,
     "start_time": "2020-11-27T16:43:04.186529",
     "status": "completed"
    },
    "tags": []
   },
   "outputs": [],
   "source": [
    "from iterstrat.ml_stratifiers import MultilabelStratifiedKFold"
   ]
  },
  {
   "source": [
    "## Loading datasets"
   ],
   "cell_type": "markdown",
   "metadata": {}
  },
  {
   "cell_type": "code",
   "execution_count": 5,
   "metadata": {
    "_kg_hide-input": true,
    "execution": {
     "iopub.execute_input": "2020-11-27T16:43:35.773629Z",
     "iopub.status.busy": "2020-11-27T16:43:35.772641Z",
     "iopub.status.idle": "2020-11-27T16:43:42.741998Z",
     "shell.execute_reply": "2020-11-27T16:43:42.742547Z"
    },
    "id": "m7vLwXCDU50r",
    "papermill": {
     "duration": 7.028783,
     "end_time": "2020-11-27T16:43:42.742692",
     "exception": false,
     "start_time": "2020-11-27T16:43:35.713909",
     "status": "completed"
    },
    "tags": []
   },
   "outputs": [
    {
     "output_type": "stream",
     "name": "stdout",
     "text": [
      "train_features: (23814, 876)\ntrain_targets_scored: (23814, 207)\ntrain_targets_nonscored: (23814, 403)\ntrain_drug: (23814, 2)\ntest_features: (3982, 876)\nsample_submission: (3982, 207)\n"
     ]
    }
   ],
   "source": [
    "train_features = pd.read_csv(data_dir + 'train_features.csv')\n",
    "train_targets_scored = pd.read_csv(data_dir + 'train_targets_scored.csv')\n",
    "train_targets_nonscored = pd.read_csv(data_dir + 'train_targets_nonscored.csv')\n",
    "train_drug = pd.read_csv(data_dir + 'train_drug.csv')\n",
    "test_features = pd.read_csv(data_dir + 'test_features.csv')\n",
    "sample_submission = pd.read_csv(data_dir + 'sample_submission.csv')\n",
    "\n",
    "print('train_features: {}'.format(train_features.shape))\n",
    "print('train_targets_scored: {}'.format(train_targets_scored.shape))\n",
    "print('train_targets_nonscored: {}'.format(train_targets_nonscored.shape))\n",
    "print('train_drug: {}'.format(train_drug.shape))\n",
    "print('test_features: {}'.format(test_features.shape))\n",
    "print('sample_submission: {}'.format(sample_submission.shape))"
   ]
  },
  {
   "cell_type": "code",
   "execution_count": 6,
   "metadata": {
    "execution": {
     "iopub.execute_input": "2020-11-27T16:43:43.021110Z",
     "iopub.status.busy": "2020-11-27T16:43:43.020249Z",
     "iopub.status.idle": "2020-11-27T16:43:43.397035Z",
     "shell.execute_reply": "2020-11-27T16:43:43.395892Z"
    },
    "papermill": {
     "duration": 0.434283,
     "end_time": "2020-11-27T16:43:43.397160",
     "exception": false,
     "start_time": "2020-11-27T16:43:42.962877",
     "status": "completed"
    },
    "tags": []
   },
   "outputs": [],
   "source": [
    "#Make experiment reproducible\n",
    "def seed_everything(seed_value):\n",
    "    random.seed(seed_value)\n",
    "    np.random.seed(seed_value)\n",
    "    torch.manual_seed(seed_value)\n",
    "\n",
    "    if torch.cuda.is_available(): \n",
    "        torch.cuda.manual_seed(seed_value)\n",
    "        torch.cuda.manual_seed_all(seed_value)\n",
    "        torch.backends.cudnn.deterministic = True\n",
    "        torch.backends.cudnn.benchmark = False\n",
    "    \n",
    "seed_everything(42)"
   ]
  },
  {
   "cell_type": "code",
   "execution_count": 7,
   "metadata": {
    "execution": {
     "iopub.execute_input": "2020-11-27T16:43:43.498357Z",
     "iopub.status.busy": "2020-11-27T16:43:43.496598Z",
     "iopub.status.idle": "2020-11-27T16:43:43.499119Z",
     "shell.execute_reply": "2020-11-27T16:43:43.499670Z"
    },
    "papermill": {
     "duration": 0.0558,
     "end_time": "2020-11-27T16:43:43.499796",
     "exception": false,
     "start_time": "2020-11-27T16:43:43.443996",
     "status": "completed"
    },
    "tags": []
   },
   "outputs": [],
   "source": [
    "GENES = [col for col in train_features.columns if col.startswith('g-')]\n",
    "CELLS = [col for col in train_features.columns if col.startswith('c-')]"
   ]
  },
  {
   "source": [
    "# Feature Engineering\n"
   ],
   "cell_type": "markdown",
   "metadata": {}
  },
  {
   "cell_type": "code",
   "execution_count": 8,
   "metadata": {},
   "outputs": [
    {
     "output_type": "stream",
     "name": "stdout",
     "text": [
      "making gaussian distributions\n",
      "performing pca on genes\n",
      "performing pca on cells\n",
      "variance threshold: 0.85\n",
      "adding clusters generated from KMeans as features\n",
      "adding statistics and square of columns as new features\n",
      "new number of columns: 1239\n"
     ]
    }
   ],
   "source": [
    "from feature_engineering import preprocess\n",
    "train_features = pd.read_csv('../input/lish-moa/train_features.csv')\n",
    "\n",
    "test_features = pd.read_csv('../input/lish-moa/test_features.csv')\n",
    "train_features, test_features = preprocess(train_features, test_features, output_path=\"../output/nn\")"
   ]
  },
  {
   "cell_type": "code",
   "execution_count": 8,
   "metadata": {
    "execution": {
     "iopub.execute_input": "2020-11-27T16:45:26.075143Z",
     "iopub.status.busy": "2020-11-27T16:45:26.073870Z",
     "iopub.status.idle": "2020-11-27T16:45:27.105957Z",
     "shell.execute_reply": "2020-11-27T16:45:27.105407Z"
    },
    "id": "0YYLua3IU51a",
    "papermill": {
     "duration": 1.088148,
     "end_time": "2020-11-27T16:45:27.106068",
     "exception": false,
     "start_time": "2020-11-27T16:45:26.017920",
     "status": "completed"
    },
    "tags": []
   },
   "outputs": [],
   "source": [
    "# preparing datasets for training by adding scored and non-scored features\n",
    "train = train_features.merge(train_targets_scored, on='sig_id')\n",
    "train = train.merge(train_targets_nonscored, on='sig_id')\n",
    "# add also the drug-id (available only for training of course) in order to stratify the dataset for\n",
    "# cross validation\n",
    "train = train.merge(train_drug, on='sig_id')\n",
    "# we get rid of control samples, that do not have any MoAs as specified in the competition\n",
    "train = train[train['cp_type'] != 'ctl_vehicle'].reset_index(drop=True)\n",
    "test = test_features[test_features['cp_type'] != 'ctl_vehicle'].reset_index(drop=True)"
   ]
  },
  {
   "cell_type": "code",
   "execution_count": 9,
   "metadata": {
    "execution": {
     "iopub.execute_input": "2020-11-27T16:45:27.212906Z",
     "iopub.status.busy": "2020-11-27T16:45:27.211670Z",
     "iopub.status.idle": "2020-11-27T16:45:27.327392Z",
     "shell.execute_reply": "2020-11-27T16:45:27.326873Z"
    },
    "id": "rBQk0po9U51c",
    "papermill": {
     "duration": 0.172889,
     "end_time": "2020-11-27T16:45:27.327525",
     "exception": false,
     "start_time": "2020-11-27T16:45:27.154636",
     "status": "completed"
    },
    "tags": []
   },
   "outputs": [],
   "source": [
    "train = train.drop('cp_type', axis=1)\n",
    "test = test.drop('cp_type', axis=1)"
   ]
  },
  {
   "cell_type": "code",
   "execution_count": 10,
   "metadata": {
    "execution": {
     "iopub.execute_input": "2020-11-27T16:45:27.431650Z",
     "iopub.status.busy": "2020-11-27T16:45:27.430913Z",
     "iopub.status.idle": "2020-11-27T16:45:27.463401Z",
     "shell.execute_reply": "2020-11-27T16:45:27.462662Z"
    },
    "executionInfo": {
     "elapsed": 122339,
     "status": "ok",
     "timestamp": 1605114352780,
     "user": {
      "displayName": "Vladimir Zhuravlev",
      "photoUrl": "",
      "userId": "16372324542816680996"
     },
     "user_tz": -420
    },
    "id": "E8O4-EsFU51e",
    "outputId": "ea888e7f-c7fe-4dca-fdaf-66606a0750ea",
    "papermill": {
     "duration": 0.087737,
     "end_time": "2020-11-27T16:45:27.463542",
     "exception": false,
     "start_time": "2020-11-27T16:45:27.375805",
     "status": "completed"
    },
    "tags": []
   },
   "outputs": [
    {
     "output_type": "stream",
     "name": "stdout",
     "text": [
      "(21948, 1484)\n"
     ]
    },
    {
     "output_type": "execute_result",
     "data": {
      "text/plain": [
       "         sig_id  cp_time cp_dose       g-0       g-1       g-2       g-3  \\\n",
       "0  id_000644bb2       24      D1  1.134849  0.907687 -0.416385 -0.966814   \n",
       "1  id_000779bfc       72      D1  0.119282  0.681738  0.272399  0.080113   \n",
       "2  id_000a6266a       48      D1  0.779973  0.946463  1.425350 -0.132928   \n",
       "3  id_0015fd391       48      D1 -0.734910 -0.274641 -0.438509  0.759097   \n",
       "4  id_001626bd3       72      D2 -0.452718 -0.477513  0.972316  0.970731   \n",
       "\n",
       "        g-4       g-5       g-6  ...  \\\n",
       "0 -0.254723 -1.017473 -1.364787  ...   \n",
       "1  1.205169  0.686517  0.313396  ...   \n",
       "2 -0.006122  1.492493  0.235577  ...   \n",
       "3  2.346330 -0.858153 -2.288417  ...   \n",
       "4  1.463427 -0.869555 -0.375501  ...   \n",
       "\n",
       "   vesicular_monoamine_transporter_inhibitor  vitamin_k_antagonist  \\\n",
       "0                                          0                     0   \n",
       "1                                          0                     0   \n",
       "2                                          0                     0   \n",
       "3                                          0                     0   \n",
       "4                                          0                     0   \n",
       "\n",
       "   voltage-gated_calcium_channel_ligand  \\\n",
       "0                                     0   \n",
       "1                                     0   \n",
       "2                                     0   \n",
       "3                                     0   \n",
       "4                                     0   \n",
       "\n",
       "   voltage-gated_potassium_channel_activator  \\\n",
       "0                                          0   \n",
       "1                                          0   \n",
       "2                                          0   \n",
       "3                                          0   \n",
       "4                                          0   \n",
       "\n",
       "   voltage-gated_sodium_channel_blocker  wdr5_mll_interaction_inhibitor  \\\n",
       "0                                     0                               0   \n",
       "1                                     0                               0   \n",
       "2                                     0                               0   \n",
       "3                                     0                               0   \n",
       "4                                     0                               0   \n",
       "\n",
       "   wnt_agonist  xanthine_oxidase_inhibitor  xiap_inhibitor    drug_id  \n",
       "0            0                           0               0  b68db1d53  \n",
       "1            0                           0               0  df89a8e5a  \n",
       "2            0                           0               0  18bb41b2c  \n",
       "3            0                           0               0  8c7f86626  \n",
       "4            0                           0               0  7cbed3131  \n",
       "\n",
       "[5 rows x 1484 columns]"
      ],
      "text/html": "<div>\n<style scoped>\n    .dataframe tbody tr th:only-of-type {\n        vertical-align: middle;\n    }\n\n    .dataframe tbody tr th {\n        vertical-align: top;\n    }\n\n    .dataframe thead th {\n        text-align: right;\n    }\n</style>\n<table border=\"1\" class=\"dataframe\">\n  <thead>\n    <tr style=\"text-align: right;\">\n      <th></th>\n      <th>sig_id</th>\n      <th>cp_time</th>\n      <th>cp_dose</th>\n      <th>g-0</th>\n      <th>g-1</th>\n      <th>g-2</th>\n      <th>g-3</th>\n      <th>g-4</th>\n      <th>g-5</th>\n      <th>g-6</th>\n      <th>...</th>\n      <th>vesicular_monoamine_transporter_inhibitor</th>\n      <th>vitamin_k_antagonist</th>\n      <th>voltage-gated_calcium_channel_ligand</th>\n      <th>voltage-gated_potassium_channel_activator</th>\n      <th>voltage-gated_sodium_channel_blocker</th>\n      <th>wdr5_mll_interaction_inhibitor</th>\n      <th>wnt_agonist</th>\n      <th>xanthine_oxidase_inhibitor</th>\n      <th>xiap_inhibitor</th>\n      <th>drug_id</th>\n    </tr>\n  </thead>\n  <tbody>\n    <tr>\n      <th>0</th>\n      <td>id_000644bb2</td>\n      <td>24</td>\n      <td>D1</td>\n      <td>1.134849</td>\n      <td>0.907687</td>\n      <td>-0.416385</td>\n      <td>-0.966814</td>\n      <td>-0.254723</td>\n      <td>-1.017473</td>\n      <td>-1.364787</td>\n      <td>...</td>\n      <td>0</td>\n      <td>0</td>\n      <td>0</td>\n      <td>0</td>\n      <td>0</td>\n      <td>0</td>\n      <td>0</td>\n      <td>0</td>\n      <td>0</td>\n      <td>b68db1d53</td>\n    </tr>\n    <tr>\n      <th>1</th>\n      <td>id_000779bfc</td>\n      <td>72</td>\n      <td>D1</td>\n      <td>0.119282</td>\n      <td>0.681738</td>\n      <td>0.272399</td>\n      <td>0.080113</td>\n      <td>1.205169</td>\n      <td>0.686517</td>\n      <td>0.313396</td>\n      <td>...</td>\n      <td>0</td>\n      <td>0</td>\n      <td>0</td>\n      <td>0</td>\n      <td>0</td>\n      <td>0</td>\n      <td>0</td>\n      <td>0</td>\n      <td>0</td>\n      <td>df89a8e5a</td>\n    </tr>\n    <tr>\n      <th>2</th>\n      <td>id_000a6266a</td>\n      <td>48</td>\n      <td>D1</td>\n      <td>0.779973</td>\n      <td>0.946463</td>\n      <td>1.425350</td>\n      <td>-0.132928</td>\n      <td>-0.006122</td>\n      <td>1.492493</td>\n      <td>0.235577</td>\n      <td>...</td>\n      <td>0</td>\n      <td>0</td>\n      <td>0</td>\n      <td>0</td>\n      <td>0</td>\n      <td>0</td>\n      <td>0</td>\n      <td>0</td>\n      <td>0</td>\n      <td>18bb41b2c</td>\n    </tr>\n    <tr>\n      <th>3</th>\n      <td>id_0015fd391</td>\n      <td>48</td>\n      <td>D1</td>\n      <td>-0.734910</td>\n      <td>-0.274641</td>\n      <td>-0.438509</td>\n      <td>0.759097</td>\n      <td>2.346330</td>\n      <td>-0.858153</td>\n      <td>-2.288417</td>\n      <td>...</td>\n      <td>0</td>\n      <td>0</td>\n      <td>0</td>\n      <td>0</td>\n      <td>0</td>\n      <td>0</td>\n      <td>0</td>\n      <td>0</td>\n      <td>0</td>\n      <td>8c7f86626</td>\n    </tr>\n    <tr>\n      <th>4</th>\n      <td>id_001626bd3</td>\n      <td>72</td>\n      <td>D2</td>\n      <td>-0.452718</td>\n      <td>-0.477513</td>\n      <td>0.972316</td>\n      <td>0.970731</td>\n      <td>1.463427</td>\n      <td>-0.869555</td>\n      <td>-0.375501</td>\n      <td>...</td>\n      <td>0</td>\n      <td>0</td>\n      <td>0</td>\n      <td>0</td>\n      <td>0</td>\n      <td>0</td>\n      <td>0</td>\n      <td>0</td>\n      <td>0</td>\n      <td>7cbed3131</td>\n    </tr>\n  </tbody>\n</table>\n<p>5 rows × 1484 columns</p>\n</div>"
     },
     "metadata": {},
     "execution_count": 10
    }
   ],
   "source": [
    "print(train.shape)  #includes also targets\n",
    "train.head()"
   ]
  },
  {
   "cell_type": "code",
   "execution_count": 11,
   "metadata": {
    "execution": {
     "iopub.execute_input": "2020-11-27T16:45:27.591285Z",
     "iopub.status.busy": "2020-11-27T16:45:27.581834Z",
     "iopub.status.idle": "2020-11-27T16:45:27.614938Z",
     "shell.execute_reply": "2020-11-27T16:45:27.614296Z"
    },
    "papermill": {
     "duration": 0.09646,
     "end_time": "2020-11-27T16:45:27.615059",
     "exception": false,
     "start_time": "2020-11-27T16:45:27.518599",
     "status": "completed"
    },
    "tags": []
   },
   "outputs": [
    {
     "output_type": "stream",
     "name": "stdout",
     "text": [
      "(3624, 875)\n"
     ]
    },
    {
     "output_type": "execute_result",
     "data": {
      "text/plain": [
       "         sig_id  cp_time cp_dose       g-0       g-1       g-2       g-3  \\\n",
       "0  id_0004d9e33       24      D1 -0.780778  0.261727 -0.779608  0.640179   \n",
       "1  id_001897cda       72      D1 -0.245017  0.417006  1.168949 -0.708951   \n",
       "2  id_00276f245       24      D2  0.628172  0.359716  0.366921  0.616193   \n",
       "3  id_0027f1083       48      D1 -0.562820 -1.449243  1.658487  0.302608   \n",
       "4  id_006fc47b8       48      D2  0.490815  0.901390 -1.024895 -2.095041   \n",
       "\n",
       "        g-4       g-5       g-6  ...      c-90      c-91      c-92      c-93  \\\n",
       "0  1.532089 -0.191112 -0.289497  ...  0.143740  1.194777 -0.176675 -0.248753   \n",
       "1 -0.517363 -0.390555 -2.213382  ... -0.143762 -0.248638 -1.036214 -1.245673   \n",
       "2 -0.839624 -1.149929  0.763103  ...  0.182607  0.217992 -0.222253 -1.120729   \n",
       "3 -0.840776  0.000017  0.657583  ...  0.732788  1.132933 -0.195944  1.652644   \n",
       "4  0.741717 -0.449766 -0.637682  ... -0.963066 -0.646647  0.341034 -0.852729   \n",
       "\n",
       "       c-94      c-95      c-96      c-97      c-98      c-99  \n",
       "0 -0.287088 -0.148110  0.028230 -0.060522  0.197538 -0.878364  \n",
       "1 -0.458447 -0.643261  0.048784 -0.580475 -1.113892 -0.837853  \n",
       "2 -0.534725 -0.982290  1.194318 -0.161325  0.845626 -0.694123  \n",
       "3  0.826745  1.714988 -0.379634 -0.642067  1.599930  2.395631  \n",
       "4 -1.041389 -0.766444 -0.334668 -0.276019 -0.013049 -1.359583  \n",
       "\n",
       "[5 rows x 875 columns]"
      ],
      "text/html": "<div>\n<style scoped>\n    .dataframe tbody tr th:only-of-type {\n        vertical-align: middle;\n    }\n\n    .dataframe tbody tr th {\n        vertical-align: top;\n    }\n\n    .dataframe thead th {\n        text-align: right;\n    }\n</style>\n<table border=\"1\" class=\"dataframe\">\n  <thead>\n    <tr style=\"text-align: right;\">\n      <th></th>\n      <th>sig_id</th>\n      <th>cp_time</th>\n      <th>cp_dose</th>\n      <th>g-0</th>\n      <th>g-1</th>\n      <th>g-2</th>\n      <th>g-3</th>\n      <th>g-4</th>\n      <th>g-5</th>\n      <th>g-6</th>\n      <th>...</th>\n      <th>c-90</th>\n      <th>c-91</th>\n      <th>c-92</th>\n      <th>c-93</th>\n      <th>c-94</th>\n      <th>c-95</th>\n      <th>c-96</th>\n      <th>c-97</th>\n      <th>c-98</th>\n      <th>c-99</th>\n    </tr>\n  </thead>\n  <tbody>\n    <tr>\n      <th>0</th>\n      <td>id_0004d9e33</td>\n      <td>24</td>\n      <td>D1</td>\n      <td>-0.780778</td>\n      <td>0.261727</td>\n      <td>-0.779608</td>\n      <td>0.640179</td>\n      <td>1.532089</td>\n      <td>-0.191112</td>\n      <td>-0.289497</td>\n      <td>...</td>\n      <td>0.143740</td>\n      <td>1.194777</td>\n      <td>-0.176675</td>\n      <td>-0.248753</td>\n      <td>-0.287088</td>\n      <td>-0.148110</td>\n      <td>0.028230</td>\n      <td>-0.060522</td>\n      <td>0.197538</td>\n      <td>-0.878364</td>\n    </tr>\n    <tr>\n      <th>1</th>\n      <td>id_001897cda</td>\n      <td>72</td>\n      <td>D1</td>\n      <td>-0.245017</td>\n      <td>0.417006</td>\n      <td>1.168949</td>\n      <td>-0.708951</td>\n      <td>-0.517363</td>\n      <td>-0.390555</td>\n      <td>-2.213382</td>\n      <td>...</td>\n      <td>-0.143762</td>\n      <td>-0.248638</td>\n      <td>-1.036214</td>\n      <td>-1.245673</td>\n      <td>-0.458447</td>\n      <td>-0.643261</td>\n      <td>0.048784</td>\n      <td>-0.580475</td>\n      <td>-1.113892</td>\n      <td>-0.837853</td>\n    </tr>\n    <tr>\n      <th>2</th>\n      <td>id_00276f245</td>\n      <td>24</td>\n      <td>D2</td>\n      <td>0.628172</td>\n      <td>0.359716</td>\n      <td>0.366921</td>\n      <td>0.616193</td>\n      <td>-0.839624</td>\n      <td>-1.149929</td>\n      <td>0.763103</td>\n      <td>...</td>\n      <td>0.182607</td>\n      <td>0.217992</td>\n      <td>-0.222253</td>\n      <td>-1.120729</td>\n      <td>-0.534725</td>\n      <td>-0.982290</td>\n      <td>1.194318</td>\n      <td>-0.161325</td>\n      <td>0.845626</td>\n      <td>-0.694123</td>\n    </tr>\n    <tr>\n      <th>3</th>\n      <td>id_0027f1083</td>\n      <td>48</td>\n      <td>D1</td>\n      <td>-0.562820</td>\n      <td>-1.449243</td>\n      <td>1.658487</td>\n      <td>0.302608</td>\n      <td>-0.840776</td>\n      <td>0.000017</td>\n      <td>0.657583</td>\n      <td>...</td>\n      <td>0.732788</td>\n      <td>1.132933</td>\n      <td>-0.195944</td>\n      <td>1.652644</td>\n      <td>0.826745</td>\n      <td>1.714988</td>\n      <td>-0.379634</td>\n      <td>-0.642067</td>\n      <td>1.599930</td>\n      <td>2.395631</td>\n    </tr>\n    <tr>\n      <th>4</th>\n      <td>id_006fc47b8</td>\n      <td>48</td>\n      <td>D2</td>\n      <td>0.490815</td>\n      <td>0.901390</td>\n      <td>-1.024895</td>\n      <td>-2.095041</td>\n      <td>0.741717</td>\n      <td>-0.449766</td>\n      <td>-0.637682</td>\n      <td>...</td>\n      <td>-0.963066</td>\n      <td>-0.646647</td>\n      <td>0.341034</td>\n      <td>-0.852729</td>\n      <td>-1.041389</td>\n      <td>-0.766444</td>\n      <td>-0.334668</td>\n      <td>-0.276019</td>\n      <td>-0.013049</td>\n      <td>-1.359583</td>\n    </tr>\n  </tbody>\n</table>\n<p>5 rows × 875 columns</p>\n</div>"
     },
     "metadata": {},
     "execution_count": 11
    }
   ],
   "source": [
    "print(test.shape)\n",
    "test.head()"
   ]
  },
  {
   "cell_type": "code",
   "execution_count": 12,
   "metadata": {
    "execution": {
     "iopub.execute_input": "2020-11-27T16:45:27.732179Z",
     "iopub.status.busy": "2020-11-27T16:45:27.731274Z",
     "iopub.status.idle": "2020-11-27T16:45:27.736685Z",
     "shell.execute_reply": "2020-11-27T16:45:27.737412Z"
    },
    "executionInfo": {
     "elapsed": 122330,
     "status": "ok",
     "timestamp": 1605114352785,
     "user": {
      "displayName": "Vladimir Zhuravlev",
      "photoUrl": "",
      "userId": "16372324542816680996"
     },
     "user_tz": -420
    },
    "id": "S4hXidfQU51h",
    "outputId": "f1b594f9-0c92-41c1-f88d-cfe75628b7ef",
    "papermill": {
     "duration": 0.065742,
     "end_time": "2020-11-27T16:45:27.737597",
     "exception": false,
     "start_time": "2020-11-27T16:45:27.671855",
     "status": "completed"
    },
    "tags": []
   },
   "outputs": [
    {
     "output_type": "stream",
     "name": "stdout",
     "text": [
      "num_targets: 206\nnum_aux_targets: 402\nnum_all_targets: 608\n"
     ]
    }
   ],
   "source": [
    "target_cols = [x for x in train_targets_scored.columns if x != 'sig_id']    # labels evaluated in the competition\n",
    "aux_target_cols = [x for x in train_targets_nonscored.columns if x != 'sig_id'] # labels not evaluated in the competition\n",
    "all_target_cols = target_cols + aux_target_cols\n",
    "\n",
    "num_targets = len(target_cols)\n",
    "num_aux_targets = len(aux_target_cols)\n",
    "num_all_targets = len(all_target_cols)\n",
    "\n",
    "print('num_targets: {}'.format(num_targets))\n",
    "print('num_aux_targets: {}'.format(num_aux_targets))\n",
    "print('num_all_targets: {}'.format(num_all_targets))"
   ]
  },
  {
   "cell_type": "code",
   "execution_count": 13,
   "metadata": {
    "execution": {
     "iopub.execute_input": "2020-11-27T16:45:27.847286Z",
     "iopub.status.busy": "2020-11-27T16:45:27.846321Z",
     "iopub.status.idle": "2020-11-27T16:45:27.851205Z",
     "shell.execute_reply": "2020-11-27T16:45:27.851723Z"
    },
    "executionInfo": {
     "elapsed": 125156,
     "status": "ok",
     "timestamp": 1605114355642,
     "user": {
      "displayName": "Vladimir Zhuravlev",
      "photoUrl": "",
      "userId": "16372324542816680996"
     },
     "user_tz": -420
    },
    "id": "xikvp4WLU51m",
    "outputId": "96a60f5d-6af6-4f99-e753-17f63406623d",
    "papermill": {
     "duration": 0.062475,
     "end_time": "2020-11-27T16:45:27.851849",
     "exception": false,
     "start_time": "2020-11-27T16:45:27.789374",
     "status": "completed"
    },
    "tags": []
   },
   "outputs": [
    {
     "output_type": "stream",
     "name": "stdout",
     "text": [
      "(21948, 1484)\n(3624, 875)\n(3982, 207)\n"
     ]
    }
   ],
   "source": [
    "print(train.shape)\n",
    "print(test.shape)\n",
    "print(sample_submission.shape)"
   ]
  },
  {
   "cell_type": "markdown",
   "metadata": {
    "id": "-4PxBYMVU51p",
    "papermill": {
     "duration": 0.051059,
     "end_time": "2020-11-27T16:45:27.954250",
     "exception": false,
     "start_time": "2020-11-27T16:45:27.903191",
     "status": "completed"
    },
    "tags": []
   },
   "source": [
    "# Dataset Classes"
   ]
  },
  {
   "cell_type": "code",
   "execution_count": 14,
   "metadata": {
    "execution": {
     "iopub.execute_input": "2020-11-27T16:45:28.070373Z",
     "iopub.status.busy": "2020-11-27T16:45:28.069474Z",
     "iopub.status.idle": "2020-11-27T16:45:28.072993Z",
     "shell.execute_reply": "2020-11-27T16:45:28.072432Z"
    },
    "id": "Oe4Fyj0rU51q",
    "papermill": {
     "duration": 0.066082,
     "end_time": "2020-11-27T16:45:28.073101",
     "exception": false,
     "start_time": "2020-11-27T16:45:28.007019",
     "status": "completed"
    },
    "tags": []
   },
   "outputs": [],
   "source": [
    "# used during training of Neural Network\n",
    "class MoADataset:\n",
    "    def __init__(self, features, targets):\n",
    "        self.features = features\n",
    "        self.targets = targets\n",
    "        \n",
    "    def __len__(self):\n",
    "        return (self.features.shape[0])\n",
    "    \n",
    "    def __getitem__(self, idx):\n",
    "        dct = {\n",
    "            'x' : torch.tensor(self.features[idx, :], dtype=torch.float),\n",
    "            'y' : torch.tensor(self.targets[idx, :], dtype=torch.float)\n",
    "        }\n",
    "        \n",
    "        return dct\n",
    "\n",
    "# used when we want to make predictions on the test dataset\n",
    "class TestDataset:\n",
    "    def __init__(self, features):\n",
    "        self.features = features\n",
    "        \n",
    "    def __len__(self):\n",
    "        return (self.features.shape[0])\n",
    "    \n",
    "    def __getitem__(self, idx):\n",
    "        dct = {\n",
    "            'x' : torch.tensor(self.features[idx, :], dtype=torch.float)\n",
    "        }\n",
    "\n",
    "        return dct"
   ]
  },
  {
   "cell_type": "code",
   "execution_count": 15,
   "metadata": {
    "execution": {
     "iopub.execute_input": "2020-11-27T16:45:28.193697Z",
     "iopub.status.busy": "2020-11-27T16:45:28.192812Z",
     "iopub.status.idle": "2020-11-27T16:45:28.195878Z",
     "shell.execute_reply": "2020-11-27T16:45:28.195281Z"
    },
    "id": "tIvXQTmIU51s",
    "papermill": {
     "duration": 0.07228,
     "end_time": "2020-11-27T16:45:28.195989",
     "exception": false,
     "start_time": "2020-11-27T16:45:28.123709",
     "status": "completed"
    },
    "tags": []
   },
   "outputs": [],
   "source": [
    "# train the model\n",
    "def train_fn(model, optimizer, scheduler, loss_fn, dataloader, device):\n",
    "    model.train()\n",
    "    final_loss = 0\n",
    "    \n",
    "    for data in dataloader:\n",
    "        optimizer.zero_grad()\n",
    "        inputs, targets = data['x'].to(device), data['y'].to(device)\n",
    "        outputs = model(inputs)\n",
    "        loss = loss_fn(outputs, targets)\n",
    "        loss.backward()\n",
    "        optimizer.step()\n",
    "        scheduler.step()\n",
    "\n",
    "        final_loss += loss.item()\n",
    "        \n",
    "    final_loss /= len(dataloader)\n",
    "    return final_loss\n",
    "\n",
    "# used during validation in CV, does not update weights\n",
    "def valid_fn(model, loss_fn, dataloader, device):\n",
    "    model.eval()\n",
    "    final_loss = 0\n",
    "    valid_preds = []\n",
    "    \n",
    "    for data in dataloader:\n",
    "        inputs, targets = data['x'].to(device), data['y'].to(device)\n",
    "        outputs = model(inputs)\n",
    "        loss = loss_fn(outputs, targets)\n",
    "        final_loss += loss.item()\n",
    "        valid_preds.append(outputs.sigmoid().detach().cpu().numpy())\n",
    "        \n",
    "    final_loss /= len(dataloader)\n",
    "    valid_preds = np.concatenate(valid_preds)\n",
    "    return final_loss, valid_preds\n",
    "\n",
    "# used when doing predictions on test dataset, for which we do not have labels\n",
    "def inference_fn(model, dataloader, device):\n",
    "    model.eval()\n",
    "    preds = []\n",
    "    \n",
    "    for data in dataloader:\n",
    "        inputs = data['x'].to(device)\n",
    "\n",
    "        with torch.no_grad():\n",
    "            outputs = model(inputs)\n",
    "        \n",
    "        preds.append(outputs.sigmoid().detach().cpu().numpy())\n",
    "        \n",
    "    preds = np.concatenate(preds)\n",
    "    return preds"
   ]
  },
  {
   "source": [
    "In order to have better results in the competition's leaderboard it helps to use a different loss for training. This makes the model\n",
    "less confident about his predictions, since the log loss penalizes a lot overconfident wrong predictions.\n",
    "For example a target label that is 0 becomes 0.0005 and our model aims at predicting this last value."
   ],
   "cell_type": "markdown",
   "metadata": {}
  },
  {
   "cell_type": "code",
   "execution_count": 16,
   "metadata": {
    "execution": {
     "iopub.execute_input": "2020-11-27T16:45:28.314053Z",
     "iopub.status.busy": "2020-11-27T16:45:28.313059Z",
     "iopub.status.idle": "2020-11-27T16:45:28.315510Z",
     "shell.execute_reply": "2020-11-27T16:45:28.316032Z"
    },
    "id": "xEI0c6n2U51u",
    "papermill": {
     "duration": 0.067409,
     "end_time": "2020-11-27T16:45:28.316151",
     "exception": false,
     "start_time": "2020-11-27T16:45:28.248742",
     "status": "completed"
    },
    "tags": []
   },
   "outputs": [],
   "source": [
    "import torch\n",
    "from torch.nn.modules.loss import _WeightedLoss\n",
    "import torch.nn.functional as F\n",
    "\n",
    "class SmoothBCEwLogits(_WeightedLoss):\n",
    "    def __init__(self, weight=None, reduction='mean', smoothing=0.0):\n",
    "        super().__init__(weight=weight, reduction=reduction)\n",
    "        self.smoothing = smoothing\n",
    "        self.weight = weight\n",
    "        self.reduction = reduction\n",
    "\n",
    "    @staticmethod\n",
    "    def _smooth(targets:torch.Tensor, n_labels:int, smoothing=0.0):\n",
    "        assert 0 <= smoothing < 1\n",
    "\n",
    "        with torch.no_grad():\n",
    "            targets = targets * (1.0 - smoothing) + 0.5 * smoothing    \n",
    "            \n",
    "        return targets\n",
    "\n",
    "    def forward(self, inputs, targets):\n",
    "        targets = SmoothBCEwLogits._smooth(targets, inputs.size(-1),\n",
    "            self.smoothing)\n",
    "        loss = F.binary_cross_entropy_with_logits(inputs, targets,self.weight)\n",
    "\n",
    "        if  self.reduction == 'sum':\n",
    "            loss = loss.sum()\n",
    "        elif  self.reduction == 'mean':\n",
    "            loss = loss.mean()\n",
    "\n",
    "        return loss"
   ]
  },
  {
   "cell_type": "markdown",
   "metadata": {
    "id": "2YOmMelYU51x",
    "papermill": {
     "duration": 0.051454,
     "end_time": "2020-11-27T16:45:28.418929",
     "exception": false,
     "start_time": "2020-11-27T16:45:28.367475",
     "status": "completed"
    },
    "tags": []
   },
   "source": [
    "# Model"
   ]
  },
  {
   "cell_type": "code",
   "execution_count": 17,
   "metadata": {
    "execution": {
     "iopub.execute_input": "2020-11-27T16:45:28.539647Z",
     "iopub.status.busy": "2020-11-27T16:45:28.532543Z",
     "iopub.status.idle": "2020-11-27T16:45:28.571736Z",
     "shell.execute_reply": "2020-11-27T16:45:28.572279Z"
    },
    "id": "NuBU5W3lU51y",
    "papermill": {
     "duration": 0.100312,
     "end_time": "2020-11-27T16:45:28.572429",
     "exception": false,
     "start_time": "2020-11-27T16:45:28.472117",
     "status": "completed"
    },
    "tags": []
   },
   "outputs": [],
   "source": [
    "class Model(nn.Module):\n",
    "    def __init__(self, num_features, num_targets):\n",
    "        super(Model, self).__init__()\n",
    "        self.hidden_size = [1500, 1250, 1000, 750]\n",
    "        self.dropout_value = [0.5, 0.35, 0.3, 0.25]\n",
    "\n",
    "        self.batch_norm1 = nn.BatchNorm1d(num_features)\n",
    "        self.dense1 = nn.Linear(num_features, self.hidden_size[0])\n",
    "        \n",
    "        self.batch_norm2 = nn.BatchNorm1d(self.hidden_size[0])\n",
    "        self.dropout2 = nn.Dropout(self.dropout_value[0])\n",
    "        self.dense2 = nn.Linear(self.hidden_size[0], self.hidden_size[1])\n",
    "\n",
    "        self.batch_norm3 = nn.BatchNorm1d(self.hidden_size[1])\n",
    "        self.dropout3 = nn.Dropout(self.dropout_value[1])\n",
    "        self.dense3 = nn.Linear(self.hidden_size[1], self.hidden_size[2])\n",
    "\n",
    "        self.batch_norm4 = nn.BatchNorm1d(self.hidden_size[2])\n",
    "        self.dropout4 = nn.Dropout(self.dropout_value[2])\n",
    "        self.dense4 = nn.Linear(self.hidden_size[2], self.hidden_size[3])\n",
    "\n",
    "        self.batch_norm5 = nn.BatchNorm1d(self.hidden_size[3])\n",
    "        self.dropout5 = nn.Dropout(self.dropout_value[3])\n",
    "        self.dense5 = nn.utils.weight_norm(nn.Linear(self.hidden_size[3], num_targets))\n",
    "    \n",
    "    def forward(self, x):\n",
    "        x = self.batch_norm1(x)\n",
    "        x = F.leaky_relu(self.dense1(x))\n",
    "        \n",
    "        x = self.batch_norm2(x)\n",
    "        x = self.dropout2(x)\n",
    "        x = F.leaky_relu(self.dense2(x))\n",
    "\n",
    "        x = self.batch_norm3(x)\n",
    "        x = self.dropout3(x)\n",
    "        x = F.leaky_relu(self.dense3(x))\n",
    "\n",
    "        x = self.batch_norm4(x)\n",
    "        x = self.dropout4(x)\n",
    "        x = F.leaky_relu(self.dense4(x))\n",
    "\n",
    "        x = self.batch_norm5(x)\n",
    "        x = self.dropout5(x)\n",
    "        x = self.dense5(x)\n",
    "        return x\n",
    "   "
   ]
  },
  {
   "source": [
    "This scheduler is used in order to train the neural network on the scored targets after it has completed pre-training on scored and non scored targets.\n",
    "We copy the whole model replacing the last layer, at this point all the layers are frozen (the weights do not get updated) except for the last one.\n",
    "Progressively we unfreeze one layer at a time starting from the bottom to fine-tune the neural network."
   ],
   "cell_type": "markdown",
   "metadata": {}
  },
  {
   "cell_type": "code",
   "execution_count": 18,
   "metadata": {
    "execution": {
     "iopub.execute_input": "2020-11-27T16:45:28.772504Z",
     "iopub.status.busy": "2020-11-27T16:45:28.771076Z",
     "iopub.status.idle": "2020-11-27T16:45:28.776367Z",
     "shell.execute_reply": "2020-11-27T16:45:28.778043Z"
    },
    "id": "NJaTGiY4uJRP",
    "papermill": {
     "duration": 0.114512,
     "end_time": "2020-11-27T16:45:28.778335",
     "exception": false,
     "start_time": "2020-11-27T16:45:28.663823",
     "status": "completed"
    },
    "tags": []
   },
   "outputs": [],
   "source": [
    "class FineTuneScheduler:\n",
    "    def __init__(self, epochs):\n",
    "        self.epochs = epochs\n",
    "        self.epochs_per_step = 0\n",
    "        self.frozen_layers = []\n",
    "\n",
    "    def copy_without_top(self, model, num_features, num_targets, num_targets_new):\n",
    "        self.frozen_layers = []\n",
    "\n",
    "        model_new = Model(num_features, num_targets)\n",
    "        model_new.load_state_dict(model.state_dict())\n",
    "\n",
    "        # Freeze all weights\n",
    "        for name, param in model_new.named_parameters():\n",
    "            layer_index = name.split('.')[0][-1]\n",
    "\n",
    "            if layer_index == 5:\n",
    "                continue\n",
    "\n",
    "            param.requires_grad = False\n",
    "\n",
    "            # Save frozen layer names\n",
    "            if layer_index not in self.frozen_layers:\n",
    "                self.frozen_layers.append(layer_index)\n",
    "\n",
    "        self.epochs_per_step = self.epochs // len(self.frozen_layers)\n",
    "\n",
    "        # Replace the top layer with another one\n",
    "        model_new.batch_norm5 = nn.BatchNorm1d(model_new.hidden_size[3])\n",
    "        model_new.dropout5 = nn.Dropout(model_new.dropout_value[3])\n",
    "        model_new.dense5 = nn.utils.weight_norm(nn.Linear(model_new.hidden_size[-1], num_targets_new))\n",
    "        model_new.to(DEVICE)\n",
    "        return model_new\n",
    "\n",
    "    def step(self, epoch, model):\n",
    "        if len(self.frozen_layers) == 0:\n",
    "            return\n",
    "\n",
    "        if epoch % self.epochs_per_step == 0:\n",
    "            last_frozen_index = self.frozen_layers[-1]\n",
    "            \n",
    "            # Unfreeze parameters of the last frozen layer\n",
    "            for name, param in model.named_parameters():\n",
    "                layer_index = name.split('.')[0][-1]\n",
    "\n",
    "                if layer_index == last_frozen_index:\n",
    "                    param.requires_grad = True\n",
    "\n",
    "            del self.frozen_layers[-1]  # Remove the last layer as unfrozen"
   ]
  },
  {
   "cell_type": "code",
   "execution_count": 19,
   "metadata": {
    "execution": {
     "iopub.execute_input": "2020-11-27T16:45:29.090473Z",
     "iopub.status.busy": "2020-11-27T16:45:29.089457Z",
     "iopub.status.idle": "2020-11-27T16:45:29.092081Z",
     "shell.execute_reply": "2020-11-27T16:45:29.091281Z"
    },
    "id": "PUxdopjmU513",
    "papermill": {
     "duration": 0.085863,
     "end_time": "2020-11-27T16:45:29.092250",
     "exception": false,
     "start_time": "2020-11-27T16:45:29.006387",
     "status": "completed"
    },
    "tags": []
   },
   "outputs": [],
   "source": [
    "# make all the features numeric before training\n",
    "def process_data(data):\n",
    "    data = pd.get_dummies(data, columns=['cp_time','cp_dose'])\n",
    "    return data"
   ]
  },
  {
   "cell_type": "code",
   "execution_count": 20,
   "metadata": {
    "execution": {
     "iopub.execute_input": "2020-11-27T16:45:29.328348Z",
     "iopub.status.busy": "2020-11-27T16:45:29.262080Z",
     "iopub.status.idle": "2020-11-27T16:45:29.493292Z",
     "shell.execute_reply": "2020-11-27T16:45:29.493900Z"
    },
    "executionInfo": {
     "elapsed": 126139,
     "status": "ok",
     "timestamp": 1605114356736,
     "user": {
      "displayName": "Vladimir Zhuravlev",
      "photoUrl": "",
      "userId": "16372324542816680996"
     },
     "user_tz": -420
    },
    "id": "lcFRstDpU515",
    "outputId": "68d18d46-efda-46d4-bfe4-d641bcbc5fe8",
    "papermill": {
     "duration": 0.328652,
     "end_time": "2020-11-27T16:45:29.494043",
     "exception": false,
     "start_time": "2020-11-27T16:45:29.165391",
     "status": "completed"
    },
    "tags": []
   },
   "outputs": [
    {
     "output_type": "execute_result",
     "data": {
      "text/plain": [
       "877"
      ]
     },
     "metadata": {},
     "execution_count": 20
    }
   ],
   "source": [
    "feature_cols = [c for c in process_data(train).columns if c not in all_target_cols]\n",
    "feature_cols = [c for c in feature_cols if c not in ['kfold', 'sig_id', 'drug_id']] # columns that are used as input to the model\n",
    "num_features = len(feature_cols)\n",
    "num_features"
   ]
  },
  {
   "cell_type": "code",
   "execution_count": 21,
   "metadata": {
    "execution": {
     "iopub.execute_input": "2020-11-27T16:45:29.657898Z",
     "iopub.status.busy": "2020-11-27T16:45:29.656050Z",
     "iopub.status.idle": "2020-11-27T16:45:29.658858Z",
     "shell.execute_reply": "2020-11-27T16:45:29.659323Z"
    },
    "id": "J80ID9aaU518",
    "papermill": {
     "duration": 0.06362,
     "end_time": "2020-11-27T16:45:29.659439",
     "exception": false,
     "start_time": "2020-11-27T16:45:29.595819",
     "status": "completed"
    },
    "tags": []
   },
   "outputs": [],
   "source": [
    "# HyperParameters\n",
    "\n",
    "DEVICE = ('cuda' if torch.cuda.is_available() else 'cpu')\n",
    "EPOCHS = 24\n",
    "BATCH_SIZE = 128\n",
    "\n",
    "WEIGHT_DECAY = {'ALL_TARGETS': 1e-5, 'SCORED_ONLY': 3e-6} # L-2 regularization\n",
    "MAX_LR = {'ALL_TARGETS': 1e-2, 'SCORED_ONLY': 3e-3} # learning rate\n",
    "# scheduler parameters\n",
    "DIV_FACTOR = {'ALL_TARGETS': 1e3, 'SCORED_ONLY': 1e2}\n",
    "PCT_START = 0.1"
   ]
  },
  {
   "cell_type": "code",
   "execution_count": 22,
   "metadata": {
    "execution": {
     "iopub.execute_input": "2020-11-27T16:45:29.769358Z",
     "iopub.status.busy": "2020-11-27T16:45:29.768521Z",
     "iopub.status.idle": "2020-11-27T16:45:29.842834Z",
     "shell.execute_reply": "2020-11-27T16:45:29.843375Z"
    },
    "executionInfo": {
     "elapsed": 126118,
     "status": "ok",
     "timestamp": 1605114356745,
     "user": {
      "displayName": "Vladimir Zhuravlev",
      "photoUrl": "",
      "userId": "16372324542816680996"
     },
     "user_tz": -420
    },
    "id": "7d2R5qElopmx",
    "outputId": "747b3d73-b306-48da-f488-9d7e146ce5dd",
    "papermill": {
     "duration": 0.132112,
     "end_time": "2020-11-27T16:45:29.843574",
     "exception": false,
     "start_time": "2020-11-27T16:45:29.711462",
     "status": "completed"
    },
    "tags": []
   },
   "outputs": [
    {
     "output_type": "execute_result",
     "data": {
      "text/plain": [
       "Model(\n",
       "  (batch_norm1): BatchNorm1d(877, eps=1e-05, momentum=0.1, affine=True, track_running_stats=True)\n",
       "  (dense1): Linear(in_features=877, out_features=1500, bias=True)\n",
       "  (batch_norm2): BatchNorm1d(1500, eps=1e-05, momentum=0.1, affine=True, track_running_stats=True)\n",
       "  (dropout2): Dropout(p=0.5, inplace=False)\n",
       "  (dense2): Linear(in_features=1500, out_features=1250, bias=True)\n",
       "  (batch_norm3): BatchNorm1d(1250, eps=1e-05, momentum=0.1, affine=True, track_running_stats=True)\n",
       "  (dropout3): Dropout(p=0.35, inplace=False)\n",
       "  (dense3): Linear(in_features=1250, out_features=1000, bias=True)\n",
       "  (batch_norm4): BatchNorm1d(1000, eps=1e-05, momentum=0.1, affine=True, track_running_stats=True)\n",
       "  (dropout4): Dropout(p=0.3, inplace=False)\n",
       "  (dense4): Linear(in_features=1000, out_features=750, bias=True)\n",
       "  (batch_norm5): BatchNorm1d(750, eps=1e-05, momentum=0.1, affine=True, track_running_stats=True)\n",
       "  (dropout5): Dropout(p=0.25, inplace=False)\n",
       "  (dense5): Linear(in_features=750, out_features=608, bias=True)\n",
       ")"
      ]
     },
     "metadata": {},
     "execution_count": 22
    }
   ],
   "source": [
    "# Show model architecture\n",
    "model = Model(num_features, num_all_targets)\n",
    "model"
   ]
  },
  {
   "cell_type": "markdown",
   "metadata": {
    "id": "0hidUPH8U51-",
    "papermill": {
     "duration": 0.05345,
     "end_time": "2020-11-27T16:45:29.950360",
     "exception": false,
     "start_time": "2020-11-27T16:45:29.896910",
     "status": "completed"
    },
    "tags": []
   },
   "source": [
    "# Single fold training\n",
    "\n",
    "The method used during the competition to perform cross validation makes folds that stratify for both drug and multi-label, in order to provide a better \n",
    "correlation between CV and LeaderBoard score, it was widely used \n",
    "also by other teams and it was published in this dicussion https://www.kaggle.com/c/lish-moa/discussion/195195"
   ]
  },
  {
   "cell_type": "code",
   "execution_count": 23,
   "metadata": {
    "execution": {
     "iopub.execute_input": "2020-11-27T16:45:30.084110Z",
     "iopub.status.busy": "2020-11-27T16:45:30.083186Z",
     "iopub.status.idle": "2020-11-27T16:45:35.334914Z",
     "shell.execute_reply": "2020-11-27T16:45:35.336278Z"
    },
    "papermill": {
     "duration": 5.331499,
     "end_time": "2020-11-27T16:45:35.336526",
     "exception": false,
     "start_time": "2020-11-27T16:45:30.005027",
     "status": "completed"
    },
    "tags": []
   },
   "outputs": [
    {
     "output_type": "execute_result",
     "data": {
      "text/plain": [
       "         sig_id  cp_time cp_dose       g-0       g-1       g-2       g-3  \\\n",
       "0  id_000644bb2       24      D1  1.134849  0.907687 -0.416385 -0.966814   \n",
       "1  id_000779bfc       72      D1  0.119282  0.681738  0.272399  0.080113   \n",
       "2  id_000a6266a       48      D1  0.779973  0.946463  1.425350 -0.132928   \n",
       "3  id_0015fd391       48      D1 -0.734910 -0.274641 -0.438509  0.759097   \n",
       "4  id_001626bd3       72      D2 -0.452718 -0.477513  0.972316  0.970731   \n",
       "\n",
       "        g-4       g-5       g-6  ...  xanthine_oxidase_inhibitor  \\\n",
       "0 -0.254723 -1.017473 -1.364787  ...                           0   \n",
       "1  1.205169  0.686517  0.313396  ...                           0   \n",
       "2 -0.006122  1.492493  0.235577  ...                           0   \n",
       "3  2.346330 -0.858153 -2.288417  ...                           0   \n",
       "4  1.463427 -0.869555 -0.375501  ...                           0   \n",
       "\n",
       "   xiap_inhibitor    drug_id  kfold_0  kfold_1  kfold_2  kfold_3  kfold_4  \\\n",
       "0               0  b68db1d53        1        3        3        5        0   \n",
       "1               0  df89a8e5a        0        3        6        3        3   \n",
       "2               0  18bb41b2c        5        3        3        1        3   \n",
       "3               0  8c7f86626        4        3        1        2        4   \n",
       "4               0  7cbed3131        6        5        3        3        2   \n",
       "\n",
       "   kfold_5  kfold_6  \n",
       "0        5        2  \n",
       "1        4        1  \n",
       "2        0        4  \n",
       "3        5        2  \n",
       "4        1        4  \n",
       "\n",
       "[5 rows x 1491 columns]"
      ],
      "text/html": "<div>\n<style scoped>\n    .dataframe tbody tr th:only-of-type {\n        vertical-align: middle;\n    }\n\n    .dataframe tbody tr th {\n        vertical-align: top;\n    }\n\n    .dataframe thead th {\n        text-align: right;\n    }\n</style>\n<table border=\"1\" class=\"dataframe\">\n  <thead>\n    <tr style=\"text-align: right;\">\n      <th></th>\n      <th>sig_id</th>\n      <th>cp_time</th>\n      <th>cp_dose</th>\n      <th>g-0</th>\n      <th>g-1</th>\n      <th>g-2</th>\n      <th>g-3</th>\n      <th>g-4</th>\n      <th>g-5</th>\n      <th>g-6</th>\n      <th>...</th>\n      <th>xanthine_oxidase_inhibitor</th>\n      <th>xiap_inhibitor</th>\n      <th>drug_id</th>\n      <th>kfold_0</th>\n      <th>kfold_1</th>\n      <th>kfold_2</th>\n      <th>kfold_3</th>\n      <th>kfold_4</th>\n      <th>kfold_5</th>\n      <th>kfold_6</th>\n    </tr>\n  </thead>\n  <tbody>\n    <tr>\n      <th>0</th>\n      <td>id_000644bb2</td>\n      <td>24</td>\n      <td>D1</td>\n      <td>1.134849</td>\n      <td>0.907687</td>\n      <td>-0.416385</td>\n      <td>-0.966814</td>\n      <td>-0.254723</td>\n      <td>-1.017473</td>\n      <td>-1.364787</td>\n      <td>...</td>\n      <td>0</td>\n      <td>0</td>\n      <td>b68db1d53</td>\n      <td>1</td>\n      <td>3</td>\n      <td>3</td>\n      <td>5</td>\n      <td>0</td>\n      <td>5</td>\n      <td>2</td>\n    </tr>\n    <tr>\n      <th>1</th>\n      <td>id_000779bfc</td>\n      <td>72</td>\n      <td>D1</td>\n      <td>0.119282</td>\n      <td>0.681738</td>\n      <td>0.272399</td>\n      <td>0.080113</td>\n      <td>1.205169</td>\n      <td>0.686517</td>\n      <td>0.313396</td>\n      <td>...</td>\n      <td>0</td>\n      <td>0</td>\n      <td>df89a8e5a</td>\n      <td>0</td>\n      <td>3</td>\n      <td>6</td>\n      <td>3</td>\n      <td>3</td>\n      <td>4</td>\n      <td>1</td>\n    </tr>\n    <tr>\n      <th>2</th>\n      <td>id_000a6266a</td>\n      <td>48</td>\n      <td>D1</td>\n      <td>0.779973</td>\n      <td>0.946463</td>\n      <td>1.425350</td>\n      <td>-0.132928</td>\n      <td>-0.006122</td>\n      <td>1.492493</td>\n      <td>0.235577</td>\n      <td>...</td>\n      <td>0</td>\n      <td>0</td>\n      <td>18bb41b2c</td>\n      <td>5</td>\n      <td>3</td>\n      <td>3</td>\n      <td>1</td>\n      <td>3</td>\n      <td>0</td>\n      <td>4</td>\n    </tr>\n    <tr>\n      <th>3</th>\n      <td>id_0015fd391</td>\n      <td>48</td>\n      <td>D1</td>\n      <td>-0.734910</td>\n      <td>-0.274641</td>\n      <td>-0.438509</td>\n      <td>0.759097</td>\n      <td>2.346330</td>\n      <td>-0.858153</td>\n      <td>-2.288417</td>\n      <td>...</td>\n      <td>0</td>\n      <td>0</td>\n      <td>8c7f86626</td>\n      <td>4</td>\n      <td>3</td>\n      <td>1</td>\n      <td>2</td>\n      <td>4</td>\n      <td>5</td>\n      <td>2</td>\n    </tr>\n    <tr>\n      <th>4</th>\n      <td>id_001626bd3</td>\n      <td>72</td>\n      <td>D2</td>\n      <td>-0.452718</td>\n      <td>-0.477513</td>\n      <td>0.972316</td>\n      <td>0.970731</td>\n      <td>1.463427</td>\n      <td>-0.869555</td>\n      <td>-0.375501</td>\n      <td>...</td>\n      <td>0</td>\n      <td>0</td>\n      <td>7cbed3131</td>\n      <td>6</td>\n      <td>5</td>\n      <td>3</td>\n      <td>3</td>\n      <td>2</td>\n      <td>1</td>\n      <td>4</td>\n    </tr>\n  </tbody>\n</table>\n<p>5 rows × 1491 columns</p>\n</div>"
     },
     "metadata": {},
     "execution_count": 23
    }
   ],
   "source": [
    "from sklearn.model_selection import KFold\n",
    "\n",
    "# make stratified cross validation for different random states (seed)\n",
    "def make_cv_folds(train, SEEDS, NFOLDS, DRUG_THRESH):\n",
    "    vc = train.drug_id.value_counts()\n",
    "    vc1 = vc.loc[vc <= DRUG_THRESH].index.sort_values()\n",
    "    vc2 = vc.loc[vc > DRUG_THRESH].index.sort_values()\n",
    "\n",
    "    for seed_id in range(SEEDS):\n",
    "        kfold_col = 'kfold_{}'.format(seed_id)\n",
    "        \n",
    "        # STRATIFY DRUGS 18X OR LESS\n",
    "        dct1 = {}\n",
    "        dct2 = {}\n",
    "\n",
    "        skf = MultilabelStratifiedKFold(n_splits=NFOLDS, shuffle=True, random_state=seed_id)\n",
    "        tmp = train.groupby('drug_id')[target_cols].mean().loc[vc1]\n",
    "\n",
    "        for fold,(idxT, idxV) in enumerate(skf.split(tmp, tmp[target_cols])):\n",
    "            dd = {k: fold for k in tmp.index[idxV].values}\n",
    "            dct1.update(dd)\n",
    "\n",
    "        # STRATIFY DRUGS MORE THAN 18X\n",
    "        skf = MultilabelStratifiedKFold(n_splits=NFOLDS, shuffle=True, random_state=seed_id)\n",
    "        tmp = train.loc[train.drug_id.isin(vc2)].reset_index(drop=True)\n",
    "\n",
    "        for fold,(idxT, idxV) in enumerate(skf.split(tmp, tmp[target_cols])):\n",
    "            dd = {k: fold for k in tmp.sig_id[idxV].values}\n",
    "            dct2.update(dd)\n",
    "\n",
    "        # ASSIGN FOLDS\n",
    "        train[kfold_col] = train.drug_id.map(dct1)\n",
    "        train.loc[train[kfold_col].isna(), kfold_col] = train.loc[train[kfold_col].isna(), 'sig_id'].map(dct2)\n",
    "        train[kfold_col] = train[kfold_col].astype('int8')\n",
    "        \n",
    "    return train\n",
    "\n",
    "SEEDS = 7\n",
    "NFOLDS = 7\n",
    "DRUG_THRESH = 18\n",
    "\n",
    "train = make_cv_folds(train, SEEDS, NFOLDS, DRUG_THRESH)\n",
    "train.head()"
   ]
  },
  {
   "source": [
    "# Model training\n"
   ],
   "cell_type": "markdown",
   "metadata": {}
  },
  {
   "cell_type": "code",
   "execution_count": 24,
   "metadata": {
    "execution": {
     "iopub.execute_input": "2020-11-27T16:45:35.491283Z",
     "iopub.status.busy": "2020-11-27T16:45:35.489131Z",
     "iopub.status.idle": "2020-11-27T16:45:35.492035Z",
     "shell.execute_reply": "2020-11-27T16:45:35.492629Z"
    },
    "id": "JHTrp23wU51_",
    "papermill": {
     "duration": 0.090611,
     "end_time": "2020-11-27T16:45:35.492769",
     "exception": false,
     "start_time": "2020-11-27T16:45:35.402158",
     "status": "completed"
    },
    "tags": []
   },
   "outputs": [],
   "source": [
    "def run_training(fold_id, seed_id):\n",
    "    seed_everything(seed_id)\n",
    "    \n",
    "    train_ = process_data(train)\n",
    "    test_ = process_data(test)\n",
    "\n",
    "    # get indices for training and validation portions of the dataset\n",
    "    kfold_col = f'kfold_{seed_id}'\n",
    "    trn_idx = train_[train_[kfold_col] != fold_id].index\n",
    "    val_idx = train_[train_[kfold_col] == fold_id].index\n",
    "    \n",
    "    train_df = train_[train_[kfold_col] != fold_id].reset_index(drop=True)\n",
    "    valid_df = train_[train_[kfold_col] == fold_id].reset_index(drop=True)\n",
    "    \n",
    "    def train_model(model, tag_name, target_cols_now, fine_tune_scheduler=None):\n",
    "        x_train, y_train  = train_df[feature_cols].values, train_df[target_cols_now].values\n",
    "        x_valid, y_valid =  valid_df[feature_cols].values, valid_df[target_cols_now].values\n",
    "        \n",
    "        train_dataset = MoADataset(x_train, y_train)\n",
    "        valid_dataset = MoADataset(x_valid, y_valid)\n",
    "\n",
    "        trainloader = torch.utils.data.DataLoader(train_dataset, batch_size=BATCH_SIZE, shuffle=True)\n",
    "        validloader = torch.utils.data.DataLoader(valid_dataset, batch_size=BATCH_SIZE, shuffle=False)\n",
    "        \n",
    "        optimizer = torch.optim.Adam(model.parameters(), lr=1e-3, weight_decay=WEIGHT_DECAY[tag_name])\n",
    "        scheduler = optim.lr_scheduler.OneCycleLR(optimizer=optimizer,\n",
    "                                                  steps_per_epoch=len(trainloader),\n",
    "                                                  pct_start=PCT_START,\n",
    "                                                  div_factor=DIV_FACTOR[tag_name], \n",
    "                                                  max_lr=MAX_LR[tag_name],\n",
    "                                                  epochs=EPOCHS)\n",
    "        \n",
    "        loss_fn = nn.BCEWithLogitsLoss()            # use loss of the competition for the validation dataset\n",
    "        loss_tr = SmoothBCEwLogits(smoothing=0.001) # used smoothed loss for training as described above\n",
    "\n",
    "        oof = np.zeros((len(train), len(target_cols_now)))  # Out of folds, collection of predictions for the whole training dataset, made\n",
    "                                                            # training the models on the other part of the dataset, after we create and train\n",
    "                                                            # a number of models equal to the number of folds we have the complete oof\n",
    "        best_loss = np.inf\n",
    "        \n",
    "        for epoch in range(EPOCHS):\n",
    "            if fine_tune_scheduler is not None:     #fine tune scheduler is used only after pre-training\n",
    "                fine_tune_scheduler.step(epoch, model)  \n",
    "\n",
    "            train_loss = train_fn(model, optimizer, scheduler, loss_tr, trainloader, DEVICE)\n",
    "            valid_loss, valid_preds = valid_fn(model, loss_fn, validloader, DEVICE)\n",
    "            print(f\"SEED: {seed_id}, FOLD: {fold_id}, {tag_name}, EPOCH: {epoch}, train_loss: {train_loss:.6f}, valid_loss: {valid_loss:.6f}\")\n",
    "\n",
    "            if np.isnan(valid_loss):\n",
    "                break\n",
    "            \n",
    "            # save the best model\n",
    "            if valid_loss < best_loss:\n",
    "                best_loss = valid_loss\n",
    "                oof[val_idx] = valid_preds\n",
    "                torch.save(model.state_dict(), output_path + f\"{tag_name}_FOLD{fold_id}_SEED{seed_id}.pth\")\n",
    "\n",
    "        return oof\n",
    "\n",
    "    fine_tune_scheduler = FineTuneScheduler(EPOCHS)\n",
    "\n",
    "    pretrained_model = Model(num_features, num_all_targets)\n",
    "    pretrained_model.to(DEVICE)\n",
    "\n",
    "    # Train on scored + nonscored targets\n",
    "    train_model(pretrained_model, 'ALL_TARGETS', all_target_cols)\n",
    "\n",
    "    # Load the pretrained model with the best loss\n",
    "    pretrained_model = Model(num_features, num_all_targets)\n",
    "    pretrained_model.load_state_dict(torch.load(output_path + f\"ALL_TARGETS_FOLD{fold_id}_SEED{seed_id}.pth\"))\n",
    "    pretrained_model.to(DEVICE)\n",
    "\n",
    "    # Copy model without the top layer\n",
    "    final_model = fine_tune_scheduler.copy_without_top(pretrained_model, num_features, num_all_targets, num_targets)\n",
    "\n",
    "    # Fine-tune the model on scored targets only\n",
    "    oof = train_model(final_model, 'SCORED_ONLY', target_cols, fine_tune_scheduler)\n",
    "\n",
    "    # Load the fine-tuned model with the best loss\n",
    "    model = Model(num_features, num_targets)\n",
    "    model.load_state_dict(torch.load(output_path + f\"SCORED_ONLY_FOLD{fold_id}_SEED{seed_id}.pth\"))\n",
    "    model.to(DEVICE)\n",
    "\n",
    "    #--------------------- PREDICTION---------------------\n",
    "    x_test = test_[feature_cols].values\n",
    "    testdataset = TestDataset(x_test)\n",
    "    testloader = torch.utils.data.DataLoader(testdataset, batch_size=BATCH_SIZE, shuffle=False)\n",
    "    \n",
    "    predictions = np.zeros((len(test_), num_targets))\n",
    "    predictions = inference_fn(model, testloader, DEVICE)\n",
    "    return oof, predictions"
   ]
  },
  {
   "cell_type": "code",
   "execution_count": 25,
   "metadata": {
    "execution": {
     "iopub.execute_input": "2020-11-27T16:45:35.612823Z",
     "iopub.status.busy": "2020-11-27T16:45:35.612024Z",
     "iopub.status.idle": "2020-11-27T16:45:35.616769Z",
     "shell.execute_reply": "2020-11-27T16:45:35.616089Z"
    },
    "id": "GxfyrnG4U52C",
    "papermill": {
     "duration": 0.068896,
     "end_time": "2020-11-27T16:45:35.616907",
     "exception": false,
     "start_time": "2020-11-27T16:45:35.548011",
     "status": "completed"
    },
    "tags": []
   },
   "outputs": [],
   "source": [
    "def run_k_fold(NFOLDS, seed_id):\n",
    "    oof = np.zeros((len(train), len(target_cols)))\n",
    "    predictions = np.zeros((len(test), len(target_cols)))\n",
    "    \n",
    "    for fold_id in range(NFOLDS):\n",
    "        oof_, pred_ = run_training(fold_id, seed_id)\n",
    "        # average the predictions over every folds\n",
    "        predictions += pred_ / NFOLDS\n",
    "        oof += oof_\n",
    "        \n",
    "    return oof, predictions"
   ]
  },
  {
   "cell_type": "code",
   "execution_count": 26,
   "metadata": {
    "execution": {
     "iopub.execute_input": "2020-11-27T16:45:35.741028Z",
     "iopub.status.busy": "2020-11-27T16:45:35.739389Z",
     "iopub.status.idle": "2020-11-27T18:03:53.012296Z",
     "shell.execute_reply": "2020-11-27T18:03:53.011155Z"
    },
    "executionInfo": {
     "elapsed": 4373947,
     "status": "ok",
     "timestamp": 1605118604618,
     "user": {
      "displayName": "Vladimir Zhuravlev",
      "photoUrl": "",
      "userId": "16372324542816680996"
     },
     "user_tz": -420
    },
    "id": "Tix4uSLRU52D",
    "outputId": "7fba4206-ad29-4c55-960a-14abc3ecebdd",
    "papermill": {
     "duration": 4697.339325,
     "end_time": "2020-11-27T18:03:53.012459",
     "exception": false,
     "start_time": "2020-11-27T16:45:35.673134",
     "status": "completed"
    },
    "tags": []
   },
   "outputs": [
    {
     "output_type": "stream",
     "name": "stdout",
     "text": [
      "SEED: 0, FOLD: 0, ALL_TARGETS, EPOCH: 0, train_loss: 0.495101, valid_loss: 0.022211\n"
     ]
    },
    {
     "output_type": "error",
     "ename": "KeyboardInterrupt",
     "evalue": "",
     "traceback": [
      "\u001b[1;31m---------------------------------------------------------------------------\u001b[0m",
      "\u001b[1;31mKeyboardInterrupt\u001b[0m                         Traceback (most recent call last)",
      "\u001b[1;32m<ipython-input-26-a4bcc7ac4c2d>\u001b[0m in \u001b[0;36m<module>\u001b[1;34m\u001b[0m\n\u001b[0;32m      9\u001b[0m \u001b[1;33m\u001b[0m\u001b[0m\n\u001b[0;32m     10\u001b[0m \u001b[1;32mfor\u001b[0m \u001b[0mseed_id\u001b[0m \u001b[1;32min\u001b[0m \u001b[0mSEED\u001b[0m\u001b[1;33m:\u001b[0m\u001b[1;33m\u001b[0m\u001b[1;33m\u001b[0m\u001b[0m\n\u001b[1;32m---> 11\u001b[1;33m     \u001b[0moof_\u001b[0m\u001b[1;33m,\u001b[0m \u001b[0mpredictions_\u001b[0m \u001b[1;33m=\u001b[0m \u001b[0mrun_k_fold\u001b[0m\u001b[1;33m(\u001b[0m\u001b[0mNFOLDS\u001b[0m\u001b[1;33m,\u001b[0m \u001b[0mseed_id\u001b[0m\u001b[1;33m)\u001b[0m\u001b[1;33m\u001b[0m\u001b[1;33m\u001b[0m\u001b[0m\n\u001b[0m\u001b[0;32m     12\u001b[0m     \u001b[0moof\u001b[0m \u001b[1;33m+=\u001b[0m \u001b[0moof_\u001b[0m \u001b[1;33m/\u001b[0m \u001b[0mlen\u001b[0m\u001b[1;33m(\u001b[0m\u001b[0mSEED\u001b[0m\u001b[1;33m)\u001b[0m\u001b[1;33m\u001b[0m\u001b[1;33m\u001b[0m\u001b[0m\n\u001b[0;32m     13\u001b[0m     \u001b[0mpredictions\u001b[0m \u001b[1;33m+=\u001b[0m \u001b[0mpredictions_\u001b[0m \u001b[1;33m/\u001b[0m \u001b[0mlen\u001b[0m\u001b[1;33m(\u001b[0m\u001b[0mSEED\u001b[0m\u001b[1;33m)\u001b[0m\u001b[1;33m\u001b[0m\u001b[1;33m\u001b[0m\u001b[0m\n",
      "\u001b[1;32m<ipython-input-25-0458eaaa18ca>\u001b[0m in \u001b[0;36mrun_k_fold\u001b[1;34m(NFOLDS, seed_id)\u001b[0m\n\u001b[0;32m      4\u001b[0m \u001b[1;33m\u001b[0m\u001b[0m\n\u001b[0;32m      5\u001b[0m     \u001b[1;32mfor\u001b[0m \u001b[0mfold_id\u001b[0m \u001b[1;32min\u001b[0m \u001b[0mrange\u001b[0m\u001b[1;33m(\u001b[0m\u001b[0mNFOLDS\u001b[0m\u001b[1;33m)\u001b[0m\u001b[1;33m:\u001b[0m\u001b[1;33m\u001b[0m\u001b[1;33m\u001b[0m\u001b[0m\n\u001b[1;32m----> 6\u001b[1;33m         \u001b[0moof_\u001b[0m\u001b[1;33m,\u001b[0m \u001b[0mpred_\u001b[0m \u001b[1;33m=\u001b[0m \u001b[0mrun_training\u001b[0m\u001b[1;33m(\u001b[0m\u001b[0mfold_id\u001b[0m\u001b[1;33m,\u001b[0m \u001b[0mseed_id\u001b[0m\u001b[1;33m)\u001b[0m\u001b[1;33m\u001b[0m\u001b[1;33m\u001b[0m\u001b[0m\n\u001b[0m\u001b[0;32m      7\u001b[0m         \u001b[0mpredictions\u001b[0m \u001b[1;33m+=\u001b[0m \u001b[0mpred_\u001b[0m \u001b[1;33m/\u001b[0m \u001b[0mNFOLDS\u001b[0m\u001b[1;33m\u001b[0m\u001b[1;33m\u001b[0m\u001b[0m\n\u001b[0;32m      8\u001b[0m         \u001b[0moof\u001b[0m \u001b[1;33m+=\u001b[0m \u001b[0moof_\u001b[0m\u001b[1;33m\u001b[0m\u001b[1;33m\u001b[0m\u001b[0m\n",
      "\u001b[1;32m<ipython-input-24-d534e7404f6f>\u001b[0m in \u001b[0;36mrun_training\u001b[1;34m(fold_id, seed_id)\u001b[0m\n\u001b[0;32m     60\u001b[0m \u001b[1;33m\u001b[0m\u001b[0m\n\u001b[0;32m     61\u001b[0m     \u001b[1;31m# Train on scored + nonscored targets\u001b[0m\u001b[1;33m\u001b[0m\u001b[1;33m\u001b[0m\u001b[1;33m\u001b[0m\u001b[0m\n\u001b[1;32m---> 62\u001b[1;33m     \u001b[0mtrain_model\u001b[0m\u001b[1;33m(\u001b[0m\u001b[0mpretrained_model\u001b[0m\u001b[1;33m,\u001b[0m \u001b[1;34m'ALL_TARGETS'\u001b[0m\u001b[1;33m,\u001b[0m \u001b[0mall_target_cols\u001b[0m\u001b[1;33m)\u001b[0m\u001b[1;33m\u001b[0m\u001b[1;33m\u001b[0m\u001b[0m\n\u001b[0m\u001b[0;32m     63\u001b[0m \u001b[1;33m\u001b[0m\u001b[0m\n\u001b[0;32m     64\u001b[0m     \u001b[1;31m# Load the pretrained model with the best loss\u001b[0m\u001b[1;33m\u001b[0m\u001b[1;33m\u001b[0m\u001b[1;33m\u001b[0m\u001b[0m\n",
      "\u001b[1;32m<ipython-input-24-d534e7404f6f>\u001b[0m in \u001b[0;36mtrain_model\u001b[1;34m(model, tag_name, target_cols_now, fine_tune_scheduler)\u001b[0m\n\u001b[0;32m     40\u001b[0m                 \u001b[0mfine_tune_scheduler\u001b[0m\u001b[1;33m.\u001b[0m\u001b[0mstep\u001b[0m\u001b[1;33m(\u001b[0m\u001b[0mepoch\u001b[0m\u001b[1;33m,\u001b[0m \u001b[0mmodel\u001b[0m\u001b[1;33m)\u001b[0m\u001b[1;33m\u001b[0m\u001b[1;33m\u001b[0m\u001b[0m\n\u001b[0;32m     41\u001b[0m \u001b[1;33m\u001b[0m\u001b[0m\n\u001b[1;32m---> 42\u001b[1;33m             \u001b[0mtrain_loss\u001b[0m \u001b[1;33m=\u001b[0m \u001b[0mtrain_fn\u001b[0m\u001b[1;33m(\u001b[0m\u001b[0mmodel\u001b[0m\u001b[1;33m,\u001b[0m \u001b[0moptimizer\u001b[0m\u001b[1;33m,\u001b[0m \u001b[0mscheduler\u001b[0m\u001b[1;33m,\u001b[0m \u001b[0mloss_tr\u001b[0m\u001b[1;33m,\u001b[0m \u001b[0mtrainloader\u001b[0m\u001b[1;33m,\u001b[0m \u001b[0mDEVICE\u001b[0m\u001b[1;33m)\u001b[0m\u001b[1;33m\u001b[0m\u001b[1;33m\u001b[0m\u001b[0m\n\u001b[0m\u001b[0;32m     43\u001b[0m             \u001b[0mvalid_loss\u001b[0m\u001b[1;33m,\u001b[0m \u001b[0mvalid_preds\u001b[0m \u001b[1;33m=\u001b[0m \u001b[0mvalid_fn\u001b[0m\u001b[1;33m(\u001b[0m\u001b[0mmodel\u001b[0m\u001b[1;33m,\u001b[0m \u001b[0mloss_fn\u001b[0m\u001b[1;33m,\u001b[0m \u001b[0mvalidloader\u001b[0m\u001b[1;33m,\u001b[0m \u001b[0mDEVICE\u001b[0m\u001b[1;33m)\u001b[0m\u001b[1;33m\u001b[0m\u001b[1;33m\u001b[0m\u001b[0m\n\u001b[0;32m     44\u001b[0m             \u001b[0mprint\u001b[0m\u001b[1;33m(\u001b[0m\u001b[1;34mf\"SEED: {seed_id}, FOLD: {fold_id}, {tag_name}, EPOCH: {epoch}, train_loss: {train_loss:.6f}, valid_loss: {valid_loss:.6f}\"\u001b[0m\u001b[1;33m)\u001b[0m\u001b[1;33m\u001b[0m\u001b[1;33m\u001b[0m\u001b[0m\n",
      "\u001b[1;32m<ipython-input-15-5fa21443dbb9>\u001b[0m in \u001b[0;36mtrain_fn\u001b[1;34m(model, optimizer, scheduler, loss_fn, dataloader, device)\u001b[0m\n\u001b[0;32m      6\u001b[0m         \u001b[0moptimizer\u001b[0m\u001b[1;33m.\u001b[0m\u001b[0mzero_grad\u001b[0m\u001b[1;33m(\u001b[0m\u001b[1;33m)\u001b[0m\u001b[1;33m\u001b[0m\u001b[1;33m\u001b[0m\u001b[0m\n\u001b[0;32m      7\u001b[0m         \u001b[0minputs\u001b[0m\u001b[1;33m,\u001b[0m \u001b[0mtargets\u001b[0m \u001b[1;33m=\u001b[0m \u001b[0mdata\u001b[0m\u001b[1;33m[\u001b[0m\u001b[1;34m'x'\u001b[0m\u001b[1;33m]\u001b[0m\u001b[1;33m.\u001b[0m\u001b[0mto\u001b[0m\u001b[1;33m(\u001b[0m\u001b[0mdevice\u001b[0m\u001b[1;33m)\u001b[0m\u001b[1;33m,\u001b[0m \u001b[0mdata\u001b[0m\u001b[1;33m[\u001b[0m\u001b[1;34m'y'\u001b[0m\u001b[1;33m]\u001b[0m\u001b[1;33m.\u001b[0m\u001b[0mto\u001b[0m\u001b[1;33m(\u001b[0m\u001b[0mdevice\u001b[0m\u001b[1;33m)\u001b[0m\u001b[1;33m\u001b[0m\u001b[1;33m\u001b[0m\u001b[0m\n\u001b[1;32m----> 8\u001b[1;33m         \u001b[0moutputs\u001b[0m \u001b[1;33m=\u001b[0m \u001b[0mmodel\u001b[0m\u001b[1;33m(\u001b[0m\u001b[0minputs\u001b[0m\u001b[1;33m)\u001b[0m\u001b[1;33m\u001b[0m\u001b[1;33m\u001b[0m\u001b[0m\n\u001b[0m\u001b[0;32m      9\u001b[0m         \u001b[0mloss\u001b[0m \u001b[1;33m=\u001b[0m \u001b[0mloss_fn\u001b[0m\u001b[1;33m(\u001b[0m\u001b[0moutputs\u001b[0m\u001b[1;33m,\u001b[0m \u001b[0mtargets\u001b[0m\u001b[1;33m)\u001b[0m\u001b[1;33m\u001b[0m\u001b[1;33m\u001b[0m\u001b[0m\n\u001b[0;32m     10\u001b[0m         \u001b[0mloss\u001b[0m\u001b[1;33m.\u001b[0m\u001b[0mbackward\u001b[0m\u001b[1;33m(\u001b[0m\u001b[1;33m)\u001b[0m\u001b[1;33m\u001b[0m\u001b[1;33m\u001b[0m\u001b[0m\n",
      "\u001b[1;32m~\\anaconda3\\lib\\site-packages\\torch\\nn\\modules\\module.py\u001b[0m in \u001b[0;36m_call_impl\u001b[1;34m(self, *input, **kwargs)\u001b[0m\n\u001b[0;32m    725\u001b[0m             \u001b[0mresult\u001b[0m \u001b[1;33m=\u001b[0m \u001b[0mself\u001b[0m\u001b[1;33m.\u001b[0m\u001b[0m_slow_forward\u001b[0m\u001b[1;33m(\u001b[0m\u001b[1;33m*\u001b[0m\u001b[0minput\u001b[0m\u001b[1;33m,\u001b[0m \u001b[1;33m**\u001b[0m\u001b[0mkwargs\u001b[0m\u001b[1;33m)\u001b[0m\u001b[1;33m\u001b[0m\u001b[1;33m\u001b[0m\u001b[0m\n\u001b[0;32m    726\u001b[0m         \u001b[1;32melse\u001b[0m\u001b[1;33m:\u001b[0m\u001b[1;33m\u001b[0m\u001b[1;33m\u001b[0m\u001b[0m\n\u001b[1;32m--> 727\u001b[1;33m             \u001b[0mresult\u001b[0m \u001b[1;33m=\u001b[0m \u001b[0mself\u001b[0m\u001b[1;33m.\u001b[0m\u001b[0mforward\u001b[0m\u001b[1;33m(\u001b[0m\u001b[1;33m*\u001b[0m\u001b[0minput\u001b[0m\u001b[1;33m,\u001b[0m \u001b[1;33m**\u001b[0m\u001b[0mkwargs\u001b[0m\u001b[1;33m)\u001b[0m\u001b[1;33m\u001b[0m\u001b[1;33m\u001b[0m\u001b[0m\n\u001b[0m\u001b[0;32m    728\u001b[0m         for hook in itertools.chain(\n\u001b[0;32m    729\u001b[0m                 \u001b[0m_global_forward_hooks\u001b[0m\u001b[1;33m.\u001b[0m\u001b[0mvalues\u001b[0m\u001b[1;33m(\u001b[0m\u001b[1;33m)\u001b[0m\u001b[1;33m,\u001b[0m\u001b[1;33m\u001b[0m\u001b[1;33m\u001b[0m\u001b[0m\n",
      "\u001b[1;32m<ipython-input-17-d3bdee380896>\u001b[0m in \u001b[0;36mforward\u001b[1;34m(self, x)\u001b[0m\n\u001b[0;32m     33\u001b[0m \u001b[1;33m\u001b[0m\u001b[0m\n\u001b[0;32m     34\u001b[0m         \u001b[0mx\u001b[0m \u001b[1;33m=\u001b[0m \u001b[0mself\u001b[0m\u001b[1;33m.\u001b[0m\u001b[0mbatch_norm3\u001b[0m\u001b[1;33m(\u001b[0m\u001b[0mx\u001b[0m\u001b[1;33m)\u001b[0m\u001b[1;33m\u001b[0m\u001b[1;33m\u001b[0m\u001b[0m\n\u001b[1;32m---> 35\u001b[1;33m         \u001b[0mx\u001b[0m \u001b[1;33m=\u001b[0m \u001b[0mself\u001b[0m\u001b[1;33m.\u001b[0m\u001b[0mdropout3\u001b[0m\u001b[1;33m(\u001b[0m\u001b[0mx\u001b[0m\u001b[1;33m)\u001b[0m\u001b[1;33m\u001b[0m\u001b[1;33m\u001b[0m\u001b[0m\n\u001b[0m\u001b[0;32m     36\u001b[0m         \u001b[0mx\u001b[0m \u001b[1;33m=\u001b[0m \u001b[0mF\u001b[0m\u001b[1;33m.\u001b[0m\u001b[0mleaky_relu\u001b[0m\u001b[1;33m(\u001b[0m\u001b[0mself\u001b[0m\u001b[1;33m.\u001b[0m\u001b[0mdense3\u001b[0m\u001b[1;33m(\u001b[0m\u001b[0mx\u001b[0m\u001b[1;33m)\u001b[0m\u001b[1;33m)\u001b[0m\u001b[1;33m\u001b[0m\u001b[1;33m\u001b[0m\u001b[0m\n\u001b[0;32m     37\u001b[0m \u001b[1;33m\u001b[0m\u001b[0m\n",
      "\u001b[1;32m~\\anaconda3\\lib\\site-packages\\torch\\nn\\modules\\module.py\u001b[0m in \u001b[0;36m_call_impl\u001b[1;34m(self, *input, **kwargs)\u001b[0m\n\u001b[0;32m    725\u001b[0m             \u001b[0mresult\u001b[0m \u001b[1;33m=\u001b[0m \u001b[0mself\u001b[0m\u001b[1;33m.\u001b[0m\u001b[0m_slow_forward\u001b[0m\u001b[1;33m(\u001b[0m\u001b[1;33m*\u001b[0m\u001b[0minput\u001b[0m\u001b[1;33m,\u001b[0m \u001b[1;33m**\u001b[0m\u001b[0mkwargs\u001b[0m\u001b[1;33m)\u001b[0m\u001b[1;33m\u001b[0m\u001b[1;33m\u001b[0m\u001b[0m\n\u001b[0;32m    726\u001b[0m         \u001b[1;32melse\u001b[0m\u001b[1;33m:\u001b[0m\u001b[1;33m\u001b[0m\u001b[1;33m\u001b[0m\u001b[0m\n\u001b[1;32m--> 727\u001b[1;33m             \u001b[0mresult\u001b[0m \u001b[1;33m=\u001b[0m \u001b[0mself\u001b[0m\u001b[1;33m.\u001b[0m\u001b[0mforward\u001b[0m\u001b[1;33m(\u001b[0m\u001b[1;33m*\u001b[0m\u001b[0minput\u001b[0m\u001b[1;33m,\u001b[0m \u001b[1;33m**\u001b[0m\u001b[0mkwargs\u001b[0m\u001b[1;33m)\u001b[0m\u001b[1;33m\u001b[0m\u001b[1;33m\u001b[0m\u001b[0m\n\u001b[0m\u001b[0;32m    728\u001b[0m         for hook in itertools.chain(\n\u001b[0;32m    729\u001b[0m                 \u001b[0m_global_forward_hooks\u001b[0m\u001b[1;33m.\u001b[0m\u001b[0mvalues\u001b[0m\u001b[1;33m(\u001b[0m\u001b[1;33m)\u001b[0m\u001b[1;33m,\u001b[0m\u001b[1;33m\u001b[0m\u001b[1;33m\u001b[0m\u001b[0m\n",
      "\u001b[1;32m~\\anaconda3\\lib\\site-packages\\torch\\nn\\modules\\dropout.py\u001b[0m in \u001b[0;36mforward\u001b[1;34m(self, input)\u001b[0m\n\u001b[0;32m     56\u001b[0m \u001b[1;33m\u001b[0m\u001b[0m\n\u001b[0;32m     57\u001b[0m     \u001b[1;32mdef\u001b[0m \u001b[0mforward\u001b[0m\u001b[1;33m(\u001b[0m\u001b[0mself\u001b[0m\u001b[1;33m,\u001b[0m \u001b[0minput\u001b[0m\u001b[1;33m:\u001b[0m \u001b[0mTensor\u001b[0m\u001b[1;33m)\u001b[0m \u001b[1;33m->\u001b[0m \u001b[0mTensor\u001b[0m\u001b[1;33m:\u001b[0m\u001b[1;33m\u001b[0m\u001b[1;33m\u001b[0m\u001b[0m\n\u001b[1;32m---> 58\u001b[1;33m         \u001b[1;32mreturn\u001b[0m \u001b[0mF\u001b[0m\u001b[1;33m.\u001b[0m\u001b[0mdropout\u001b[0m\u001b[1;33m(\u001b[0m\u001b[0minput\u001b[0m\u001b[1;33m,\u001b[0m \u001b[0mself\u001b[0m\u001b[1;33m.\u001b[0m\u001b[0mp\u001b[0m\u001b[1;33m,\u001b[0m \u001b[0mself\u001b[0m\u001b[1;33m.\u001b[0m\u001b[0mtraining\u001b[0m\u001b[1;33m,\u001b[0m \u001b[0mself\u001b[0m\u001b[1;33m.\u001b[0m\u001b[0minplace\u001b[0m\u001b[1;33m)\u001b[0m\u001b[1;33m\u001b[0m\u001b[1;33m\u001b[0m\u001b[0m\n\u001b[0m\u001b[0;32m     59\u001b[0m \u001b[1;33m\u001b[0m\u001b[0m\n\u001b[0;32m     60\u001b[0m \u001b[1;33m\u001b[0m\u001b[0m\n",
      "\u001b[1;32m~\\anaconda3\\lib\\site-packages\\torch\\nn\\functional.py\u001b[0m in \u001b[0;36mdropout\u001b[1;34m(input, p, training, inplace)\u001b[0m\n\u001b[0;32m    981\u001b[0m     return (_VF.dropout_(input, p, training)\n\u001b[0;32m    982\u001b[0m             \u001b[1;32mif\u001b[0m \u001b[0minplace\u001b[0m\u001b[1;33m\u001b[0m\u001b[1;33m\u001b[0m\u001b[0m\n\u001b[1;32m--> 983\u001b[1;33m             else _VF.dropout(input, p, training))\n\u001b[0m\u001b[0;32m    984\u001b[0m \u001b[1;33m\u001b[0m\u001b[0m\n\u001b[0;32m    985\u001b[0m \u001b[1;33m\u001b[0m\u001b[0m\n",
      "\u001b[1;31mKeyboardInterrupt\u001b[0m: "
     ]
    }
   ],
   "source": [
    "from time import time\n",
    "\n",
    "# Averaging the predictions on multiple SEEDS\n",
    "SEED = [0, 1, 2, 3, 4, 5, 6]\n",
    "oof = np.zeros((len(train), len(target_cols)))\n",
    "predictions = np.zeros((len(test), len(target_cols)))\n",
    "\n",
    "time_begin = time()\n",
    "\n",
    "for seed_id in SEED:\n",
    "    oof_, predictions_ = run_k_fold(NFOLDS, seed_id)\n",
    "    oof += oof_ / len(SEED)\n",
    "    predictions += predictions_ / len(SEED)\n",
    "\n",
    "time_diff = time() - time_begin\n",
    "\n",
    "train[target_cols] = oof\n",
    "test[target_cols] = predictions"
   ]
  },
  {
   "cell_type": "code",
   "execution_count": 41,
   "metadata": {
    "execution": {
     "iopub.execute_input": "2020-11-27T18:03:54.831765Z",
     "iopub.status.busy": "2020-11-27T18:03:54.823400Z",
     "iopub.status.idle": "2020-11-27T18:03:54.863563Z",
     "shell.execute_reply": "2020-11-27T18:03:54.862932Z"
    },
    "papermill": {
     "duration": 0.937901,
     "end_time": "2020-11-27T18:03:54.863697",
     "exception": false,
     "start_time": "2020-11-27T18:03:53.925796",
     "status": "completed"
    },
    "tags": []
   },
   "outputs": [],
   "source": [
    "#saving the results for CV\n",
    "import pickle\n",
    "file = open(output_path + \"oof\", \"wb\")\n",
    "pickle.dump(oof, file)\n",
    "file.close()"
   ]
  },
  {
   "cell_type": "code",
   "execution_count": 43,
   "metadata": {
    "execution": {
     "iopub.execute_input": "2020-11-27T18:03:58.790338Z",
     "iopub.status.busy": "2020-11-27T18:03:58.789325Z",
     "iopub.status.idle": "2020-11-27T18:03:58.795029Z",
     "shell.execute_reply": "2020-11-27T18:03:58.794501Z"
    },
    "executionInfo": {
     "elapsed": 4373987,
     "status": "ok",
     "timestamp": 1605118604695,
     "user": {
      "displayName": "Vladimir Zhuravlev",
      "photoUrl": "",
      "userId": "16372324542816680996"
     },
     "user_tz": -420
    },
    "id": "venT86yMU52F",
    "outputId": "c6b013a7-b986-4677-e12b-6a9e965f69fb",
    "papermill": {
     "duration": 0.930726,
     "end_time": "2020-11-27T18:03:58.795131",
     "exception": false,
     "start_time": "2020-11-27T18:03:57.864405",
     "status": "completed"
    },
    "tags": []
   },
   "outputs": [
    {
     "data": {
      "text/html": [
       "<div>\n",
       "<style scoped>\n",
       "    .dataframe tbody tr th:only-of-type {\n",
       "        vertical-align: middle;\n",
       "    }\n",
       "\n",
       "    .dataframe tbody tr th {\n",
       "        vertical-align: top;\n",
       "    }\n",
       "\n",
       "    .dataframe thead th {\n",
       "        text-align: right;\n",
       "    }\n",
       "</style>\n",
       "<table border=\"1\" class=\"dataframe\">\n",
       "  <thead>\n",
       "    <tr style=\"text-align: right;\">\n",
       "      <th></th>\n",
       "      <th>sig_id</th>\n",
       "      <th>5-alpha_reductase_inhibitor</th>\n",
       "      <th>11-beta-hsd1_inhibitor</th>\n",
       "      <th>acat_inhibitor</th>\n",
       "      <th>acetylcholine_receptor_agonist</th>\n",
       "      <th>acetylcholine_receptor_antagonist</th>\n",
       "      <th>acetylcholinesterase_inhibitor</th>\n",
       "      <th>adenosine_receptor_agonist</th>\n",
       "      <th>adenosine_receptor_antagonist</th>\n",
       "      <th>adenylyl_cyclase_activator</th>\n",
       "      <th>...</th>\n",
       "      <th>tropomyosin_receptor_kinase_inhibitor</th>\n",
       "      <th>trpv_agonist</th>\n",
       "      <th>trpv_antagonist</th>\n",
       "      <th>tubulin_inhibitor</th>\n",
       "      <th>tyrosine_kinase_inhibitor</th>\n",
       "      <th>ubiquitin_specific_protease_inhibitor</th>\n",
       "      <th>vegfr_inhibitor</th>\n",
       "      <th>vitamin_b</th>\n",
       "      <th>vitamin_d_receptor_agonist</th>\n",
       "      <th>wnt_inhibitor</th>\n",
       "    </tr>\n",
       "  </thead>\n",
       "  <tbody>\n",
       "    <tr>\n",
       "      <th>0</th>\n",
       "      <td>id_000644bb2</td>\n",
       "      <td>0</td>\n",
       "      <td>0</td>\n",
       "      <td>0</td>\n",
       "      <td>0</td>\n",
       "      <td>0</td>\n",
       "      <td>0</td>\n",
       "      <td>0</td>\n",
       "      <td>0</td>\n",
       "      <td>0</td>\n",
       "      <td>...</td>\n",
       "      <td>0</td>\n",
       "      <td>0</td>\n",
       "      <td>0</td>\n",
       "      <td>0</td>\n",
       "      <td>0</td>\n",
       "      <td>0</td>\n",
       "      <td>0</td>\n",
       "      <td>0</td>\n",
       "      <td>0</td>\n",
       "      <td>0</td>\n",
       "    </tr>\n",
       "    <tr>\n",
       "      <th>1</th>\n",
       "      <td>id_000779bfc</td>\n",
       "      <td>0</td>\n",
       "      <td>0</td>\n",
       "      <td>0</td>\n",
       "      <td>0</td>\n",
       "      <td>0</td>\n",
       "      <td>0</td>\n",
       "      <td>0</td>\n",
       "      <td>0</td>\n",
       "      <td>0</td>\n",
       "      <td>...</td>\n",
       "      <td>0</td>\n",
       "      <td>0</td>\n",
       "      <td>0</td>\n",
       "      <td>0</td>\n",
       "      <td>0</td>\n",
       "      <td>0</td>\n",
       "      <td>0</td>\n",
       "      <td>0</td>\n",
       "      <td>0</td>\n",
       "      <td>0</td>\n",
       "    </tr>\n",
       "    <tr>\n",
       "      <th>2</th>\n",
       "      <td>id_000a6266a</td>\n",
       "      <td>0</td>\n",
       "      <td>0</td>\n",
       "      <td>0</td>\n",
       "      <td>0</td>\n",
       "      <td>0</td>\n",
       "      <td>0</td>\n",
       "      <td>0</td>\n",
       "      <td>0</td>\n",
       "      <td>0</td>\n",
       "      <td>...</td>\n",
       "      <td>0</td>\n",
       "      <td>0</td>\n",
       "      <td>0</td>\n",
       "      <td>0</td>\n",
       "      <td>0</td>\n",
       "      <td>0</td>\n",
       "      <td>0</td>\n",
       "      <td>0</td>\n",
       "      <td>0</td>\n",
       "      <td>0</td>\n",
       "    </tr>\n",
       "    <tr>\n",
       "      <th>3</th>\n",
       "      <td>id_0015fd391</td>\n",
       "      <td>0</td>\n",
       "      <td>0</td>\n",
       "      <td>0</td>\n",
       "      <td>0</td>\n",
       "      <td>0</td>\n",
       "      <td>0</td>\n",
       "      <td>0</td>\n",
       "      <td>0</td>\n",
       "      <td>0</td>\n",
       "      <td>...</td>\n",
       "      <td>0</td>\n",
       "      <td>0</td>\n",
       "      <td>0</td>\n",
       "      <td>0</td>\n",
       "      <td>0</td>\n",
       "      <td>0</td>\n",
       "      <td>0</td>\n",
       "      <td>0</td>\n",
       "      <td>0</td>\n",
       "      <td>0</td>\n",
       "    </tr>\n",
       "    <tr>\n",
       "      <th>4</th>\n",
       "      <td>id_001626bd3</td>\n",
       "      <td>0</td>\n",
       "      <td>0</td>\n",
       "      <td>0</td>\n",
       "      <td>0</td>\n",
       "      <td>0</td>\n",
       "      <td>0</td>\n",
       "      <td>0</td>\n",
       "      <td>0</td>\n",
       "      <td>0</td>\n",
       "      <td>...</td>\n",
       "      <td>0</td>\n",
       "      <td>0</td>\n",
       "      <td>0</td>\n",
       "      <td>0</td>\n",
       "      <td>0</td>\n",
       "      <td>0</td>\n",
       "      <td>0</td>\n",
       "      <td>0</td>\n",
       "      <td>0</td>\n",
       "      <td>0</td>\n",
       "    </tr>\n",
       "  </tbody>\n",
       "</table>\n",
       "<p>5 rows × 207 columns</p>\n",
       "</div>"
      ],
      "text/plain": [
       "         sig_id  5-alpha_reductase_inhibitor  11-beta-hsd1_inhibitor  \\\n",
       "0  id_000644bb2                            0                       0   \n",
       "1  id_000779bfc                            0                       0   \n",
       "2  id_000a6266a                            0                       0   \n",
       "3  id_0015fd391                            0                       0   \n",
       "4  id_001626bd3                            0                       0   \n",
       "\n",
       "   acat_inhibitor  acetylcholine_receptor_agonist  \\\n",
       "0               0                               0   \n",
       "1               0                               0   \n",
       "2               0                               0   \n",
       "3               0                               0   \n",
       "4               0                               0   \n",
       "\n",
       "   acetylcholine_receptor_antagonist  acetylcholinesterase_inhibitor  \\\n",
       "0                                  0                               0   \n",
       "1                                  0                               0   \n",
       "2                                  0                               0   \n",
       "3                                  0                               0   \n",
       "4                                  0                               0   \n",
       "\n",
       "   adenosine_receptor_agonist  adenosine_receptor_antagonist  \\\n",
       "0                           0                              0   \n",
       "1                           0                              0   \n",
       "2                           0                              0   \n",
       "3                           0                              0   \n",
       "4                           0                              0   \n",
       "\n",
       "   adenylyl_cyclase_activator  ...  tropomyosin_receptor_kinase_inhibitor  \\\n",
       "0                           0  ...                                      0   \n",
       "1                           0  ...                                      0   \n",
       "2                           0  ...                                      0   \n",
       "3                           0  ...                                      0   \n",
       "4                           0  ...                                      0   \n",
       "\n",
       "   trpv_agonist  trpv_antagonist  tubulin_inhibitor  \\\n",
       "0             0                0                  0   \n",
       "1             0                0                  0   \n",
       "2             0                0                  0   \n",
       "3             0                0                  0   \n",
       "4             0                0                  0   \n",
       "\n",
       "   tyrosine_kinase_inhibitor  ubiquitin_specific_protease_inhibitor  \\\n",
       "0                          0                                      0   \n",
       "1                          0                                      0   \n",
       "2                          0                                      0   \n",
       "3                          0                                      0   \n",
       "4                          0                                      0   \n",
       "\n",
       "   vegfr_inhibitor  vitamin_b  vitamin_d_receptor_agonist  wnt_inhibitor  \n",
       "0                0          0                           0              0  \n",
       "1                0          0                           0              0  \n",
       "2                0          0                           0              0  \n",
       "3                0          0                           0              0  \n",
       "4                0          0                           0              0  \n",
       "\n",
       "[5 rows x 207 columns]"
      ]
     },
     "execution_count": 43,
     "metadata": {},
     "output_type": "execute_result"
    }
   ],
   "source": [
    "train_targets_scored.head()"
   ]
  },
  {
   "cell_type": "code",
   "execution_count": 44,
   "metadata": {
    "execution": {
     "iopub.execute_input": "2020-11-27T18:04:00.571276Z",
     "iopub.status.busy": "2020-11-27T18:04:00.570594Z",
     "iopub.status.idle": "2020-11-27T18:04:00.573517Z",
     "shell.execute_reply": "2020-11-27T18:04:00.574023Z"
    },
    "executionInfo": {
     "elapsed": 4373977,
     "status": "ok",
     "timestamp": 1605118604700,
     "user": {
      "displayName": "Vladimir Zhuravlev",
      "photoUrl": "",
      "userId": "16372324542816680996"
     },
     "user_tz": -420
    },
    "id": "lSATXXgZU52H",
    "outputId": "9092dbc1-8c0b-4669-db3e-5f22fb92f860",
    "papermill": {
     "duration": 0.889916,
     "end_time": "2020-11-27T18:04:00.574150",
     "exception": false,
     "start_time": "2020-11-27T18:03:59.684234",
     "status": "completed"
    },
    "tags": []
   },
   "outputs": [
    {
     "data": {
      "text/plain": [
       "206"
      ]
     },
     "execution_count": 44,
     "metadata": {},
     "output_type": "execute_result"
    }
   ],
   "source": [
    "len(target_cols)"
   ]
  },
  {
   "cell_type": "code",
   "execution_count": 45,
   "metadata": {
    "execution": {
     "iopub.execute_input": "2020-11-27T18:04:02.691311Z",
     "iopub.status.busy": "2020-11-27T18:04:02.690399Z",
     "iopub.status.idle": "2020-11-27T18:04:03.913257Z",
     "shell.execute_reply": "2020-11-27T18:04:03.914260Z"
    },
    "executionInfo": {
     "elapsed": 4375017,
     "status": "ok",
     "timestamp": 1605118605755,
     "user": {
      "displayName": "Vladimir Zhuravlev",
      "photoUrl": "",
      "userId": "16372324542816680996"
     },
     "user_tz": -420
    },
    "id": "j1s9_62IU52L",
    "outputId": "afd34d19-0e09-4f4f-efeb-427648cc0f51",
    "papermill": {
     "duration": 2.436322,
     "end_time": "2020-11-27T18:04:03.914466",
     "exception": false,
     "start_time": "2020-11-27T18:04:01.478144",
     "status": "completed"
    },
    "tags": []
   },
   "outputs": [
    {
     "name": "stdout",
     "output_type": "stream",
     "text": [
      "(23814, 206)\n",
      "CV log_loss:  0.01561414016722253\n"
     ]
    }
   ],
   "source": [
    "valid_results = train_targets_scored.drop(columns=target_cols).merge(train[['sig_id']+target_cols], on='sig_id', how='left').fillna(0)\n",
    "\n",
    "y_true = train_targets_scored[target_cols].values\n",
    "y_pred = valid_results[target_cols].values\n",
    "print(y_true.shape)\n",
    "\n",
    "score = 0\n",
    "\n",
    "for i in range(len(target_cols)):\n",
    "    score += log_loss(y_true[:, i], y_pred[:, i])\n",
    "\n",
    "print(\"CV log_loss: \", score / y_pred.shape[1])"
   ]
  },
  {
   "cell_type": "code",
   "execution_count": 46,
   "metadata": {
    "execution": {
     "iopub.execute_input": "2020-11-27T18:04:05.679991Z",
     "iopub.status.busy": "2020-11-27T18:04:05.678416Z",
     "iopub.status.idle": "2020-11-27T18:04:05.693333Z",
     "shell.execute_reply": "2020-11-27T18:04:05.692819Z"
    },
    "id": "Wl2DgUjxU52R",
    "papermill": {
     "duration": 0.905236,
     "end_time": "2020-11-27T18:04:05.693463",
     "exception": false,
     "start_time": "2020-11-27T18:04:04.788227",
     "status": "completed"
    },
    "tags": []
   },
   "outputs": [],
   "source": [
    "#creating submission\n",
    "sub1 = sample_submission.drop(columns=target_cols).merge(test[['sig_id']+target_cols], on='sig_id', how='left').fillna(0)"
   ]
  },
  {
   "cell_type": "code",
   "execution_count": 47,
   "metadata": {
    "execution": {
     "iopub.execute_input": "2020-11-27T18:04:08.199166Z",
     "iopub.status.busy": "2020-11-27T18:04:08.176997Z",
     "iopub.status.idle": "2020-11-27T18:04:08.260397Z",
     "shell.execute_reply": "2020-11-27T18:04:08.261628Z"
    },
    "papermill": {
     "duration": 1.690313,
     "end_time": "2020-11-27T18:04:08.261829",
     "exception": false,
     "start_time": "2020-11-27T18:04:06.571516",
     "status": "completed"
    },
    "tags": []
   },
   "outputs": [
    {
     "name": "stdout",
     "output_type": "stream",
     "text": [
      "(3982, 207)\n"
     ]
    },
    {
     "data": {
      "text/html": [
       "<div>\n",
       "<style scoped>\n",
       "    .dataframe tbody tr th:only-of-type {\n",
       "        vertical-align: middle;\n",
       "    }\n",
       "\n",
       "    .dataframe tbody tr th {\n",
       "        vertical-align: top;\n",
       "    }\n",
       "\n",
       "    .dataframe thead th {\n",
       "        text-align: right;\n",
       "    }\n",
       "</style>\n",
       "<table border=\"1\" class=\"dataframe\">\n",
       "  <thead>\n",
       "    <tr style=\"text-align: right;\">\n",
       "      <th></th>\n",
       "      <th>sig_id</th>\n",
       "      <th>5-alpha_reductase_inhibitor</th>\n",
       "      <th>11-beta-hsd1_inhibitor</th>\n",
       "      <th>acat_inhibitor</th>\n",
       "      <th>acetylcholine_receptor_agonist</th>\n",
       "      <th>acetylcholine_receptor_antagonist</th>\n",
       "      <th>acetylcholinesterase_inhibitor</th>\n",
       "      <th>adenosine_receptor_agonist</th>\n",
       "      <th>adenosine_receptor_antagonist</th>\n",
       "      <th>adenylyl_cyclase_activator</th>\n",
       "      <th>...</th>\n",
       "      <th>tropomyosin_receptor_kinase_inhibitor</th>\n",
       "      <th>trpv_agonist</th>\n",
       "      <th>trpv_antagonist</th>\n",
       "      <th>tubulin_inhibitor</th>\n",
       "      <th>tyrosine_kinase_inhibitor</th>\n",
       "      <th>ubiquitin_specific_protease_inhibitor</th>\n",
       "      <th>vegfr_inhibitor</th>\n",
       "      <th>vitamin_b</th>\n",
       "      <th>vitamin_d_receptor_agonist</th>\n",
       "      <th>wnt_inhibitor</th>\n",
       "    </tr>\n",
       "  </thead>\n",
       "  <tbody>\n",
       "    <tr>\n",
       "      <th>0</th>\n",
       "      <td>id_0004d9e33</td>\n",
       "      <td>0.001074</td>\n",
       "      <td>0.001100</td>\n",
       "      <td>0.001883</td>\n",
       "      <td>0.014944</td>\n",
       "      <td>0.023609</td>\n",
       "      <td>0.004862</td>\n",
       "      <td>0.003505</td>\n",
       "      <td>0.004567</td>\n",
       "      <td>0.000407</td>\n",
       "      <td>...</td>\n",
       "      <td>0.001062</td>\n",
       "      <td>0.000999</td>\n",
       "      <td>0.003767</td>\n",
       "      <td>0.001821</td>\n",
       "      <td>0.001476</td>\n",
       "      <td>0.000647</td>\n",
       "      <td>0.001339</td>\n",
       "      <td>0.001809</td>\n",
       "      <td>0.002149</td>\n",
       "      <td>0.001471</td>\n",
       "    </tr>\n",
       "    <tr>\n",
       "      <th>1</th>\n",
       "      <td>id_001897cda</td>\n",
       "      <td>0.000613</td>\n",
       "      <td>0.000922</td>\n",
       "      <td>0.001058</td>\n",
       "      <td>0.001879</td>\n",
       "      <td>0.001464</td>\n",
       "      <td>0.001982</td>\n",
       "      <td>0.002977</td>\n",
       "      <td>0.015937</td>\n",
       "      <td>0.036092</td>\n",
       "      <td>...</td>\n",
       "      <td>0.000499</td>\n",
       "      <td>0.001240</td>\n",
       "      <td>0.001679</td>\n",
       "      <td>0.000818</td>\n",
       "      <td>0.010317</td>\n",
       "      <td>0.000690</td>\n",
       "      <td>0.006929</td>\n",
       "      <td>0.001837</td>\n",
       "      <td>0.001295</td>\n",
       "      <td>0.003571</td>\n",
       "    </tr>\n",
       "    <tr>\n",
       "      <th>2</th>\n",
       "      <td>id_002429b5b</td>\n",
       "      <td>0.000000</td>\n",
       "      <td>0.000000</td>\n",
       "      <td>0.000000</td>\n",
       "      <td>0.000000</td>\n",
       "      <td>0.000000</td>\n",
       "      <td>0.000000</td>\n",
       "      <td>0.000000</td>\n",
       "      <td>0.000000</td>\n",
       "      <td>0.000000</td>\n",
       "      <td>...</td>\n",
       "      <td>0.000000</td>\n",
       "      <td>0.000000</td>\n",
       "      <td>0.000000</td>\n",
       "      <td>0.000000</td>\n",
       "      <td>0.000000</td>\n",
       "      <td>0.000000</td>\n",
       "      <td>0.000000</td>\n",
       "      <td>0.000000</td>\n",
       "      <td>0.000000</td>\n",
       "      <td>0.000000</td>\n",
       "    </tr>\n",
       "    <tr>\n",
       "      <th>3</th>\n",
       "      <td>id_00276f245</td>\n",
       "      <td>0.000790</td>\n",
       "      <td>0.000996</td>\n",
       "      <td>0.001879</td>\n",
       "      <td>0.012200</td>\n",
       "      <td>0.020119</td>\n",
       "      <td>0.004563</td>\n",
       "      <td>0.003557</td>\n",
       "      <td>0.007064</td>\n",
       "      <td>0.000500</td>\n",
       "      <td>...</td>\n",
       "      <td>0.000702</td>\n",
       "      <td>0.001477</td>\n",
       "      <td>0.002567</td>\n",
       "      <td>0.004526</td>\n",
       "      <td>0.004393</td>\n",
       "      <td>0.000586</td>\n",
       "      <td>0.001910</td>\n",
       "      <td>0.001945</td>\n",
       "      <td>0.002709</td>\n",
       "      <td>0.001898</td>\n",
       "    </tr>\n",
       "    <tr>\n",
       "      <th>4</th>\n",
       "      <td>id_0027f1083</td>\n",
       "      <td>0.002157</td>\n",
       "      <td>0.001268</td>\n",
       "      <td>0.001561</td>\n",
       "      <td>0.018808</td>\n",
       "      <td>0.026222</td>\n",
       "      <td>0.005006</td>\n",
       "      <td>0.003805</td>\n",
       "      <td>0.002408</td>\n",
       "      <td>0.000479</td>\n",
       "      <td>...</td>\n",
       "      <td>0.000946</td>\n",
       "      <td>0.000823</td>\n",
       "      <td>0.003104</td>\n",
       "      <td>0.001773</td>\n",
       "      <td>0.001454</td>\n",
       "      <td>0.000653</td>\n",
       "      <td>0.001108</td>\n",
       "      <td>0.001830</td>\n",
       "      <td>0.000963</td>\n",
       "      <td>0.001506</td>\n",
       "    </tr>\n",
       "    <tr>\n",
       "      <th>...</th>\n",
       "      <td>...</td>\n",
       "      <td>...</td>\n",
       "      <td>...</td>\n",
       "      <td>...</td>\n",
       "      <td>...</td>\n",
       "      <td>...</td>\n",
       "      <td>...</td>\n",
       "      <td>...</td>\n",
       "      <td>...</td>\n",
       "      <td>...</td>\n",
       "      <td>...</td>\n",
       "      <td>...</td>\n",
       "      <td>...</td>\n",
       "      <td>...</td>\n",
       "      <td>...</td>\n",
       "      <td>...</td>\n",
       "      <td>...</td>\n",
       "      <td>...</td>\n",
       "      <td>...</td>\n",
       "      <td>...</td>\n",
       "      <td>...</td>\n",
       "    </tr>\n",
       "    <tr>\n",
       "      <th>3977</th>\n",
       "      <td>id_ff7004b87</td>\n",
       "      <td>0.000488</td>\n",
       "      <td>0.001057</td>\n",
       "      <td>0.001187</td>\n",
       "      <td>0.003531</td>\n",
       "      <td>0.003045</td>\n",
       "      <td>0.001914</td>\n",
       "      <td>0.001689</td>\n",
       "      <td>0.003621</td>\n",
       "      <td>0.000604</td>\n",
       "      <td>...</td>\n",
       "      <td>0.000787</td>\n",
       "      <td>0.009732</td>\n",
       "      <td>0.001924</td>\n",
       "      <td>0.114986</td>\n",
       "      <td>0.008972</td>\n",
       "      <td>0.001058</td>\n",
       "      <td>0.005494</td>\n",
       "      <td>0.001141</td>\n",
       "      <td>0.000972</td>\n",
       "      <td>0.000921</td>\n",
       "    </tr>\n",
       "    <tr>\n",
       "      <th>3978</th>\n",
       "      <td>id_ff925dd0d</td>\n",
       "      <td>0.001962</td>\n",
       "      <td>0.002204</td>\n",
       "      <td>0.001511</td>\n",
       "      <td>0.008309</td>\n",
       "      <td>0.016982</td>\n",
       "      <td>0.005371</td>\n",
       "      <td>0.005604</td>\n",
       "      <td>0.006471</td>\n",
       "      <td>0.000785</td>\n",
       "      <td>...</td>\n",
       "      <td>0.000655</td>\n",
       "      <td>0.001058</td>\n",
       "      <td>0.003878</td>\n",
       "      <td>0.002254</td>\n",
       "      <td>0.002245</td>\n",
       "      <td>0.000698</td>\n",
       "      <td>0.003304</td>\n",
       "      <td>0.001694</td>\n",
       "      <td>0.001694</td>\n",
       "      <td>0.001855</td>\n",
       "    </tr>\n",
       "    <tr>\n",
       "      <th>3979</th>\n",
       "      <td>id_ffb710450</td>\n",
       "      <td>0.003080</td>\n",
       "      <td>0.001829</td>\n",
       "      <td>0.001389</td>\n",
       "      <td>0.012927</td>\n",
       "      <td>0.030236</td>\n",
       "      <td>0.005684</td>\n",
       "      <td>0.003920</td>\n",
       "      <td>0.002751</td>\n",
       "      <td>0.000482</td>\n",
       "      <td>...</td>\n",
       "      <td>0.000631</td>\n",
       "      <td>0.000740</td>\n",
       "      <td>0.003478</td>\n",
       "      <td>0.001638</td>\n",
       "      <td>0.001553</td>\n",
       "      <td>0.000782</td>\n",
       "      <td>0.001253</td>\n",
       "      <td>0.001536</td>\n",
       "      <td>0.000806</td>\n",
       "      <td>0.001293</td>\n",
       "    </tr>\n",
       "    <tr>\n",
       "      <th>3980</th>\n",
       "      <td>id_ffbb869f2</td>\n",
       "      <td>0.002959</td>\n",
       "      <td>0.001091</td>\n",
       "      <td>0.001256</td>\n",
       "      <td>0.017116</td>\n",
       "      <td>0.028765</td>\n",
       "      <td>0.005527</td>\n",
       "      <td>0.005090</td>\n",
       "      <td>0.003063</td>\n",
       "      <td>0.000571</td>\n",
       "      <td>...</td>\n",
       "      <td>0.000748</td>\n",
       "      <td>0.000650</td>\n",
       "      <td>0.002003</td>\n",
       "      <td>0.001186</td>\n",
       "      <td>0.001578</td>\n",
       "      <td>0.000531</td>\n",
       "      <td>0.001103</td>\n",
       "      <td>0.002105</td>\n",
       "      <td>0.001229</td>\n",
       "      <td>0.002141</td>\n",
       "    </tr>\n",
       "    <tr>\n",
       "      <th>3981</th>\n",
       "      <td>id_ffd5800b6</td>\n",
       "      <td>0.000923</td>\n",
       "      <td>0.001283</td>\n",
       "      <td>0.001951</td>\n",
       "      <td>0.015583</td>\n",
       "      <td>0.020382</td>\n",
       "      <td>0.004739</td>\n",
       "      <td>0.003701</td>\n",
       "      <td>0.003193</td>\n",
       "      <td>0.000480</td>\n",
       "      <td>...</td>\n",
       "      <td>0.000964</td>\n",
       "      <td>0.001296</td>\n",
       "      <td>0.003794</td>\n",
       "      <td>0.003984</td>\n",
       "      <td>0.001438</td>\n",
       "      <td>0.000897</td>\n",
       "      <td>0.001100</td>\n",
       "      <td>0.001973</td>\n",
       "      <td>0.001111</td>\n",
       "      <td>0.001421</td>\n",
       "    </tr>\n",
       "  </tbody>\n",
       "</table>\n",
       "<p>3982 rows × 207 columns</p>\n",
       "</div>"
      ],
      "text/plain": [
       "            sig_id  5-alpha_reductase_inhibitor  11-beta-hsd1_inhibitor  \\\n",
       "0     id_0004d9e33                     0.001074                0.001100   \n",
       "1     id_001897cda                     0.000613                0.000922   \n",
       "2     id_002429b5b                     0.000000                0.000000   \n",
       "3     id_00276f245                     0.000790                0.000996   \n",
       "4     id_0027f1083                     0.002157                0.001268   \n",
       "...            ...                          ...                     ...   \n",
       "3977  id_ff7004b87                     0.000488                0.001057   \n",
       "3978  id_ff925dd0d                     0.001962                0.002204   \n",
       "3979  id_ffb710450                     0.003080                0.001829   \n",
       "3980  id_ffbb869f2                     0.002959                0.001091   \n",
       "3981  id_ffd5800b6                     0.000923                0.001283   \n",
       "\n",
       "      acat_inhibitor  acetylcholine_receptor_agonist  \\\n",
       "0           0.001883                        0.014944   \n",
       "1           0.001058                        0.001879   \n",
       "2           0.000000                        0.000000   \n",
       "3           0.001879                        0.012200   \n",
       "4           0.001561                        0.018808   \n",
       "...              ...                             ...   \n",
       "3977        0.001187                        0.003531   \n",
       "3978        0.001511                        0.008309   \n",
       "3979        0.001389                        0.012927   \n",
       "3980        0.001256                        0.017116   \n",
       "3981        0.001951                        0.015583   \n",
       "\n",
       "      acetylcholine_receptor_antagonist  acetylcholinesterase_inhibitor  \\\n",
       "0                              0.023609                        0.004862   \n",
       "1                              0.001464                        0.001982   \n",
       "2                              0.000000                        0.000000   \n",
       "3                              0.020119                        0.004563   \n",
       "4                              0.026222                        0.005006   \n",
       "...                                 ...                             ...   \n",
       "3977                           0.003045                        0.001914   \n",
       "3978                           0.016982                        0.005371   \n",
       "3979                           0.030236                        0.005684   \n",
       "3980                           0.028765                        0.005527   \n",
       "3981                           0.020382                        0.004739   \n",
       "\n",
       "      adenosine_receptor_agonist  adenosine_receptor_antagonist  \\\n",
       "0                       0.003505                       0.004567   \n",
       "1                       0.002977                       0.015937   \n",
       "2                       0.000000                       0.000000   \n",
       "3                       0.003557                       0.007064   \n",
       "4                       0.003805                       0.002408   \n",
       "...                          ...                            ...   \n",
       "3977                    0.001689                       0.003621   \n",
       "3978                    0.005604                       0.006471   \n",
       "3979                    0.003920                       0.002751   \n",
       "3980                    0.005090                       0.003063   \n",
       "3981                    0.003701                       0.003193   \n",
       "\n",
       "      adenylyl_cyclase_activator  ...  tropomyosin_receptor_kinase_inhibitor  \\\n",
       "0                       0.000407  ...                               0.001062   \n",
       "1                       0.036092  ...                               0.000499   \n",
       "2                       0.000000  ...                               0.000000   \n",
       "3                       0.000500  ...                               0.000702   \n",
       "4                       0.000479  ...                               0.000946   \n",
       "...                          ...  ...                                    ...   \n",
       "3977                    0.000604  ...                               0.000787   \n",
       "3978                    0.000785  ...                               0.000655   \n",
       "3979                    0.000482  ...                               0.000631   \n",
       "3980                    0.000571  ...                               0.000748   \n",
       "3981                    0.000480  ...                               0.000964   \n",
       "\n",
       "      trpv_agonist  trpv_antagonist  tubulin_inhibitor  \\\n",
       "0         0.000999         0.003767           0.001821   \n",
       "1         0.001240         0.001679           0.000818   \n",
       "2         0.000000         0.000000           0.000000   \n",
       "3         0.001477         0.002567           0.004526   \n",
       "4         0.000823         0.003104           0.001773   \n",
       "...            ...              ...                ...   \n",
       "3977      0.009732         0.001924           0.114986   \n",
       "3978      0.001058         0.003878           0.002254   \n",
       "3979      0.000740         0.003478           0.001638   \n",
       "3980      0.000650         0.002003           0.001186   \n",
       "3981      0.001296         0.003794           0.003984   \n",
       "\n",
       "      tyrosine_kinase_inhibitor  ubiquitin_specific_protease_inhibitor  \\\n",
       "0                      0.001476                               0.000647   \n",
       "1                      0.010317                               0.000690   \n",
       "2                      0.000000                               0.000000   \n",
       "3                      0.004393                               0.000586   \n",
       "4                      0.001454                               0.000653   \n",
       "...                         ...                                    ...   \n",
       "3977                   0.008972                               0.001058   \n",
       "3978                   0.002245                               0.000698   \n",
       "3979                   0.001553                               0.000782   \n",
       "3980                   0.001578                               0.000531   \n",
       "3981                   0.001438                               0.000897   \n",
       "\n",
       "      vegfr_inhibitor  vitamin_b  vitamin_d_receptor_agonist  wnt_inhibitor  \n",
       "0            0.001339   0.001809                    0.002149       0.001471  \n",
       "1            0.006929   0.001837                    0.001295       0.003571  \n",
       "2            0.000000   0.000000                    0.000000       0.000000  \n",
       "3            0.001910   0.001945                    0.002709       0.001898  \n",
       "4            0.001108   0.001830                    0.000963       0.001506  \n",
       "...               ...        ...                         ...            ...  \n",
       "3977         0.005494   0.001141                    0.000972       0.000921  \n",
       "3978         0.003304   0.001694                    0.001694       0.001855  \n",
       "3979         0.001253   0.001536                    0.000806       0.001293  \n",
       "3980         0.001103   0.002105                    0.001229       0.002141  \n",
       "3981         0.001100   0.001973                    0.001111       0.001421  \n",
       "\n",
       "[3982 rows x 207 columns]"
      ]
     },
     "execution_count": 47,
     "metadata": {},
     "output_type": "execute_result"
    }
   ],
   "source": [
    "print(sub1.shape)\n",
    "sub1"
   ]
  },
  {
   "cell_type": "code",
   "execution_count": 48,
   "metadata": {
    "execution": {
     "iopub.execute_input": "2020-11-27T18:04:10.161884Z",
     "iopub.status.busy": "2020-11-27T18:04:10.161077Z",
     "iopub.status.idle": "2020-11-27T18:04:12.571164Z",
     "shell.execute_reply": "2020-11-27T18:04:12.570589Z"
    },
    "papermill": {
     "duration": 3.308001,
     "end_time": "2020-11-27T18:04:12.571273",
     "exception": false,
     "start_time": "2020-11-27T18:04:09.263272",
     "status": "completed"
    },
    "tags": []
   },
   "outputs": [],
   "source": [
    "sub1.to_csv(output_path + \"submission.csv\", index=False)"
   ]
  }
 ],
 "metadata": {
  "kernelspec": {
   "display_name": "Python 3",
   "language": "python",
   "name": "python3"
  },
  "language_info": {
   "codemirror_mode": {
    "name": "ipython",
    "version": 3
   },
   "file_extension": ".py",
   "mimetype": "text/x-python",
   "name": "python",
   "nbconvert_exporter": "python",
   "pygments_lexer": "ipython3",
   "version": "3.8.3-final"
  },
  "papermill": {
   "duration": 4876.993403,
   "end_time": "2020-11-27T18:04:14.080911",
   "environment_variables": {},
   "exception": null,
   "input_path": "__notebook__.ipynb",
   "output_path": "__notebook__.ipynb",
   "parameters": {},
   "start_time": "2020-11-27T16:42:57.087508",
   "version": "2.1.0"
  }
 },
 "nbformat": 4,
 "nbformat_minor": 4
}