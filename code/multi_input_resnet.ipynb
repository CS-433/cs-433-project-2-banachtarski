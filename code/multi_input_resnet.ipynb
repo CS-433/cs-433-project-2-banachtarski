{
 "cells": [
  {
   "cell_type": "code",
   "execution_count": 1,
   "metadata": {
    "_cell_guid": "b1076dfc-b9ad-4769-8c92-a6c4dae69d19",
    "_uuid": "8f2839f25d086af736a60e9eeb907d3b93b6e0e5",
    "execution": {
     "iopub.execute_input": "2020-11-28T14:17:42.968995Z",
     "iopub.status.busy": "2020-11-28T14:17:42.968133Z",
     "iopub.status.idle": "2020-11-28T14:17:49.438474Z",
     "shell.execute_reply": "2020-11-28T14:17:49.444225Z"
    },
    "papermill": {
     "duration": 6.4945,
     "end_time": "2020-11-28T14:17:49.444447",
     "exception": false,
     "start_time": "2020-11-28T14:17:42.949947",
     "status": "completed"
    },
    "tags": []
   },
   "outputs": [],
   "source": [
    "import numpy as np\n",
    "import pandas as pd \n",
    "import matplotlib.pyplot as plt\n",
    "from sklearn.model_selection import KFold\n",
    "from sklearn import preprocessing\n",
    "from sklearn.metrics import confusion_matrix\n",
    "from sklearn.feature_selection import VarianceThreshold\n",
    "from sklearn.decomposition import PCA\n",
    "from tensorflow.keras import layers,regularizers,Sequential,Model,backend,callbacks,optimizers,metrics,losses\n",
    "import tensorflow as tf\n",
    "import sys\n",
    "import json\n",
    "from iterstrat.ml_stratifiers import MultilabelStratifiedKFold\n",
    "from sklearn.preprocessing import QuantileTransformer\n",
    "output_path = \"../output/resnet/\""
   ]
  },
  {
   "cell_type": "code",
   "execution_count": 2,
   "metadata": {
    "_cell_guid": "79c7e3d0-c299-4dcb-8224-4455121ee9b0",
    "_uuid": "d629ff2d2480ee46fbb7e2d37f6b5fab8052498a",
    "execution": {
     "iopub.execute_input": "2020-11-28T14:17:49.498144Z",
     "iopub.status.busy": "2020-11-28T14:17:49.497267Z",
     "iopub.status.idle": "2020-11-28T14:17:56.303945Z",
     "shell.execute_reply": "2020-11-28T14:17:56.302819Z"
    },
    "papermill": {
     "duration": 6.84107,
     "end_time": "2020-11-28T14:17:56.304089",
     "exception": false,
     "start_time": "2020-11-28T14:17:49.463019",
     "status": "completed"
    },
    "tags": []
   },
   "outputs": [],
   "source": [
    "# Import train data, drop sig_id, cp_type\n",
    "\n",
    "train_data = pd.read_csv('../input/lish-moa/train_features.csv')\n",
    "\n",
    "targets = pd.read_csv('../input/lish-moa/train_targets_scored.csv')\n",
    "\n",
    "targets_non_scored = pd.read_csv('../input/lish-moa/train_targets_scored.csv')\n",
    "\n",
    "\n",
    "\n",
    "# Import test data\n",
    "\n",
    "test_data = pd.read_csv('../input/lish-moa/test_features.csv')\n",
    "\n",
    "\n",
    "# Import predictors from public kernel, https://www.kaggle.com/demetrypascal/t-test-pca-rfe-logistic-regression\n",
    "\n",
    "json_file_path = '../input/main_predictors.json'\n",
    "\n",
    "with open(json_file_path, 'r') as j:\n",
    "    predictors = json.loads(j.read())\n",
    "    predictors = predictors['start_predictors']"
   ]
  },
  {
   "source": [
    "# Feature Engineering"
   ],
   "cell_type": "markdown",
   "metadata": {}
  },
  {
   "cell_type": "code",
   "execution_count": 3,
   "metadata": {
    "execution": {
     "iopub.execute_input": "2020-11-28T14:17:56.349289Z",
     "iopub.status.busy": "2020-11-28T14:17:56.338790Z",
     "iopub.status.idle": "2020-11-28T14:17:56.356169Z",
     "shell.execute_reply": "2020-11-28T14:17:56.356764Z"
    },
    "papermill": {
     "duration": 0.042111,
     "end_time": "2020-11-28T14:17:56.356948",
     "exception": false,
     "start_time": "2020-11-28T14:17:56.314837",
     "status": "completed"
    },
    "tags": []
   },
   "outputs": [],
   "source": [
    "\n",
    "\n",
    "def preprocess_data(train_data, test_data, targets, predictors):\n",
    "    columns_numeric = [\"g-\" + str(i) for i in range(772)] + [\"c-\" + str(i) for i in range(100)]\n",
    "    GENES = [col for col in train_data.columns if col.startswith('g-')]\n",
    "    CELLS = [col for col in train_data.columns if col.startswith('c-')]\n",
    "    \n",
    "    \n",
    "    print(\"performing Rank Gauss\")\n",
    "    #Rank Gauss, makes distribution normal\n",
    "    transformer = QuantileTransformer(n_quantiles=1000,random_state=0, output_distribution=\"normal\")\n",
    "    train_data[columns_numeric] = transformer.fit_transform(train_data[columns_numeric])\n",
    "    test_data[columns_numeric] = transformer.transform(test_data[columns_numeric])\n",
    "\n",
    "    \n",
    "    #FEATURES + PCA\n",
    "    print(\"performing PCA on GENES\")\n",
    "    #GENES\n",
    "    n_comp_genes = 100\n",
    "    pca_genes = PCA(n_components=n_comp_genes, random_state=42)\n",
    "    train_pca_genes = pca_genes.fit_transform(train_data[GENES])\n",
    "    test_pca_genes = pca_genes.transform(test_data[GENES])\n",
    "    #adding columns\n",
    "    train_pca_genes = pd.DataFrame(train_pca_genes, columns=[f'pca_G-{i}' for i in range(n_comp_genes)])\n",
    "    test_pca_genes = pd.DataFrame(test_pca_genes, columns=[f'pca_G-{i}' for i in range(n_comp_genes)])\n",
    "    train_data = pd.concat((train_data, train_pca_genes), axis=1)\n",
    "    test_data = pd.concat((test_data, test_pca_genes), axis=1)\n",
    "    print(\"after PCA on GENES, number of features:\", train_data.shape[1])\n",
    "    \n",
    "    \n",
    "    print(\"performing PCA on CELLS\")\n",
    "    #CELLS\n",
    "    n_comp_cells = 10\n",
    "    pca_cells = PCA(n_components=n_comp_cells, random_state=42)\n",
    "    train_pca_cells = pca_cells.fit_transform(train_data[CELLS])\n",
    "    test_pca_cells = pca_cells.transform(test_data[CELLS])\n",
    "    #adding columns\n",
    "    train_pca_cells = pd.DataFrame(train_pca_cells, columns=[f'pca_G-{i}' for i in range(n_comp_cells)])\n",
    "    test_pca_cells = pd.DataFrame(test_pca_cells, columns=[f'pca_G-{i}' for i in range(n_comp_cells)])\n",
    "    train_data = pd.concat((train_data, train_pca_cells), axis=1)\n",
    "    test_data = pd.concat((test_data, test_pca_cells), axis=1)\n",
    "    print(\"after PCA on CELLS, number of features:\", train_data.shape[1])\n",
    "    \n",
    "    columns_numeric = columns_numeric + [f'pca_G-{i}' for i in range(n_comp_cells)] + [f'pca_G-{i}' for i in range(n_comp_genes)]\n",
    "    \n",
    "    print(\"dropping cp_type and rows with cp_type = ctl_vehicle from train, test and target dataframes\")\n",
    "    train_data = train_data[train_data[\"cp_type\"] != \"ctl_vehicle\"].drop(\"cp_type\", axis = 1)\n",
    "    test_data = test_data[test_data[\"cp_type\"] != \"ctl_vehicle\"].drop(\"cp_type\", axis = 1)\n",
    "    features_labels = train_data.merge(targets, on='sig_id')\n",
    "    targets = features_labels[targets.columns]  \n",
    "    train_data = pd.get_dummies(train_data, columns=['cp_time','cp_dose'])\n",
    "    test_data = pd.get_dummies(test_data, columns=['cp_time','cp_dose'])\n",
    "    \n",
    "    # removing columns not used in training\n",
    "    targets.drop(\"sig_id\", inplace = True, axis=1)\n",
    "    train_data.drop(\"sig_id\", inplace = True, axis=1)\n",
    "    test_data.drop(\"sig_id\", inplace = True, axis=1)\n",
    "    # input for the second head of ResNet\n",
    "    train_data2 = train_data[predictors]\n",
    "    test_data2 = test_data[predictors]\n",
    "    \n",
    "    train_data = train_data.to_numpy()\n",
    "    test_data = test_data.to_numpy()\n",
    "    targets = targets.to_numpy()\n",
    "    train_data2 = train_data2.to_numpy()\n",
    "    test_data2 = test_data2.to_numpy()\n",
    "    \n",
    "    return train_data, train_data2, test_data, test_data2,  targets\n"
   ]
  },
  {
   "cell_type": "code",
   "execution_count": 4,
   "metadata": {
    "execution": {
     "iopub.execute_input": "2020-11-28T14:17:56.390546Z",
     "iopub.status.busy": "2020-11-28T14:17:56.389799Z",
     "iopub.status.idle": "2020-11-28T14:18:18.502006Z",
     "shell.execute_reply": "2020-11-28T14:18:18.501273Z"
    },
    "papermill": {
     "duration": 22.134658,
     "end_time": "2020-11-28T14:18:18.502141",
     "exception": false,
     "start_time": "2020-11-28T14:17:56.367483",
     "status": "completed"
    },
    "tags": []
   },
   "outputs": [
    {
     "output_type": "stream",
     "name": "stdout",
     "text": [
      "performing Rank Gauss\n",
      "performing PCA on GENES\n",
      "after PCA on GENES, number of features: 976\n",
      "performing PCA on CELLS\n",
      "after PCA on CELLS, number of features: 986\n",
      "dropping cp_type and rows with cp_type = ctl_vehicle from train, test and target dataframes\n"
     ]
    }
   ],
   "source": [
    "train_data, train_data2, test_data, test_data2,  targets = preprocess_data(train_data, test_data, targets, predictors)\n",
    "\n",
    "\n",
    "# for every prediction if our model predicts a value that is lower than p_min or higher than p_max\n",
    "# then the prediction is forced to p_min or p_max respectively\n",
    "# Prediction Clipping Thresholds\n",
    "\n",
    "p_min = 0.0005\n",
    "p_max = 0.9995\n",
    "\n",
    "# OOF Evaluation Metric with clipping and no label smoothing\n",
    "\n",
    "def logloss(y_true, y_pred):\n",
    "    y_pred = tf.clip_by_value(y_pred,p_min,p_max)\n",
    "    return -backend.mean(y_true*backend.log(y_pred) + (1-y_true)*backend.log(1-y_pred))\n",
    "\n",
    "\n"
   ]
  },
  {
   "source": [
    "# Model"
   ],
   "cell_type": "markdown",
   "metadata": {}
  },
  {
   "cell_type": "code",
   "execution_count": 5,
   "metadata": {
    "execution": {
     "iopub.execute_input": "2020-11-28T14:18:18.542689Z",
     "iopub.status.busy": "2020-11-28T14:18:18.541885Z",
     "iopub.status.idle": "2020-11-28T14:18:18.545313Z",
     "shell.execute_reply": "2020-11-28T14:18:18.544790Z"
    },
    "papermill": {
     "duration": 0.030364,
     "end_time": "2020-11-28T14:18:18.545415",
     "exception": false,
     "start_time": "2020-11-28T14:18:18.515051",
     "status": "completed"
    },
    "tags": []
   },
   "outputs": [],
   "source": [
    "# to see model architecture view the image below\n",
    "\n",
    "def build_model(n_features, n_features_2, n_labels, label_smoothing = 0.001):  \n",
    "    # 2 input layers  \n",
    "    input_1 = layers.Input(shape = (n_features,), name = 'Input1')\n",
    "    input_2 = layers.Input(shape = (n_features_2,), name = 'Input2')\n",
    "\n",
    "    head_1 = Sequential([\n",
    "        layers.BatchNormalization(),\n",
    "        layers.Dropout(0.2),\n",
    "        layers.Dense(512, activation=\"elu\"), \n",
    "        layers.BatchNormalization(),\n",
    "        layers.Dense(256, activation = \"elu\")\n",
    "        ],name='Head1') \n",
    "\n",
    "    input_3 = head_1(input_1)\n",
    "    input_3_concat = layers.Concatenate()([input_2, input_3])\n",
    "\n",
    "    head_2 = Sequential([\n",
    "        layers.BatchNormalization(),\n",
    "        layers.Dropout(0.3),\n",
    "        layers.Dense(512, \"relu\"),\n",
    "        layers.BatchNormalization(),\n",
    "        layers.Dense(512, \"elu\"),\n",
    "        layers.BatchNormalization(),\n",
    "        layers.Dense(256, \"relu\"),\n",
    "        layers.BatchNormalization(),\n",
    "        layers.Dense(256, \"elu\")\n",
    "        ],name='Head2')\n",
    "\n",
    "    input_4 = head_2(input_3_concat)\n",
    "    input_4_avg = layers.Average()([input_3, input_4]) \n",
    "\n",
    "    head_3 = Sequential([\n",
    "        layers.BatchNormalization(),\n",
    "        layers.Dense(256, kernel_initializer='lecun_normal', activation='selu'),\n",
    "        layers.BatchNormalization(),\n",
    "        layers.Dense(n_labels, kernel_initializer='lecun_normal', activation='selu'),\n",
    "        layers.BatchNormalization(),\n",
    "        layers.Dense(n_labels, activation=\"sigmoid\")\n",
    "        ],name='Head3')\n",
    "\n",
    "    output = head_3(input_4_avg)\n",
    "\n",
    "\n",
    "    model = Model(inputs = [input_1, input_2], outputs = output)\n",
    "    model.compile(optimizer='adam', loss=losses.BinaryCrossentropy(label_smoothing=label_smoothing), metrics=logloss)\n",
    "    \n",
    "    return model"
   ]
  },
  {
   "cell_type": "code",
   "execution_count": 7,
   "metadata": {},
   "outputs": [
    {
     "output_type": "stream",
     "name": "stdout",
     "text": [
      "('Failed to import pydot. You must `pip install pydot` and install graphviz (https://graphviz.gitlab.io/download/), ', 'for `pydotprint` to work.')\n"
     ]
    }
   ],
   "source": [
    "import pydot\n",
    "import graphviz\n",
    "n_features = train_data.shape[1]\n",
    "n_features2 = train_data2.shape[1]\n",
    "n_labels = targets.shape[1]\n",
    "model = build_model(n_features, n_features2, n_labels)\n",
    "# the following line may not work on your system, getting the following error: \n",
    "# ('Failed to import pydot. You must `pip install pydot` and install graphviz (https://graphviz.gitlab.io/download/), ', 'for `pydotprint` to work.')\n",
    "# even though pydot and graphviz are installed\n",
    "# We apologize for the inconvenience if this does not work on your system, you can see the model architecture on the project report\n",
    "tf.keras.utils.plot_model(model,show_shapes=True)"
   ]
  },
  {
   "source": [
    "# Training"
   ],
   "cell_type": "markdown",
   "metadata": {}
  },
  {
   "cell_type": "code",
   "execution_count": 6,
   "metadata": {
    "execution": {
     "iopub.execute_input": "2020-11-28T14:18:18.595283Z",
     "iopub.status.busy": "2020-11-28T14:18:18.593508Z",
     "iopub.status.idle": "2020-11-28T18:43:58.025482Z",
     "shell.execute_reply": "2020-11-28T18:43:58.024799Z"
    },
    "papermill": {
     "duration": 15939.467645,
     "end_time": "2020-11-28T18:43:58.025607",
     "exception": false,
     "start_time": "2020-11-28T14:18:18.557962",
     "status": "completed"
    },
    "tags": []
   },
   "outputs": [
    {
     "output_type": "stream",
     "name": "stdout",
     "text": [
      "current seed: 10\n",
      "1235/1235 [==============================] - 16s 13ms/step - loss: 0.0714 - logloss: 0.0688 - val_loss: 0.0222 - val_logloss: 0.0190\n",
      "WARNING:tensorflow:From C:\\Users\\npolv\\anaconda3\\lib\\site-packages\\tensorflow\\python\\training\\tracking\\tracking.py:111: Model.state_updates (from tensorflow.python.keras.engine.training) is deprecated and will be removed in a future version.\n",
      "Instructions for updating:\n",
      "This property should not be used in TensorFlow 2.0, as updates are applied automatically.\n",
      "WARNING:tensorflow:From C:\\Users\\npolv\\anaconda3\\lib\\site-packages\\tensorflow\\python\\training\\tracking\\tracking.py:111: Layer.updates (from tensorflow.python.keras.engine.base_layer) is deprecated and will be removed in a future version.\n",
      "Instructions for updating:\n",
      "This property should not be used in TensorFlow 2.0, as updates are applied automatically.\n",
      "INFO:tensorflow:Assets written to: ../output/resnet/TwoHeads_seed_10_fold_0\\assets\n",
      "1235/1235 [==============================] - 16s 13ms/step - loss: 0.0706 - logloss: 0.0680 - val_loss: 0.0226 - val_logloss: 0.0194\n",
      "INFO:tensorflow:Assets written to: ../output/resnet/TwoHeads_seed_10_fold_1\\assets\n",
      "1235/1235 [==============================] - 16s 13ms/step - loss: 0.0705 - logloss: 0.0680 - val_loss: 0.0219 - val_logloss: 0.0187\n",
      "INFO:tensorflow:Assets written to: ../output/resnet/TwoHeads_seed_10_fold_2\\assets\n",
      "1235/1235 [==============================] - 16s 13ms/step - loss: 0.0709 - logloss: 0.0683 - val_loss: 0.0221 - val_logloss: 0.0190\n",
      "INFO:tensorflow:Assets written to: ../output/resnet/TwoHeads_seed_10_fold_3\\assets\n",
      "1235/1235 [==============================] - 16s 13ms/step - loss: 0.0712 - logloss: 0.0687 - val_loss: 0.0215 - val_logloss: 0.0184\n",
      "INFO:tensorflow:Assets written to: ../output/resnet/TwoHeads_seed_10_fold_4\\assets\n",
      "1235/1235 [==============================] - 16s 13ms/step - loss: 0.0711 - logloss: 0.0686 - val_loss: 0.0223 - val_logloss: 0.0190\n",
      "INFO:tensorflow:Assets written to: ../output/resnet/TwoHeads_seed_10_fold_5\\assets\n",
      " 528/1235 [===========>..................] - ETA: 9s - loss: 0.1352 - logloss: 0.1334"
     ]
    },
    {
     "output_type": "error",
     "ename": "KeyboardInterrupt",
     "evalue": "",
     "traceback": [
      "\u001b[1;31m---------------------------------------------------------------------------\u001b[0m",
      "\u001b[1;31mKeyboardInterrupt\u001b[0m                         Traceback (most recent call last)",
      "\u001b[1;32m<ipython-input-6-72b75e3b0c58>\u001b[0m in \u001b[0;36m<module>\u001b[1;34m\u001b[0m\n\u001b[0;32m     40\u001b[0m         \u001b[0mearly_stopping\u001b[0m \u001b[1;33m=\u001b[0m \u001b[0mcallbacks\u001b[0m\u001b[1;33m.\u001b[0m\u001b[0mEarlyStopping\u001b[0m\u001b[1;33m(\u001b[0m\u001b[0mmonitor\u001b[0m\u001b[1;33m=\u001b[0m\u001b[1;34m'val_logloss'\u001b[0m\u001b[1;33m,\u001b[0m \u001b[0mmin_delta\u001b[0m\u001b[1;33m=\u001b[0m\u001b[1;36m1E-5\u001b[0m\u001b[1;33m,\u001b[0m \u001b[0mpatience\u001b[0m\u001b[1;33m=\u001b[0m\u001b[1;36m10\u001b[0m\u001b[1;33m,\u001b[0m \u001b[0mmode\u001b[0m\u001b[1;33m=\u001b[0m\u001b[1;34m'min'\u001b[0m\u001b[1;33m,\u001b[0m\u001b[0mrestore_best_weights\u001b[0m\u001b[1;33m=\u001b[0m\u001b[1;32mTrue\u001b[0m\u001b[1;33m)\u001b[0m\u001b[1;33m\u001b[0m\u001b[1;33m\u001b[0m\u001b[0m\n\u001b[0;32m     41\u001b[0m \u001b[1;33m\u001b[0m\u001b[0m\n\u001b[1;32m---> 42\u001b[1;33m         hist = model.fit([X_train,X_train_2],y_train, batch_size=16, epochs=1,verbose=1,validation_data = ([X_test,X_test_2],y_test),\n\u001b[0m\u001b[0;32m     43\u001b[0m                          callbacks=[reduce_lr, early_stopping])\n\u001b[0;32m     44\u001b[0m         \u001b[0mhists\u001b[0m\u001b[1;33m.\u001b[0m\u001b[0mappend\u001b[0m\u001b[1;33m(\u001b[0m\u001b[0mhist\u001b[0m\u001b[1;33m)\u001b[0m\u001b[1;33m\u001b[0m\u001b[1;33m\u001b[0m\u001b[0m\n",
      "\u001b[1;32m~\\anaconda3\\lib\\site-packages\\tensorflow\\python\\keras\\engine\\training.py\u001b[0m in \u001b[0;36m_method_wrapper\u001b[1;34m(self, *args, **kwargs)\u001b[0m\n\u001b[0;32m    106\u001b[0m   \u001b[1;32mdef\u001b[0m \u001b[0m_method_wrapper\u001b[0m\u001b[1;33m(\u001b[0m\u001b[0mself\u001b[0m\u001b[1;33m,\u001b[0m \u001b[1;33m*\u001b[0m\u001b[0margs\u001b[0m\u001b[1;33m,\u001b[0m \u001b[1;33m**\u001b[0m\u001b[0mkwargs\u001b[0m\u001b[1;33m)\u001b[0m\u001b[1;33m:\u001b[0m\u001b[1;33m\u001b[0m\u001b[1;33m\u001b[0m\u001b[0m\n\u001b[0;32m    107\u001b[0m     \u001b[1;32mif\u001b[0m \u001b[1;32mnot\u001b[0m \u001b[0mself\u001b[0m\u001b[1;33m.\u001b[0m\u001b[0m_in_multi_worker_mode\u001b[0m\u001b[1;33m(\u001b[0m\u001b[1;33m)\u001b[0m\u001b[1;33m:\u001b[0m  \u001b[1;31m# pylint: disable=protected-access\u001b[0m\u001b[1;33m\u001b[0m\u001b[1;33m\u001b[0m\u001b[0m\n\u001b[1;32m--> 108\u001b[1;33m       \u001b[1;32mreturn\u001b[0m \u001b[0mmethod\u001b[0m\u001b[1;33m(\u001b[0m\u001b[0mself\u001b[0m\u001b[1;33m,\u001b[0m \u001b[1;33m*\u001b[0m\u001b[0margs\u001b[0m\u001b[1;33m,\u001b[0m \u001b[1;33m**\u001b[0m\u001b[0mkwargs\u001b[0m\u001b[1;33m)\u001b[0m\u001b[1;33m\u001b[0m\u001b[1;33m\u001b[0m\u001b[0m\n\u001b[0m\u001b[0;32m    109\u001b[0m \u001b[1;33m\u001b[0m\u001b[0m\n\u001b[0;32m    110\u001b[0m     \u001b[1;31m# Running inside `run_distribute_coordinator` already.\u001b[0m\u001b[1;33m\u001b[0m\u001b[1;33m\u001b[0m\u001b[1;33m\u001b[0m\u001b[0m\n",
      "\u001b[1;32m~\\anaconda3\\lib\\site-packages\\tensorflow\\python\\keras\\engine\\training.py\u001b[0m in \u001b[0;36mfit\u001b[1;34m(self, x, y, batch_size, epochs, verbose, callbacks, validation_split, validation_data, shuffle, class_weight, sample_weight, initial_epoch, steps_per_epoch, validation_steps, validation_batch_size, validation_freq, max_queue_size, workers, use_multiprocessing)\u001b[0m\n\u001b[0;32m   1096\u001b[0m                 batch_size=batch_size):\n\u001b[0;32m   1097\u001b[0m               \u001b[0mcallbacks\u001b[0m\u001b[1;33m.\u001b[0m\u001b[0mon_train_batch_begin\u001b[0m\u001b[1;33m(\u001b[0m\u001b[0mstep\u001b[0m\u001b[1;33m)\u001b[0m\u001b[1;33m\u001b[0m\u001b[1;33m\u001b[0m\u001b[0m\n\u001b[1;32m-> 1098\u001b[1;33m               \u001b[0mtmp_logs\u001b[0m \u001b[1;33m=\u001b[0m \u001b[0mtrain_function\u001b[0m\u001b[1;33m(\u001b[0m\u001b[0miterator\u001b[0m\u001b[1;33m)\u001b[0m\u001b[1;33m\u001b[0m\u001b[1;33m\u001b[0m\u001b[0m\n\u001b[0m\u001b[0;32m   1099\u001b[0m               \u001b[1;32mif\u001b[0m \u001b[0mdata_handler\u001b[0m\u001b[1;33m.\u001b[0m\u001b[0mshould_sync\u001b[0m\u001b[1;33m:\u001b[0m\u001b[1;33m\u001b[0m\u001b[1;33m\u001b[0m\u001b[0m\n\u001b[0;32m   1100\u001b[0m                 \u001b[0mcontext\u001b[0m\u001b[1;33m.\u001b[0m\u001b[0masync_wait\u001b[0m\u001b[1;33m(\u001b[0m\u001b[1;33m)\u001b[0m\u001b[1;33m\u001b[0m\u001b[1;33m\u001b[0m\u001b[0m\n",
      "\u001b[1;32m~\\anaconda3\\lib\\site-packages\\tensorflow\\python\\eager\\def_function.py\u001b[0m in \u001b[0;36m__call__\u001b[1;34m(self, *args, **kwds)\u001b[0m\n\u001b[0;32m    778\u001b[0m       \u001b[1;32melse\u001b[0m\u001b[1;33m:\u001b[0m\u001b[1;33m\u001b[0m\u001b[1;33m\u001b[0m\u001b[0m\n\u001b[0;32m    779\u001b[0m         \u001b[0mcompiler\u001b[0m \u001b[1;33m=\u001b[0m \u001b[1;34m\"nonXla\"\u001b[0m\u001b[1;33m\u001b[0m\u001b[1;33m\u001b[0m\u001b[0m\n\u001b[1;32m--> 780\u001b[1;33m         \u001b[0mresult\u001b[0m \u001b[1;33m=\u001b[0m \u001b[0mself\u001b[0m\u001b[1;33m.\u001b[0m\u001b[0m_call\u001b[0m\u001b[1;33m(\u001b[0m\u001b[1;33m*\u001b[0m\u001b[0margs\u001b[0m\u001b[1;33m,\u001b[0m \u001b[1;33m**\u001b[0m\u001b[0mkwds\u001b[0m\u001b[1;33m)\u001b[0m\u001b[1;33m\u001b[0m\u001b[1;33m\u001b[0m\u001b[0m\n\u001b[0m\u001b[0;32m    781\u001b[0m \u001b[1;33m\u001b[0m\u001b[0m\n\u001b[0;32m    782\u001b[0m       \u001b[0mnew_tracing_count\u001b[0m \u001b[1;33m=\u001b[0m \u001b[0mself\u001b[0m\u001b[1;33m.\u001b[0m\u001b[0m_get_tracing_count\u001b[0m\u001b[1;33m(\u001b[0m\u001b[1;33m)\u001b[0m\u001b[1;33m\u001b[0m\u001b[1;33m\u001b[0m\u001b[0m\n",
      "\u001b[1;32m~\\anaconda3\\lib\\site-packages\\tensorflow\\python\\eager\\def_function.py\u001b[0m in \u001b[0;36m_call\u001b[1;34m(self, *args, **kwds)\u001b[0m\n\u001b[0;32m    805\u001b[0m       \u001b[1;31m# In this case we have created variables on the first call, so we run the\u001b[0m\u001b[1;33m\u001b[0m\u001b[1;33m\u001b[0m\u001b[1;33m\u001b[0m\u001b[0m\n\u001b[0;32m    806\u001b[0m       \u001b[1;31m# defunned version which is guaranteed to never create variables.\u001b[0m\u001b[1;33m\u001b[0m\u001b[1;33m\u001b[0m\u001b[1;33m\u001b[0m\u001b[0m\n\u001b[1;32m--> 807\u001b[1;33m       \u001b[1;32mreturn\u001b[0m \u001b[0mself\u001b[0m\u001b[1;33m.\u001b[0m\u001b[0m_stateless_fn\u001b[0m\u001b[1;33m(\u001b[0m\u001b[1;33m*\u001b[0m\u001b[0margs\u001b[0m\u001b[1;33m,\u001b[0m \u001b[1;33m**\u001b[0m\u001b[0mkwds\u001b[0m\u001b[1;33m)\u001b[0m  \u001b[1;31m# pylint: disable=not-callable\u001b[0m\u001b[1;33m\u001b[0m\u001b[1;33m\u001b[0m\u001b[0m\n\u001b[0m\u001b[0;32m    808\u001b[0m     \u001b[1;32melif\u001b[0m \u001b[0mself\u001b[0m\u001b[1;33m.\u001b[0m\u001b[0m_stateful_fn\u001b[0m \u001b[1;32mis\u001b[0m \u001b[1;32mnot\u001b[0m \u001b[1;32mNone\u001b[0m\u001b[1;33m:\u001b[0m\u001b[1;33m\u001b[0m\u001b[1;33m\u001b[0m\u001b[0m\n\u001b[0;32m    809\u001b[0m       \u001b[1;31m# Release the lock early so that multiple threads can perform the call\u001b[0m\u001b[1;33m\u001b[0m\u001b[1;33m\u001b[0m\u001b[1;33m\u001b[0m\u001b[0m\n",
      "\u001b[1;32m~\\anaconda3\\lib\\site-packages\\tensorflow\\python\\eager\\function.py\u001b[0m in \u001b[0;36m__call__\u001b[1;34m(self, *args, **kwargs)\u001b[0m\n\u001b[0;32m   2827\u001b[0m     \u001b[1;32mwith\u001b[0m \u001b[0mself\u001b[0m\u001b[1;33m.\u001b[0m\u001b[0m_lock\u001b[0m\u001b[1;33m:\u001b[0m\u001b[1;33m\u001b[0m\u001b[1;33m\u001b[0m\u001b[0m\n\u001b[0;32m   2828\u001b[0m       \u001b[0mgraph_function\u001b[0m\u001b[1;33m,\u001b[0m \u001b[0margs\u001b[0m\u001b[1;33m,\u001b[0m \u001b[0mkwargs\u001b[0m \u001b[1;33m=\u001b[0m \u001b[0mself\u001b[0m\u001b[1;33m.\u001b[0m\u001b[0m_maybe_define_function\u001b[0m\u001b[1;33m(\u001b[0m\u001b[0margs\u001b[0m\u001b[1;33m,\u001b[0m \u001b[0mkwargs\u001b[0m\u001b[1;33m)\u001b[0m\u001b[1;33m\u001b[0m\u001b[1;33m\u001b[0m\u001b[0m\n\u001b[1;32m-> 2829\u001b[1;33m     \u001b[1;32mreturn\u001b[0m \u001b[0mgraph_function\u001b[0m\u001b[1;33m.\u001b[0m\u001b[0m_filtered_call\u001b[0m\u001b[1;33m(\u001b[0m\u001b[0margs\u001b[0m\u001b[1;33m,\u001b[0m \u001b[0mkwargs\u001b[0m\u001b[1;33m)\u001b[0m  \u001b[1;31m# pylint: disable=protected-access\u001b[0m\u001b[1;33m\u001b[0m\u001b[1;33m\u001b[0m\u001b[0m\n\u001b[0m\u001b[0;32m   2830\u001b[0m \u001b[1;33m\u001b[0m\u001b[0m\n\u001b[0;32m   2831\u001b[0m   \u001b[1;33m@\u001b[0m\u001b[0mproperty\u001b[0m\u001b[1;33m\u001b[0m\u001b[1;33m\u001b[0m\u001b[0m\n",
      "\u001b[1;32m~\\anaconda3\\lib\\site-packages\\tensorflow\\python\\eager\\function.py\u001b[0m in \u001b[0;36m_filtered_call\u001b[1;34m(self, args, kwargs, cancellation_manager)\u001b[0m\n\u001b[0;32m   1841\u001b[0m       \u001b[0;31m`\u001b[0m\u001b[0margs\u001b[0m\u001b[0;31m`\u001b[0m \u001b[1;32mand\u001b[0m\u001b[0;31m \u001b[0m\u001b[0;31m`\u001b[0m\u001b[0mkwargs\u001b[0m\u001b[0;31m`\u001b[0m\u001b[1;33m.\u001b[0m\u001b[1;33m\u001b[0m\u001b[1;33m\u001b[0m\u001b[0m\n\u001b[0;32m   1842\u001b[0m     \"\"\"\n\u001b[1;32m-> 1843\u001b[1;33m     return self._call_flat(\n\u001b[0m\u001b[0;32m   1844\u001b[0m         [t for t in nest.flatten((args, kwargs), expand_composites=True)\n\u001b[0;32m   1845\u001b[0m          if isinstance(t, (ops.Tensor,\n",
      "\u001b[1;32m~\\anaconda3\\lib\\site-packages\\tensorflow\\python\\eager\\function.py\u001b[0m in \u001b[0;36m_call_flat\u001b[1;34m(self, args, captured_inputs, cancellation_manager)\u001b[0m\n\u001b[0;32m   1921\u001b[0m         and executing_eagerly):\n\u001b[0;32m   1922\u001b[0m       \u001b[1;31m# No tape is watching; skip to running the function.\u001b[0m\u001b[1;33m\u001b[0m\u001b[1;33m\u001b[0m\u001b[1;33m\u001b[0m\u001b[0m\n\u001b[1;32m-> 1923\u001b[1;33m       return self._build_call_outputs(self._inference_function.call(\n\u001b[0m\u001b[0;32m   1924\u001b[0m           ctx, args, cancellation_manager=cancellation_manager))\n\u001b[0;32m   1925\u001b[0m     forward_backward = self._select_forward_and_backward_functions(\n",
      "\u001b[1;32m~\\anaconda3\\lib\\site-packages\\tensorflow\\python\\eager\\function.py\u001b[0m in \u001b[0;36mcall\u001b[1;34m(self, ctx, args, cancellation_manager)\u001b[0m\n\u001b[0;32m    543\u001b[0m       \u001b[1;32mwith\u001b[0m \u001b[0m_InterpolateFunctionError\u001b[0m\u001b[1;33m(\u001b[0m\u001b[0mself\u001b[0m\u001b[1;33m)\u001b[0m\u001b[1;33m:\u001b[0m\u001b[1;33m\u001b[0m\u001b[1;33m\u001b[0m\u001b[0m\n\u001b[0;32m    544\u001b[0m         \u001b[1;32mif\u001b[0m \u001b[0mcancellation_manager\u001b[0m \u001b[1;32mis\u001b[0m \u001b[1;32mNone\u001b[0m\u001b[1;33m:\u001b[0m\u001b[1;33m\u001b[0m\u001b[1;33m\u001b[0m\u001b[0m\n\u001b[1;32m--> 545\u001b[1;33m           outputs = execute.execute(\n\u001b[0m\u001b[0;32m    546\u001b[0m               \u001b[0mstr\u001b[0m\u001b[1;33m(\u001b[0m\u001b[0mself\u001b[0m\u001b[1;33m.\u001b[0m\u001b[0msignature\u001b[0m\u001b[1;33m.\u001b[0m\u001b[0mname\u001b[0m\u001b[1;33m)\u001b[0m\u001b[1;33m,\u001b[0m\u001b[1;33m\u001b[0m\u001b[1;33m\u001b[0m\u001b[0m\n\u001b[0;32m    547\u001b[0m               \u001b[0mnum_outputs\u001b[0m\u001b[1;33m=\u001b[0m\u001b[0mself\u001b[0m\u001b[1;33m.\u001b[0m\u001b[0m_num_outputs\u001b[0m\u001b[1;33m,\u001b[0m\u001b[1;33m\u001b[0m\u001b[1;33m\u001b[0m\u001b[0m\n",
      "\u001b[1;32m~\\anaconda3\\lib\\site-packages\\tensorflow\\python\\eager\\execute.py\u001b[0m in \u001b[0;36mquick_execute\u001b[1;34m(op_name, num_outputs, inputs, attrs, ctx, name)\u001b[0m\n\u001b[0;32m     57\u001b[0m   \u001b[1;32mtry\u001b[0m\u001b[1;33m:\u001b[0m\u001b[1;33m\u001b[0m\u001b[1;33m\u001b[0m\u001b[0m\n\u001b[0;32m     58\u001b[0m     \u001b[0mctx\u001b[0m\u001b[1;33m.\u001b[0m\u001b[0mensure_initialized\u001b[0m\u001b[1;33m(\u001b[0m\u001b[1;33m)\u001b[0m\u001b[1;33m\u001b[0m\u001b[1;33m\u001b[0m\u001b[0m\n\u001b[1;32m---> 59\u001b[1;33m     tensors = pywrap_tfe.TFE_Py_Execute(ctx._handle, device_name, op_name,\n\u001b[0m\u001b[0;32m     60\u001b[0m                                         inputs, attrs, num_outputs)\n\u001b[0;32m     61\u001b[0m   \u001b[1;32mexcept\u001b[0m \u001b[0mcore\u001b[0m\u001b[1;33m.\u001b[0m\u001b[0m_NotOkStatusException\u001b[0m \u001b[1;32mas\u001b[0m \u001b[0me\u001b[0m\u001b[1;33m:\u001b[0m\u001b[1;33m\u001b[0m\u001b[1;33m\u001b[0m\u001b[0m\n",
      "\u001b[1;31mKeyboardInterrupt\u001b[0m: "
     ]
    }
   ],
   "source": [
    "# Generate Seeds\n",
    "\n",
    "n_seeds = 7\n",
    "\n",
    "seeds = [10, 11, 12, 13, 14, 15, 16]\n",
    "\n",
    "# Training Loop\n",
    "n_test = test_data.shape[0]\n",
    "n_labels = targets.shape[1]\n",
    "\n",
    "n_folds = 10\n",
    "y_pred = np.zeros((n_test,n_labels))\n",
    "oof_for_blend = np.zeros((train_data.shape[0], n_labels))\n",
    "\n",
    "oof = tf.constant(0.0)\n",
    "hists = []\n",
    "\n",
    "# this takes a while..\n",
    "\n",
    "for seed in seeds:\n",
    "    print(\"current seed:\", seed)\n",
    "    fold = 0\n",
    "\n",
    "    kf = KFold(n_splits=n_folds,shuffle=True,random_state=seed)\n",
    "    for train, test in kf.split(train_data):\n",
    "        \n",
    "        X_train, X_test = train_data[train], train_data[test]\n",
    "        \n",
    "        \n",
    "        X_train_2 = train_data2[train]\n",
    "        X_test_2 = train_data2[test]\n",
    "        \n",
    "        y_train = targets[train]\n",
    "        y_test = targets[test]\n",
    "        n_features = X_train.shape[1]\n",
    "        n_features_2 = X_train_2.shape[1]\n",
    "\n",
    "        model = build_model(n_features, n_features_2, n_labels)\n",
    "        \n",
    "        reduce_lr = callbacks.ReduceLROnPlateau(monitor='val_logloss', factor=0.1, patience=2, mode='min', min_lr=1E-5)\n",
    "        early_stopping = callbacks.EarlyStopping(monitor='val_logloss', min_delta=1E-5, patience=10, mode='min',restore_best_weights=True)\n",
    "\n",
    "        hist = model.fit([X_train,X_train_2],y_train, batch_size=16, epochs=1,verbose=1,validation_data = ([X_test,X_test_2],y_test),\n",
    "                         callbacks=[reduce_lr, early_stopping])\n",
    "        hists.append(hist)\n",
    "        \n",
    "        # Save Model\n",
    "        model.save(output_path + 'TwoHeads_seed_'+str(seed)+'_fold_'+str(fold))\n",
    "\n",
    "\n",
    "        # OOF Score\n",
    "        y_val = model.predict([X_test,X_test_2])\n",
    "        oof_for_blend[test] += np.clip(y_val, p_min, p_max) / n_seeds\n",
    "        \n",
    "        oof += logloss(tf.constant(y_test,dtype=tf.float32),tf.constant(y_val,dtype=tf.float32))/(n_folds*n_seeds)\n",
    "\n",
    "        # Run prediction\n",
    "        y_pred += model.predict([test_data, test_data2])/(n_folds*n_seeds)\n",
    "\n",
    "        fold += 1"
   ]
  },
  {
   "cell_type": "code",
   "execution_count": 7,
   "metadata": {
    "execution": {
     "iopub.execute_input": "2020-11-28T18:47:14.312485Z",
     "iopub.status.busy": "2020-11-28T18:47:14.310627Z",
     "iopub.status.idle": "2020-11-28T18:47:14.313224Z",
     "shell.execute_reply": "2020-11-28T18:47:14.313697Z"
    },
    "papermill": {
     "duration": 98.715616,
     "end_time": "2020-11-28T18:47:14.313823",
     "exception": false,
     "start_time": "2020-11-28T18:45:35.598207",
     "status": "completed"
    },
    "tags": []
   },
   "outputs": [],
   "source": [
    "import tensorflow.keras as keras\n",
    "\n",
    "#model = keras.models.load_model(\"./TwoHeads_seed_1_fold_0\", custom_objects={'logloss':logloss})\n",
    "#model.save(\"./TwoHeads_seed_1_fold_0\")"
   ]
  },
  {
   "cell_type": "code",
   "execution_count": 8,
   "metadata": {
    "execution": {
     "iopub.execute_input": "2020-11-28T18:50:29.728791Z",
     "iopub.status.busy": "2020-11-28T18:50:29.727814Z",
     "iopub.status.idle": "2020-11-28T18:50:29.757698Z",
     "shell.execute_reply": "2020-11-28T18:50:29.757119Z"
    },
    "papermill": {
     "duration": 97.390418,
     "end_time": "2020-11-28T18:50:29.757806",
     "exception": false,
     "start_time": "2020-11-28T18:48:52.367388",
     "status": "completed"
    },
    "tags": []
   },
   "outputs": [],
   "source": [
    "import pickle\n",
    "\n",
    "file = open(output_path + \"oof\", \"wb\")\n",
    "pickle.dump(oof_for_blend, file)\n",
    "file.close()"
   ]
  },
  {
   "cell_type": "code",
   "execution_count": 9,
   "metadata": {
    "execution": {
     "iopub.execute_input": "2020-11-28T18:53:43.712817Z",
     "iopub.status.busy": "2020-11-28T18:53:43.712081Z",
     "iopub.status.idle": "2020-11-28T18:53:44.562933Z",
     "shell.execute_reply": "2020-11-28T18:53:44.561996Z"
    },
    "papermill": {
     "duration": 97.535146,
     "end_time": "2020-11-28T18:53:44.563048",
     "exception": false,
     "start_time": "2020-11-28T18:52:07.027902",
     "status": "completed"
    },
    "tags": []
   },
   "outputs": [
    {
     "data": {
      "image/png": "[encoded data removed]",
      "text/plain": [
       "<IPython.core.display.Image object>"
      ]
     },
     "execution_count": 9,
     "metadata": {},
     "output_type": "execute_result"
    }
   ],
   "source": [
    "# Model Architecture\n",
    "\n",
    "tf.keras.utils.plot_model(model,show_shapes=True)"
   ]
  },
  {
   "cell_type": "code",
   "execution_count": 10,
   "metadata": {
    "execution": {
     "iopub.execute_input": "2020-11-28T18:57:04.996290Z",
     "iopub.status.busy": "2020-11-28T18:57:04.995303Z",
     "iopub.status.idle": "2020-11-28T18:57:05.593689Z",
     "shell.execute_reply": "2020-11-28T18:57:05.594159Z"
    },
    "papermill": {
     "duration": 102.775504,
     "end_time": "2020-11-28T18:57:05.594306",
     "exception": false,
     "start_time": "2020-11-28T18:55:22.818802",
     "status": "completed"
    },
    "tags": []
   },
   "outputs": [
    {
     "name": "stdout",
     "output_type": "stream",
     "text": [
      "OOF score is  0.0164092891\n"
     ]
    },
    {
     "data": {
      "text/plain": [
       "<matplotlib.legend.Legend at 0x7fc5a5c92dd0>"
      ]
     },
     "execution_count": 10,
     "metadata": {},
     "output_type": "execute_result"
    },
    {
     "data": {
      "image/png": "[encoded data removed]",
      "text/plain": [
       "<Figure size 864x576 with 1 Axes>"
      ]
     },
     "metadata": {
      "needs_background": "light"
     },
     "output_type": "display_data"
    }
   ],
   "source": [
    "# Analysis of Training\n",
    "\n",
    "tf.print('OOF score is ',oof)\n",
    "\n",
    "plt.figure(figsize=(12,8))\n",
    "\n",
    "hist_trains = []\n",
    "hist_lens = []\n",
    "for i in range(n_folds*n_seeds):\n",
    "    hist_train = (hists[i]).history['logloss']\n",
    "    hist_trains.append(hist_train)\n",
    "    hist_lens.append(len(hist_train))\n",
    "hist_train = []\n",
    "for i in range(min(hist_lens)):\n",
    "    hist_train.append(np.mean([hist_trains[j][i] for j in range(n_folds*n_seeds)]))\n",
    "\n",
    "plt.plot(hist_train)\n",
    "\n",
    "hist_vals = []\n",
    "hist_lens = []\n",
    "for i in range(n_folds*n_seeds):\n",
    "    hist_val = (hists[i]).history['val_logloss']\n",
    "    hist_vals.append(hist_val)\n",
    "    hist_lens.append(len(hist_val))\n",
    "hist_val = []\n",
    "for i in range(min(hist_lens)):\n",
    "    hist_val.append(np.mean([hist_vals[j][i] for j in range(n_folds*n_seeds)]))\n",
    "\n",
    "plt.plot(hist_val)\n",
    "\n",
    "plt.yscale('log')\n",
    "plt.yticks(ticks=[1,1E-1,1E-2])\n",
    "plt.xlabel('Epochs')\n",
    "plt.ylabel('Average Logloss')\n",
    "plt.legend(['Training','Validation'])"
   ]
  },
  {
   "cell_type": "code",
   "execution_count": 11,
   "metadata": {
    "execution": {
     "iopub.execute_input": "2020-11-28T19:00:38.210519Z",
     "iopub.status.busy": "2020-11-28T19:00:38.208866Z",
     "iopub.status.idle": "2020-11-28T19:00:41.533584Z",
     "shell.execute_reply": "2020-11-28T19:00:41.532439Z"
    },
    "papermill": {
     "duration": 111.048017,
     "end_time": "2020-11-28T19:00:41.533717",
     "exception": false,
     "start_time": "2020-11-28T18:58:50.485700",
     "status": "completed"
    },
    "tags": []
   },
   "outputs": [],
   "source": [
    "# Generate submission file, Clip Predictions\n",
    "\n",
    "sub = pd.read_csv('/kaggle/input/lish-moa/sample_submission.csv')\n",
    "test_features = pd.read_csv('../input/lish-moa/test_features.csv')\n",
    "y_pred = np.clip(y_pred,p_min,p_max)\n",
    "sub.iloc[test_features['cp_type'] != 'ctl_vehicle',1:] = y_pred\n",
    "\n",
    "# Set ctl_vehicle to 0\n",
    "sub.iloc[test_features['cp_type'] == 'ctl_vehicle',1:] = 0\n",
    "\n",
    "# Save Submission\n",
    "sub.to_csv('submission.csv', index=False)"
   ]
  },
  {
   "cell_type": "code",
   "execution_count": null,
   "metadata": {
    "papermill": {
     "duration": 109.92548,
     "end_time": "2020-11-28T19:04:19.235969",
     "exception": false,
     "start_time": "2020-11-28T19:02:29.310489",
     "status": "completed"
    },
    "tags": []
   },
   "outputs": [],
   "source": []
  }
 ],
 "metadata": {
  "kernelspec": {
   "display_name": "Python 3",
   "language": "python",
   "name": "python3"
  },
  "language_info": {
   "codemirror_mode": {
    "name": "ipython",
    "version": 3
   },
   "file_extension": ".py",
   "mimetype": "text/x-python",
   "name": "python",
   "nbconvert_exporter": "python",
   "pygments_lexer": "ipython3",
   "version": "3.8.3-final"
  },
  "papermill": {
   "duration": 17311.972739,
   "end_time": "2020-11-28T19:06:10.709093",
   "environment_variables": {},
   "exception": null,
   "input_path": "__notebook__.ipynb",
   "output_path": "__notebook__.ipynb",
   "parameters": {},
   "start_time": "2020-11-28T14:17:38.736354",
   "version": "2.1.0"
  }
 },
 "nbformat": 4,
 "nbformat_minor": 4
}