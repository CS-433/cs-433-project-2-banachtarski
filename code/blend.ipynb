{
 "cells": [
  {
   "cell_type": "code",
   "execution_count": 2,
   "metadata": {
    "execution": {
     "iopub.execute_input": "2020-11-28T22:02:35.765244Z",
     "iopub.status.busy": "2020-11-28T22:02:35.764352Z",
     "iopub.status.idle": "2020-11-28T22:02:36.697627Z",
     "shell.execute_reply": "2020-11-28T22:02:36.696981Z"
    },
    "papermill": {
     "duration": 0.968848,
     "end_time": "2020-11-28T22:02:36.697733",
     "exception": false,
     "start_time": "2020-11-28T22:02:35.728885",
     "status": "completed"
    },
    "tags": []
   },
   "outputs": [],
   "source": [
    "import sys\n",
    "from iterstrat.ml_stratifiers import MultilabelStratifiedKFold"
   ]
  },
  {
   "cell_type": "code",
   "execution_count": 3,
   "metadata": {
    "_cell_guid": "79c7e3d0-c299-4dcb-8224-4455121ee9b0",
    "_uuid": "d629ff2d2480ee46fbb7e2d37f6b5fab8052498a",
    "execution": {
     "iopub.execute_input": "2020-11-28T22:02:36.800636Z",
     "iopub.status.busy": "2020-11-28T22:02:36.795075Z",
     "iopub.status.idle": "2020-11-28T22:02:37.989250Z",
     "shell.execute_reply": "2020-11-28T22:02:37.988612Z"
    },
    "papermill": {
     "duration": 1.247615,
     "end_time": "2020-11-28T22:02:37.989358",
     "exception": false,
     "start_time": "2020-11-28T22:02:36.741743",
     "status": "completed"
    },
    "tags": []
   },
   "outputs": [],
   "source": [
    "### General ###\n",
    "import os\n",
    "import copy\n",
    "import tqdm\n",
    "import pickle\n",
    "import random\n",
    "import warnings\n",
    "warnings.filterwarnings(\"ignore\")\n",
    "sys.path.append(\"../input/rank-gauss\")\n",
    "os.environ[\"CUDA_LAUNCH_BLOCKING\"] = '1'\n",
    "\n",
    "### Data Wrangling ###\n",
    "import numpy as np\n",
    "import pandas as pd\n",
    "from scipy import stats\n",
    "\n",
    "### Machine Learning ###\n",
    "from sklearn import preprocessing\n",
    "from sklearn.metrics import roc_auc_score, log_loss\n",
    "from sklearn.preprocessing import StandardScaler\n",
    "from sklearn.decomposition import PCA\n",
    "\n",
    "from pickle import load,dump\n",
    "\n",
    "### Deep Learning ###\n",
    "import torch\n",
    "from torch import nn\n",
    "import torch.optim as optim\n",
    "from torch.nn import functional as F\n",
    "from torch.nn.modules.loss import _WeightedLoss\n",
    "from torch.utils.data import DataLoader, Dataset\n",
    "from torch.optim.lr_scheduler import ReduceLROnPlateau\n",
    "# Tabnet \n",
    "from pytorch_tabnet.metrics import Metric\n",
    "from pytorch_tabnet.tab_model import TabNetRegressor\n",
    "\n",
    "### Make prettier the prints ###\n",
    "from colorama import Fore\n",
    "c_ = Fore.CYAN\n",
    "m_ = Fore.MAGENTA\n",
    "r_ = Fore.RED\n",
    "b_ = Fore.BLUE\n",
    "y_ = Fore.YELLOW\n",
    "g_ = Fore.GREEN"
   ]
  },
  {
   "cell_type": "code",
   "execution_count": 4,
   "metadata": {
    "execution": {
     "iopub.execute_input": "2020-11-28T22:02:38.086519Z",
     "iopub.status.busy": "2020-11-28T22:02:38.085658Z",
     "iopub.status.idle": "2020-11-28T22:02:38.090017Z",
     "shell.execute_reply": "2020-11-28T22:02:38.089173Z"
    },
    "papermill": {
     "duration": 0.055348,
     "end_time": "2020-11-28T22:02:38.090148",
     "exception": false,
     "start_time": "2020-11-28T22:02:38.034800",
     "status": "completed"
    },
    "tags": []
   },
   "outputs": [],
   "source": [
    "from sklearn.preprocessing import QuantileTransformer"
   ]
  },
  {
   "cell_type": "code",
   "execution_count": 5,
   "metadata": {
    "execution": {
     "iopub.execute_input": "2020-11-28T22:02:38.232534Z",
     "iopub.status.busy": "2020-11-28T22:02:38.231602Z",
     "iopub.status.idle": "2020-11-28T22:02:38.240105Z",
     "shell.execute_reply": "2020-11-28T22:02:38.239627Z"
    },
    "papermill": {
     "duration": 0.08164,
     "end_time": "2020-11-28T22:02:38.240219",
     "exception": false,
     "start_time": "2020-11-28T22:02:38.158579",
     "status": "completed"
    },
    "tags": []
   },
   "outputs": [
    {
     "output_type": "execute_result",
     "data": {
      "text/plain": [
       "['sample_submission.csv',\n",
       " 'test_features.csv',\n",
       " 'train_drug.csv',\n",
       " 'train_features.csv',\n",
       " 'train_targets_nonscored.csv',\n",
       " 'train_targets_scored.csv']"
      ]
     },
     "metadata": {},
     "execution_count": 5
    }
   ],
   "source": [
    "os.listdir('../input/lish-moa')"
   ]
  },
  {
   "cell_type": "code",
   "execution_count": 6,
   "metadata": {
    "execution": {
     "iopub.execute_input": "2020-11-28T22:02:38.337823Z",
     "iopub.status.busy": "2020-11-28T22:02:38.336951Z",
     "iopub.status.idle": "2020-11-28T22:02:44.664256Z",
     "shell.execute_reply": "2020-11-28T22:02:44.663489Z"
    },
    "papermill": {
     "duration": 6.379661,
     "end_time": "2020-11-28T22:02:44.664365",
     "exception": false,
     "start_time": "2020-11-28T22:02:38.284704",
     "status": "completed"
    },
    "tags": []
   },
   "outputs": [],
   "source": [
    "train_features = pd.read_csv('../input/lish-moa/train_features.csv')\n",
    "train_targets_scored = pd.read_csv('../input/lish-moa/train_targets_scored.csv')\n",
    "train_targets_nonscored = pd.read_csv('../input/lish-moa/train_targets_nonscored.csv')\n",
    "\n",
    "test_features = pd.read_csv('../input/lish-moa/test_features.csv')\n",
    "df = pd.read_csv('../input/lish-moa/sample_submission.csv')"
   ]
  },
  {
   "cell_type": "code",
   "execution_count": 7,
   "metadata": {
    "execution": {
     "iopub.execute_input": "2020-11-28T22:02:44.966066Z",
     "iopub.status.busy": "2020-11-28T22:02:44.965246Z",
     "iopub.status.idle": "2020-11-28T22:02:44.969165Z",
     "shell.execute_reply": "2020-11-28T22:02:44.968671Z"
    },
    "papermill": {
     "duration": 0.079184,
     "end_time": "2020-11-28T22:02:44.969273",
     "exception": false,
     "start_time": "2020-11-28T22:02:44.890089",
     "status": "completed"
    },
    "tags": []
   },
   "outputs": [],
   "source": [
    "GENES = [col for col in train_features.columns if col.startswith('g-')]\n",
    "CELLS = [col for col in train_features.columns if col.startswith('c-')]"
   ]
  },
  {
   "cell_type": "code",
   "execution_count": 8,
   "metadata": {
    "execution": {
     "iopub.execute_input": "2020-11-28T22:02:58.362227Z",
     "iopub.status.busy": "2020-11-28T22:02:58.360871Z",
     "iopub.status.idle": "2020-11-28T22:02:58.370197Z",
     "shell.execute_reply": "2020-11-28T22:02:58.369703Z"
    },
    "papermill": {
     "duration": 0.062563,
     "end_time": "2020-11-28T22:02:58.370293",
     "exception": false,
     "start_time": "2020-11-28T22:02:58.307730",
     "status": "completed"
    },
    "tags": []
   },
   "outputs": [],
   "source": [
    "seed = 42\n",
    "\n",
    "def set_seed(seed):\n",
    "    random.seed(seed)\n",
    "    np.random.seed(seed)\n",
    "    torch.manual_seed(seed)\n",
    "    os.environ[\"PYTHONHASHSEED\"] = str(seed)\n",
    "    \n",
    "    if torch.cuda.is_available():\n",
    "        torch.cuda.manual_seed(seed)\n",
    "        torch.cuda.manual_seed_all(seed)\n",
    "        torch.backends.cudnn.deterministic = True\n",
    "        torch.backends.cudnn.benchmark = False\n",
    "set_seed(seed)"
   ]
  },
  {
   "cell_type": "code",
   "execution_count": 9,
   "metadata": {},
   "outputs": [
    {
     "output_type": "stream",
     "name": "stdout",
     "text": [
      "making gaussian distributions\n",
      "performing pca on genes\n",
      "number of columns for pca G is: 600\n",
      "performing pca on cells\n",
      "number of columns for pca C is: 50\n",
      "variance threshold: 0.85\n",
      "adding clusters generated from KMeans as features\n",
      "adding statistics and square of columns as new features\n",
      "g_sum\n",
      "new number of columns: 1239\n"
     ]
    }
   ],
   "source": [
    "from feature_engineering_blend import *\n",
    "\n",
    "train_features = pd.read_csv('../input/lish-moa/train_features.csv')\n",
    "test_features = pd.read_csv('../input/lish-moa/test_features.csv')\n",
    "train_features, test_features = inference_preprocess(train_features, test_features,                                             input_path =  \"../input/results_tabnet/\")"
   ]
  },
  {
   "cell_type": "code",
   "execution_count": 10,
   "metadata": {
    "execution": {
     "iopub.execute_input": "2020-11-28T22:03:06.232135Z",
     "iopub.status.busy": "2020-11-28T22:03:06.231454Z",
     "iopub.status.idle": "2020-11-28T22:03:06.829282Z",
     "shell.execute_reply": "2020-11-28T22:03:06.828680Z"
    },
    "papermill": {
     "duration": 0.654092,
     "end_time": "2020-11-28T22:03:06.829419",
     "exception": false,
     "start_time": "2020-11-28T22:03:06.175327",
     "status": "completed"
    },
    "tags": []
   },
   "outputs": [],
   "source": [
    "train = train_features.merge(train_targets_scored, on='sig_id')\n",
    "train = train[train['cp_type']!='ctl_vehicle'].reset_index(drop=True)\n",
    "test = test_features[test_features['cp_type']!='ctl_vehicle'].reset_index(drop=True)\n",
    "\n",
    "target = train[train_targets_scored.columns]"
   ]
  },
  {
   "cell_type": "code",
   "execution_count": 11,
   "metadata": {
    "execution": {
     "iopub.execute_input": "2020-11-28T22:03:06.998636Z",
     "iopub.status.busy": "2020-11-28T22:03:06.996450Z",
     "iopub.status.idle": "2020-11-28T22:03:07.025977Z",
     "shell.execute_reply": "2020-11-28T22:03:07.025080Z"
    },
    "papermill": {
     "duration": 0.147597,
     "end_time": "2020-11-28T22:03:07.026115",
     "exception": false,
     "start_time": "2020-11-28T22:03:06.878518",
     "status": "completed"
    },
    "tags": []
   },
   "outputs": [],
   "source": [
    "train = train.drop('cp_type', axis=1)\n",
    "test = test.drop('cp_type', axis=1)"
   ]
  },
  {
   "cell_type": "code",
   "execution_count": 12,
   "metadata": {
    "execution": {
     "iopub.execute_input": "2020-11-28T22:03:07.111321Z",
     "iopub.status.busy": "2020-11-28T22:03:07.110009Z",
     "iopub.status.idle": "2020-11-28T22:03:07.114385Z",
     "shell.execute_reply": "2020-11-28T22:03:07.113904Z"
    },
    "papermill": {
     "duration": 0.053222,
     "end_time": "2020-11-28T22:03:07.114511",
     "exception": false,
     "start_time": "2020-11-28T22:03:07.061289",
     "status": "completed"
    },
    "tags": []
   },
   "outputs": [],
   "source": [
    "target_cols = target.drop('sig_id', axis=1).columns.values.tolist()"
   ]
  },
  {
   "cell_type": "code",
   "execution_count": 13,
   "metadata": {
    "execution": {
     "iopub.execute_input": "2020-11-28T22:03:07.240629Z",
     "iopub.status.busy": "2020-11-28T22:03:07.239639Z",
     "iopub.status.idle": "2020-11-28T22:03:07.244537Z",
     "shell.execute_reply": "2020-11-28T22:03:07.243770Z"
    },
    "papermill": {
     "duration": 0.078511,
     "end_time": "2020-11-28T22:03:07.244676",
     "exception": false,
     "start_time": "2020-11-28T22:03:07.166165",
     "status": "completed"
    },
    "tags": []
   },
   "outputs": [],
   "source": [
    "target=target[target_cols]"
   ]
  },
  {
   "cell_type": "code",
   "execution_count": 14,
   "metadata": {
    "execution": {
     "iopub.execute_input": "2020-11-28T22:03:07.399181Z",
     "iopub.status.busy": "2020-11-28T22:03:07.398330Z",
     "iopub.status.idle": "2020-11-28T22:03:07.675181Z",
     "shell.execute_reply": "2020-11-28T22:03:07.674441Z"
    },
    "papermill": {
     "duration": 0.357036,
     "end_time": "2020-11-28T22:03:07.675334",
     "exception": false,
     "start_time": "2020-11-28T22:03:07.318298",
     "status": "completed"
    },
    "tags": []
   },
   "outputs": [],
   "source": [
    "train = pd.get_dummies(train, columns=['cp_time','cp_dose'])\n",
    "test = pd.get_dummies(test, columns=['cp_time','cp_dose'])"
   ]
  },
  {
   "cell_type": "code",
   "execution_count": 15,
   "metadata": {
    "execution": {
     "iopub.execute_input": "2020-11-28T22:03:07.794214Z",
     "iopub.status.busy": "2020-11-28T22:03:07.793302Z",
     "iopub.status.idle": "2020-11-28T22:03:07.796364Z",
     "shell.execute_reply": "2020-11-28T22:03:07.796900Z"
    },
    "papermill": {
     "duration": 0.067706,
     "end_time": "2020-11-28T22:03:07.797022",
     "exception": false,
     "start_time": "2020-11-28T22:03:07.729316",
     "status": "completed"
    },
    "tags": []
   },
   "outputs": [],
   "source": [
    "feature_cols = [c for c in train.columns if c not in target_cols]\n",
    "feature_cols = [c for c in feature_cols if c not in ['sig_id']]"
   ]
  },
  {
   "cell_type": "code",
   "execution_count": 16,
   "metadata": {},
   "outputs": [
    {
     "output_type": "stream",
     "name": "stdout",
     "text": [
      "(21948, 1447)\n(3624, 1241)\n"
     ]
    }
   ],
   "source": [
    "print(train.shape)\n",
    "print(test.shape)"
   ]
  },
  {
   "cell_type": "code",
   "execution_count": 17,
   "metadata": {
    "execution": {
     "iopub.execute_input": "2020-11-28T22:03:07.904135Z",
     "iopub.status.busy": "2020-11-28T22:03:07.903297Z",
     "iopub.status.idle": "2020-11-28T22:03:08.158775Z",
     "shell.execute_reply": "2020-11-28T22:03:08.158167Z"
    },
    "papermill": {
     "duration": 0.311689,
     "end_time": "2020-11-28T22:03:08.158882",
     "exception": false,
     "start_time": "2020-11-28T22:03:07.847193",
     "status": "completed"
    },
    "tags": []
   },
   "outputs": [],
   "source": [
    "train = train[feature_cols]\n",
    "test = test[feature_cols]"
   ]
  },
  {
   "cell_type": "code",
   "execution_count": 18,
   "metadata": {
    "execution": {
     "iopub.execute_input": "2020-11-28T22:03:08.260578Z",
     "iopub.status.busy": "2020-11-28T22:03:08.259860Z",
     "iopub.status.idle": "2020-11-28T22:03:08.269312Z",
     "shell.execute_reply": "2020-11-28T22:03:08.269803Z"
    },
    "papermill": {
     "duration": 0.063102,
     "end_time": "2020-11-28T22:03:08.269950",
     "exception": false,
     "start_time": "2020-11-28T22:03:08.206848",
     "status": "completed"
    },
    "tags": []
   },
   "outputs": [],
   "source": [
    "X_test = test.values"
   ]
  },
  {
   "cell_type": "code",
   "execution_count": 19,
   "metadata": {
    "execution": {
     "iopub.execute_input": "2020-11-28T22:03:08.377513Z",
     "iopub.status.busy": "2020-11-28T22:03:08.376667Z",
     "iopub.status.idle": "2020-11-28T22:03:08.379540Z",
     "shell.execute_reply": "2020-11-28T22:03:08.380198Z"
    },
    "papermill": {
     "duration": 0.06153,
     "end_time": "2020-11-28T22:03:08.380361",
     "exception": false,
     "start_time": "2020-11-28T22:03:08.318831",
     "status": "completed"
    },
    "tags": []
   },
   "outputs": [],
   "source": [
    "class LogitsLogLoss(Metric):\n",
    "\n",
    "    def __init__(self):\n",
    "        self._name = \"logits_ll\"\n",
    "        self._maximize = False\n",
    "\n",
    "    def __call__(self, y_true, y_pred):\n",
    "        logits = 1 / (1 + np.exp(-y_pred))\n",
    "        aux = (1 - y_true) * np.log(1 - logits + 5e-5) + y_true * np.log(logits + 5e-5)\n",
    "        return np.mean(-aux)"
   ]
  },
  {
   "cell_type": "code",
   "execution_count": 20,
   "metadata": {
    "execution": {
     "iopub.execute_input": "2020-11-28T22:03:08.530315Z",
     "iopub.status.busy": "2020-11-28T22:03:08.529456Z",
     "iopub.status.idle": "2020-11-28T22:03:08.534372Z",
     "shell.execute_reply": "2020-11-28T22:03:08.533674Z"
    },
    "papermill": {
     "duration": 0.084286,
     "end_time": "2020-11-28T22:03:08.534546",
     "exception": false,
     "start_time": "2020-11-28T22:03:08.450260",
     "status": "completed"
    },
    "tags": []
   },
   "outputs": [],
   "source": [
    "MAX_EPOCH = 200\n",
    "\n",
    "tabnet_params = dict(\n",
    "    n_d = 32,\n",
    "    n_a = 32,\n",
    "    n_steps = 1,\n",
    "    gamma = 1.3,\n",
    "    lambda_sparse = 0,\n",
    "    optimizer_fn = optim.Adam,\n",
    "    optimizer_params = dict(lr = 2e-2, weight_decay = 1e-5),\n",
    "    mask_type = \"entmax\",\n",
    "    scheduler_params = dict(mode = \"min\", patience = 5, min_lr = 1e-5, factor = 0.9),\n",
    "    scheduler_fn = ReduceLROnPlateau,\n",
    "    seed = seed,\n",
    "    verbose = 10\n",
    ")"
   ]
  },
  {
   "cell_type": "code",
   "execution_count": 21,
   "metadata": {
    "execution": {
     "iopub.execute_input": "2020-11-28T22:03:08.715640Z",
     "iopub.status.busy": "2020-11-28T22:03:08.714786Z",
     "iopub.status.idle": "2020-11-28T22:03:40.702658Z",
     "shell.execute_reply": "2020-11-28T22:03:40.701987Z"
    },
    "papermill": {
     "duration": 32.080844,
     "end_time": "2020-11-28T22:03:40.702777",
     "exception": false,
     "start_time": "2020-11-28T22:03:08.621933",
     "status": "completed"
    },
    "tags": []
   },
   "outputs": [
    {
     "output_type": "stream",
     "name": "stdout",
     "text": [
      "Device used : cpu\n",
      "Device used : cpu\n",
      "Device used : cpu\n",
      "Device used : cpu\n",
      "Device used : cpu\n",
      "Device used : cpu\n",
      "Device used : cpu\n",
      "Device used : cpu\n",
      "Device used : cpu\n",
      "Device used : cpu\n",
      "Device used : cpu\n",
      "Device used : cpu\n",
      "Device used : cpu\n",
      "Device used : cpu\n",
      "Device used : cpu\n",
      "Device used : cpu\n",
      "Device used : cpu\n",
      "Device used : cpu\n",
      "Device used : cpu\n",
      "Device used : cpu\n",
      "Device used : cpu\n",
      "Device used : cpu\n",
      "Device used : cpu\n",
      "Device used : cpu\n",
      "Device used : cpu\n",
      "Device used : cpu\n",
      "Device used : cpu\n",
      "Device used : cpu\n",
      "Device used : cpu\n",
      "Device used : cpu\n",
      "Device used : cpu\n",
      "Device used : cpu\n",
      "Device used : cpu\n",
      "Device used : cpu\n",
      "Device used : cpu\n",
      "Device used : cpu\n",
      "Device used : cpu\n",
      "Device used : cpu\n",
      "Device used : cpu\n",
      "Device used : cpu\n",
      "Device used : cpu\n",
      "Device used : cpu\n",
      "Device used : cpu\n",
      "Device used : cpu\n",
      "Device used : cpu\n",
      "Device used : cpu\n",
      "Device used : cpu\n",
      "Device used : cpu\n",
      "Device used : cpu\n",
      "Device used : cpu\n",
      "Device used : cpu\n",
      "Device used : cpu\n",
      "Device used : cpu\n",
      "Device used : cpu\n",
      "Device used : cpu\n",
      "Device used : cpu\n",
      "Device used : cpu\n",
      "Device used : cpu\n",
      "Device used : cpu\n",
      "Device used : cpu\n"
     ]
    }
   ],
   "source": [
    "test_cv_preds = []\n",
    "\n",
    "NB_SPLITS = 10\n",
    "mskf = MultilabelStratifiedKFold(n_splits = NB_SPLITS, random_state = 0, shuffle = True)\n",
    "SEED = [20,21,22]\n",
    "for s in SEED:\n",
    "    tabnet_params['seed'] = s\n",
    "    for fold_nb, (train_idx, val_idx) in enumerate(mskf.split(train, target)):\n",
    "        \n",
    "        model = TabNetRegressor(**tabnet_params)\n",
    "        ### Predict on test ###\n",
    "        model.load_model(f\"../input/results_tabnet/TabNet_seed_{s}_fold_{fold_nb+1}.zip\")\n",
    "        preds_test = model.predict(X_test)\n",
    "        test_cv_preds.append(1 / (1 + np.exp(-preds_test)))\n",
    "\n",
    "test_preds_all = np.stack(test_cv_preds)"
   ]
  },
  {
   "cell_type": "code",
   "execution_count": 22,
   "metadata": {
    "execution": {
     "iopub.execute_input": "2020-11-28T22:03:40.844548Z",
     "iopub.status.busy": "2020-11-28T22:03:40.840730Z",
     "iopub.status.idle": "2020-11-28T22:03:42.589710Z",
     "shell.execute_reply": "2020-11-28T22:03:42.589108Z"
    },
    "papermill": {
     "duration": 1.822194,
     "end_time": "2020-11-28T22:03:42.589803",
     "exception": false,
     "start_time": "2020-11-28T22:03:40.767609",
     "status": "completed"
    },
    "tags": []
   },
   "outputs": [
    {
     "output_type": "execute_result",
     "data": {
      "text/plain": [
       "         sig_id  5-alpha_reductase_inhibitor  11-beta-hsd1_inhibitor  \\\n",
       "0  id_0004d9e33                     0.001001                0.001180   \n",
       "1  id_001897cda                     0.000553                0.000970   \n",
       "2  id_002429b5b                     0.000000                0.000000   \n",
       "3  id_00276f245                     0.000941                0.001069   \n",
       "4  id_0027f1083                     0.001404                0.001343   \n",
       "\n",
       "   acat_inhibitor  acetylcholine_receptor_agonist  \\\n",
       "0        0.002022                        0.019151   \n",
       "1        0.002050                        0.003869   \n",
       "2        0.000000                        0.000000   \n",
       "3        0.001757                        0.009520   \n",
       "4        0.001599                        0.015770   \n",
       "\n",
       "   acetylcholine_receptor_antagonist  acetylcholinesterase_inhibitor  \\\n",
       "0                           0.022228                        0.005246   \n",
       "1                           0.002154                        0.002155   \n",
       "2                           0.000000                        0.000000   \n",
       "3                           0.014225                        0.004072   \n",
       "4                           0.020870                        0.004714   \n",
       "\n",
       "   adenosine_receptor_agonist  adenosine_receptor_antagonist  \\\n",
       "0                    0.002998                       0.005494   \n",
       "1                    0.002373                       0.010095   \n",
       "2                    0.000000                       0.000000   \n",
       "3                    0.002586                       0.004707   \n",
       "4                    0.003634                       0.003071   \n",
       "\n",
       "   adenylyl_cyclase_activator  ...  tropomyosin_receptor_kinase_inhibitor  \\\n",
       "0                    0.000341  ...                               0.000791   \n",
       "1                    0.001831  ...                               0.000823   \n",
       "2                    0.000000  ...                               0.000000   \n",
       "3                    0.000272  ...                               0.000677   \n",
       "4                    0.000482  ...                               0.000753   \n",
       "\n",
       "   trpv_agonist  trpv_antagonist  tubulin_inhibitor  \\\n",
       "0      0.001165         0.003596           0.000863   \n",
       "1      0.001038         0.004116           0.000436   \n",
       "2      0.000000         0.000000           0.000000   \n",
       "3      0.001883         0.002904           0.014936   \n",
       "4      0.000820         0.002950           0.001631   \n",
       "\n",
       "   tyrosine_kinase_inhibitor  ubiquitin_specific_protease_inhibitor  \\\n",
       "0                   0.000768                               0.000551   \n",
       "1                   0.003736                               0.000538   \n",
       "2                   0.000000                               0.000000   \n",
       "3                   0.004340                               0.000663   \n",
       "4                   0.001472                               0.000680   \n",
       "\n",
       "   vegfr_inhibitor  vitamin_b  vitamin_d_receptor_agonist  wnt_inhibitor  \n",
       "0         0.000530   0.002032                    0.002621       0.001774  \n",
       "1         0.003671   0.001173                    0.007768       0.003193  \n",
       "2         0.000000   0.000000                    0.000000       0.000000  \n",
       "3         0.001643   0.001733                    0.000565       0.001571  \n",
       "4         0.000892   0.001871                    0.000559       0.001550  \n",
       "\n",
       "[5 rows x 207 columns]"
      ],
      "text/html": "<div>\n<style scoped>\n    .dataframe tbody tr th:only-of-type {\n        vertical-align: middle;\n    }\n\n    .dataframe tbody tr th {\n        vertical-align: top;\n    }\n\n    .dataframe thead th {\n        text-align: right;\n    }\n</style>\n<table border=\"1\" class=\"dataframe\">\n  <thead>\n    <tr style=\"text-align: right;\">\n      <th></th>\n      <th>sig_id</th>\n      <th>5-alpha_reductase_inhibitor</th>\n      <th>11-beta-hsd1_inhibitor</th>\n      <th>acat_inhibitor</th>\n      <th>acetylcholine_receptor_agonist</th>\n      <th>acetylcholine_receptor_antagonist</th>\n      <th>acetylcholinesterase_inhibitor</th>\n      <th>adenosine_receptor_agonist</th>\n      <th>adenosine_receptor_antagonist</th>\n      <th>adenylyl_cyclase_activator</th>\n      <th>...</th>\n      <th>tropomyosin_receptor_kinase_inhibitor</th>\n      <th>trpv_agonist</th>\n      <th>trpv_antagonist</th>\n      <th>tubulin_inhibitor</th>\n      <th>tyrosine_kinase_inhibitor</th>\n      <th>ubiquitin_specific_protease_inhibitor</th>\n      <th>vegfr_inhibitor</th>\n      <th>vitamin_b</th>\n      <th>vitamin_d_receptor_agonist</th>\n      <th>wnt_inhibitor</th>\n    </tr>\n  </thead>\n  <tbody>\n    <tr>\n      <th>0</th>\n      <td>id_0004d9e33</td>\n      <td>0.001001</td>\n      <td>0.001180</td>\n      <td>0.002022</td>\n      <td>0.019151</td>\n      <td>0.022228</td>\n      <td>0.005246</td>\n      <td>0.002998</td>\n      <td>0.005494</td>\n      <td>0.000341</td>\n      <td>...</td>\n      <td>0.000791</td>\n      <td>0.001165</td>\n      <td>0.003596</td>\n      <td>0.000863</td>\n      <td>0.000768</td>\n      <td>0.000551</td>\n      <td>0.000530</td>\n      <td>0.002032</td>\n      <td>0.002621</td>\n      <td>0.001774</td>\n    </tr>\n    <tr>\n      <th>1</th>\n      <td>id_001897cda</td>\n      <td>0.000553</td>\n      <td>0.000970</td>\n      <td>0.002050</td>\n      <td>0.003869</td>\n      <td>0.002154</td>\n      <td>0.002155</td>\n      <td>0.002373</td>\n      <td>0.010095</td>\n      <td>0.001831</td>\n      <td>...</td>\n      <td>0.000823</td>\n      <td>0.001038</td>\n      <td>0.004116</td>\n      <td>0.000436</td>\n      <td>0.003736</td>\n      <td>0.000538</td>\n      <td>0.003671</td>\n      <td>0.001173</td>\n      <td>0.007768</td>\n      <td>0.003193</td>\n    </tr>\n    <tr>\n      <th>2</th>\n      <td>id_002429b5b</td>\n      <td>0.000000</td>\n      <td>0.000000</td>\n      <td>0.000000</td>\n      <td>0.000000</td>\n      <td>0.000000</td>\n      <td>0.000000</td>\n      <td>0.000000</td>\n      <td>0.000000</td>\n      <td>0.000000</td>\n      <td>...</td>\n      <td>0.000000</td>\n      <td>0.000000</td>\n      <td>0.000000</td>\n      <td>0.000000</td>\n      <td>0.000000</td>\n      <td>0.000000</td>\n      <td>0.000000</td>\n      <td>0.000000</td>\n      <td>0.000000</td>\n      <td>0.000000</td>\n    </tr>\n    <tr>\n      <th>3</th>\n      <td>id_00276f245</td>\n      <td>0.000941</td>\n      <td>0.001069</td>\n      <td>0.001757</td>\n      <td>0.009520</td>\n      <td>0.014225</td>\n      <td>0.004072</td>\n      <td>0.002586</td>\n      <td>0.004707</td>\n      <td>0.000272</td>\n      <td>...</td>\n      <td>0.000677</td>\n      <td>0.001883</td>\n      <td>0.002904</td>\n      <td>0.014936</td>\n      <td>0.004340</td>\n      <td>0.000663</td>\n      <td>0.001643</td>\n      <td>0.001733</td>\n      <td>0.000565</td>\n      <td>0.001571</td>\n    </tr>\n    <tr>\n      <th>4</th>\n      <td>id_0027f1083</td>\n      <td>0.001404</td>\n      <td>0.001343</td>\n      <td>0.001599</td>\n      <td>0.015770</td>\n      <td>0.020870</td>\n      <td>0.004714</td>\n      <td>0.003634</td>\n      <td>0.003071</td>\n      <td>0.000482</td>\n      <td>...</td>\n      <td>0.000753</td>\n      <td>0.000820</td>\n      <td>0.002950</td>\n      <td>0.001631</td>\n      <td>0.001472</td>\n      <td>0.000680</td>\n      <td>0.000892</td>\n      <td>0.001871</td>\n      <td>0.000559</td>\n      <td>0.001550</td>\n    </tr>\n  </tbody>\n</table>\n<p>5 rows × 207 columns</p>\n</div>"
     },
     "metadata": {},
     "execution_count": 22
    }
   ],
   "source": [
    "all_feat = [col for col in df.columns if col not in [\"sig_id\"]]\n",
    "# To obtain the same lenght of test_preds_all and submission\n",
    "test = pd.read_csv(\"../input/lish-moa/test_features.csv\")\n",
    "sig_id = test[test[\"cp_type\"] != \"ctl_vehicle\"].sig_id.reset_index(drop = True)\n",
    "tmp = pd.DataFrame(test_preds_all.mean(axis = 0), columns = all_feat)\n",
    "tmp[\"sig_id\"] = sig_id\n",
    "\n",
    "\n",
    "submission_tabnet = pd.merge(test[[\"sig_id\"]], tmp, on = \"sig_id\", how = \"left\")\n",
    "submission_tabnet.fillna(0, inplace = True)\n",
    "#submission_tabnet.to_csv(\"submission_tabnet.csv\", index = None)\n",
    "submission_tabnet.head()"
   ]
  },
  {
   "cell_type": "code",
   "execution_count": 23,
   "metadata": {
    "execution": {
     "iopub.execute_input": "2020-11-28T22:03:42.734673Z",
     "iopub.status.busy": "2020-11-28T22:03:42.734048Z",
     "iopub.status.idle": "2020-11-28T22:03:42.738299Z",
     "shell.execute_reply": "2020-11-28T22:03:42.737784Z"
    },
    "papermill": {
     "duration": 0.078371,
     "end_time": "2020-11-28T22:03:42.738387",
     "exception": false,
     "start_time": "2020-11-28T22:03:42.660016",
     "status": "completed"
    },
    "tags": []
   },
   "outputs": [
    {
     "output_type": "stream",
     "name": "stdout",
     "text": [
      "\u001b[34msubmission_tabnet.shape: \u001b[31m(3982, 207)\n"
     ]
    }
   ],
   "source": [
    "print(f\"{b_}submission_tabnet.shape: {r_}{submission_tabnet.shape}\")"
   ]
  },
  {
   "cell_type": "code",
   "execution_count": 24,
   "metadata": {
    "execution": {
     "iopub.execute_input": "2020-11-28T22:03:42.839365Z",
     "iopub.status.busy": "2020-11-28T22:03:42.838925Z",
     "iopub.status.idle": "2020-11-28T22:03:42.842168Z",
     "shell.execute_reply": "2020-11-28T22:03:42.842524Z"
    },
    "papermill": {
     "duration": 0.056833,
     "end_time": "2020-11-28T22:03:42.842608",
     "exception": false,
     "start_time": "2020-11-28T22:03:42.785775",
     "status": "completed"
    },
    "tags": []
   },
   "outputs": [],
   "source": [
    "def check_submission(actual, control_path):\n",
    "    sub_control = pd.read_csv(control_path)\n",
    "    np.testing.assert_almost_equal(actual = actual.drop(\"sig_id\", axis = 1).to_numpy(),\n",
    "                               desired = sub_control.drop(\"sig_id\", axis = 1).to_numpy(), decimal=5, err_msg='', verbose=True)\n",
    "\n",
    "    for i in range(len(actual[\"sig_id\"])):\n",
    "    \n",
    "        assert list(actual[\"sig_id\"])[i] == list(sub_control[\"sig_id\"])[i] \n",
    "    \n",
    "check_submission(submission_tabnet, \"../input/results_tabnet/submission.csv\") "
   ]
  },
  {
   "cell_type": "markdown",
   "metadata": {
    "papermill": {
     "duration": 0.067156,
     "end_time": "2020-11-28T22:03:42.973970",
     "exception": false,
     "start_time": "2020-11-28T22:03:42.906814",
     "status": "completed"
    },
    "tags": []
   },
   "source": [
    "# Neural Network"
   ]
  },
  {
   "cell_type": "code",
   "execution_count": 25,
   "metadata": {
    "execution": {
     "iopub.execute_input": "2020-11-28T22:03:43.139582Z",
     "iopub.status.busy": "2020-11-28T22:03:43.128988Z",
     "iopub.status.idle": "2020-11-28T22:04:02.147728Z",
     "shell.execute_reply": "2020-11-28T22:04:02.147075Z"
    },
    "papermill": {
     "duration": 19.105334,
     "end_time": "2020-11-28T22:04:02.147835",
     "exception": false,
     "start_time": "2020-11-28T22:03:43.042501",
     "status": "completed"
    },
    "tags": []
   },
   "outputs": [],
   "source": [
    "train_features = pd.read_csv('../input/lish-moa/train_features.csv')\n",
    "train_targets_scored = pd.read_csv('../input/lish-moa/train_targets_scored.csv')\n",
    "train_targets_nonscored = pd.read_csv('../input/lish-moa/train_targets_nonscored.csv')\n",
    "\n",
    "test_features = pd.read_csv('../input/lish-moa/test_features.csv')\n",
    "df = pd.read_csv('../input/lish-moa/sample_submission.csv')\n",
    "\n",
    "\n",
    "GENES = [col for col in train_features.columns if col.startswith('g-')]\n",
    "CELLS = [col for col in train_features.columns if col.startswith('c-')]\n",
    "\n"
   ]
  },
  {
   "cell_type": "code",
   "execution_count": 26,
   "metadata": {},
   "outputs": [
    {
     "output_type": "stream",
     "name": "stdout",
     "text": [
      "making gaussian distributions\n",
      "performing pca on genes\n",
      "number of columns for pca G is: 600\n",
      "performing pca on cells\n",
      "number of columns for pca C is: 50\n",
      "variance threshold: 0.85\n",
      "adding clusters generated from KMeans as features\n",
      "adding statistics and square of columns as new features\n",
      "g_sum\n",
      "new number of columns: 1239\n"
     ]
    }
   ],
   "source": [
    "train_features, test_features = inference_preprocess(train_features, test_features, input_path=\"../input/results_NN/\")"
   ]
  },
  {
   "cell_type": "code",
   "execution_count": 27,
   "metadata": {
    "execution": {
     "iopub.execute_input": "2020-11-28T22:04:08.377525Z",
     "iopub.status.busy": "2020-11-28T22:04:08.376622Z",
     "iopub.status.idle": "2020-11-28T22:04:08.983907Z",
     "shell.execute_reply": "2020-11-28T22:04:08.983176Z"
    },
    "papermill": {
     "duration": 0.720174,
     "end_time": "2020-11-28T22:04:08.984046",
     "exception": false,
     "start_time": "2020-11-28T22:04:08.263872",
     "status": "completed"
    },
    "tags": []
   },
   "outputs": [],
   "source": [
    "train_drug = pd.read_csv(\"../input/lish-moa/train_drug.csv\")\n",
    "train = train_features.merge(train_targets_scored, on='sig_id')\n",
    "train = train.merge(train_targets_nonscored, on='sig_id')\n",
    "train = train.merge(train_drug, on='sig_id')\n",
    "train = train[train['cp_type'] != 'ctl_vehicle'].reset_index(drop=True)\n",
    "test = test_features[test_features['cp_type'] != 'ctl_vehicle'].reset_index(drop=True)"
   ]
  },
  {
   "cell_type": "code",
   "execution_count": 28,
   "metadata": {
    "execution": {
     "iopub.execute_input": "2020-11-28T22:04:09.216023Z",
     "iopub.status.busy": "2020-11-28T22:04:09.198571Z",
     "iopub.status.idle": "2020-11-28T22:04:09.259018Z",
     "shell.execute_reply": "2020-11-28T22:04:09.258524Z"
    },
    "papermill": {
     "duration": 0.170583,
     "end_time": "2020-11-28T22:04:09.259124",
     "exception": false,
     "start_time": "2020-11-28T22:04:09.088541",
     "status": "completed"
    },
    "tags": []
   },
   "outputs": [],
   "source": [
    "train = train.drop('cp_type', axis=1)\n",
    "test = test.drop('cp_type', axis=1)\n"
   ]
  },
  {
   "cell_type": "code",
   "execution_count": 29,
   "metadata": {
    "execution": {
     "iopub.execute_input": "2020-11-28T22:04:09.395162Z",
     "iopub.status.busy": "2020-11-28T22:04:09.394495Z",
     "iopub.status.idle": "2020-11-28T22:04:09.397206Z",
     "shell.execute_reply": "2020-11-28T22:04:09.397921Z"
    },
    "papermill": {
     "duration": 0.069989,
     "end_time": "2020-11-28T22:04:09.398090",
     "exception": false,
     "start_time": "2020-11-28T22:04:09.328101",
     "status": "completed"
    },
    "tags": []
   },
   "outputs": [
    {
     "output_type": "stream",
     "name": "stdout",
     "text": [
      "num_targets: 206\nnum_aux_targets: 402\nnum_all_targets: 608\n"
     ]
    }
   ],
   "source": [
    "target_cols = [x for x in train_targets_scored.columns if x != 'sig_id']\n",
    "aux_target_cols = [x for x in train_targets_nonscored.columns if x != 'sig_id']\n",
    "all_target_cols = target_cols + aux_target_cols\n",
    "\n",
    "num_targets = len(target_cols)\n",
    "num_aux_targets = len(aux_target_cols)\n",
    "num_all_targets = len(all_target_cols)\n",
    "\n",
    "print('num_targets: {}'.format(num_targets))\n",
    "print('num_aux_targets: {}'.format(num_aux_targets))\n",
    "print('num_all_targets: {}'.format(num_all_targets))"
   ]
  },
  {
   "cell_type": "code",
   "execution_count": 30,
   "metadata": {
    "execution": {
     "iopub.execute_input": "2020-11-28T22:04:09.544260Z",
     "iopub.status.busy": "2020-11-28T22:04:09.543664Z",
     "iopub.status.idle": "2020-11-28T22:04:09.546243Z",
     "shell.execute_reply": "2020-11-28T22:04:09.545661Z"
    },
    "papermill": {
     "duration": 0.077985,
     "end_time": "2020-11-28T22:04:09.546351",
     "exception": false,
     "start_time": "2020-11-28T22:04:09.468366",
     "status": "completed"
    },
    "tags": []
   },
   "outputs": [],
   "source": [
    "def process_data(data):\n",
    "    data = pd.get_dummies(data, columns=['cp_time','cp_dose'])\n",
    "    return data"
   ]
  },
  {
   "cell_type": "code",
   "execution_count": 31,
   "metadata": {
    "execution": {
     "iopub.execute_input": "2020-11-28T22:04:09.714548Z",
     "iopub.status.busy": "2020-11-28T22:04:09.713928Z",
     "iopub.status.idle": "2020-11-28T22:04:09.860059Z",
     "shell.execute_reply": "2020-11-28T22:04:09.860530Z"
    },
    "papermill": {
     "duration": 0.237225,
     "end_time": "2020-11-28T22:04:09.860654",
     "exception": false,
     "start_time": "2020-11-28T22:04:09.623429",
     "status": "completed"
    },
    "tags": []
   },
   "outputs": [
    {
     "output_type": "execute_result",
     "data": {
      "text/plain": [
       "1240"
      ]
     },
     "metadata": {},
     "execution_count": 31
    }
   ],
   "source": [
    "feature_cols = [c for c in process_data(train).columns if c not in all_target_cols]\n",
    "feature_cols = [c for c in feature_cols if c not in ['kfold', 'sig_id', 'drug_id']]\n",
    "num_features = len(feature_cols)\n",
    "num_features"
   ]
  },
  {
   "cell_type": "code",
   "execution_count": 32,
   "metadata": {
    "execution": {
     "iopub.execute_input": "2020-11-28T22:04:10.006316Z",
     "iopub.status.busy": "2020-11-28T22:04:10.004544Z",
     "iopub.status.idle": "2020-11-28T22:04:10.134816Z",
     "shell.execute_reply": "2020-11-28T22:04:10.135257Z"
    },
    "papermill": {
     "duration": 0.205262,
     "end_time": "2020-11-28T22:04:10.135374",
     "exception": false,
     "start_time": "2020-11-28T22:04:09.930112",
     "status": "completed"
    },
    "tags": []
   },
   "outputs": [],
   "source": [
    "train = process_data(train)\n",
    "test = process_data(test)"
   ]
  },
  {
   "cell_type": "code",
   "execution_count": 33,
   "metadata": {
    "execution": {
     "iopub.execute_input": "2020-11-28T22:04:10.426817Z",
     "iopub.status.busy": "2020-11-28T22:04:10.287031Z",
     "iopub.status.idle": "2020-11-28T22:04:10.432002Z",
     "shell.execute_reply": "2020-11-28T22:04:10.431341Z"
    },
    "papermill": {
     "duration": 0.227594,
     "end_time": "2020-11-28T22:04:10.432112",
     "exception": false,
     "start_time": "2020-11-28T22:04:10.204518",
     "status": "completed"
    },
    "tags": []
   },
   "outputs": [],
   "source": [
    "class MoADataset:\n",
    "    def __init__(self, features, targets):\n",
    "        self.features = features\n",
    "        self.targets = targets\n",
    "        \n",
    "    def __len__(self):\n",
    "        return (self.features.shape[0])\n",
    "    \n",
    "    def __getitem__(self, idx):\n",
    "        dct = {\n",
    "            'x' : torch.tensor(self.features[idx, :], dtype=torch.float),\n",
    "            'y' : torch.tensor(self.targets[idx, :], dtype=torch.float)\n",
    "        }\n",
    "        \n",
    "        return dct\n",
    "    \n",
    "class TestDataset:\n",
    "    def __init__(self, features):\n",
    "        self.features = features\n",
    "        \n",
    "    def __len__(self):\n",
    "        return (self.features.shape[0])\n",
    "    \n",
    "    def __getitem__(self, idx):\n",
    "        dct = {\n",
    "            'x' : torch.tensor(self.features[idx, :], dtype=torch.float)\n",
    "        }\n",
    "\n",
    "        return dct\n",
    "    \n",
    "    \n",
    "\n",
    "def inference_fn(model, dataloader, device):\n",
    "    model.eval()\n",
    "    preds = []\n",
    "    \n",
    "    for data in dataloader:\n",
    "        inputs = data['x'].to(device)\n",
    "\n",
    "        with torch.no_grad():\n",
    "            outputs = model(inputs)\n",
    "        \n",
    "        preds.append(outputs.sigmoid().detach().cpu().numpy())\n",
    "        \n",
    "    preds = np.concatenate(preds)\n",
    "    return preds"
   ]
  },
  {
   "cell_type": "code",
   "execution_count": 34,
   "metadata": {
    "execution": {
     "iopub.execute_input": "2020-11-28T22:04:10.586424Z",
     "iopub.status.busy": "2020-11-28T22:04:10.581091Z",
     "iopub.status.idle": "2020-11-28T22:04:10.617901Z",
     "shell.execute_reply": "2020-11-28T22:04:10.617288Z"
    },
    "papermill": {
     "duration": 0.116502,
     "end_time": "2020-11-28T22:04:10.618016",
     "exception": false,
     "start_time": "2020-11-28T22:04:10.501514",
     "status": "completed"
    },
    "tags": []
   },
   "outputs": [],
   "source": [
    "# HyperParameters\n",
    "\n",
    "DEVICE = ('cuda' if torch.cuda.is_available() else 'cpu')\n",
    "EPOCHS = 24\n",
    "BATCH_SIZE = 128\n",
    "\n",
    "WEIGHT_DECAY = {'ALL_TARGETS': 1e-5, 'SCORED_ONLY': 3e-6}\n",
    "MAX_LR = {'ALL_TARGETS': 1e-2, 'SCORED_ONLY': 3e-3}\n",
    "DIV_FACTOR = {'ALL_TARGETS': 1e3, 'SCORED_ONLY': 1e2}\n",
    "PCT_START = 0.1\n",
    "\n",
    "class Model(nn.Module):\n",
    "    def __init__(self, num_features, num_targets):\n",
    "        super(Model, self).__init__()\n",
    "        self.hidden_size = [1500, 1250, 1000, 750]\n",
    "        self.dropout_value = [0.5, 0.35, 0.3, 0.25]\n",
    "\n",
    "        self.batch_norm1 = nn.BatchNorm1d(num_features)\n",
    "        self.dense1 = nn.Linear(num_features, self.hidden_size[0])\n",
    "        \n",
    "        self.batch_norm2 = nn.BatchNorm1d(self.hidden_size[0])\n",
    "        self.dropout2 = nn.Dropout(self.dropout_value[0])\n",
    "        self.dense2 = nn.Linear(self.hidden_size[0], self.hidden_size[1])\n",
    "\n",
    "        self.batch_norm3 = nn.BatchNorm1d(self.hidden_size[1])\n",
    "        self.dropout3 = nn.Dropout(self.dropout_value[1])\n",
    "        self.dense3 = nn.Linear(self.hidden_size[1], self.hidden_size[2])\n",
    "\n",
    "        self.batch_norm4 = nn.BatchNorm1d(self.hidden_size[2])\n",
    "        self.dropout4 = nn.Dropout(self.dropout_value[2])\n",
    "        self.dense4 = nn.Linear(self.hidden_size[2], self.hidden_size[3])\n",
    "\n",
    "        self.batch_norm5 = nn.BatchNorm1d(self.hidden_size[3])\n",
    "        self.dropout5 = nn.Dropout(self.dropout_value[3])\n",
    "        self.dense5 = nn.utils.weight_norm(nn.Linear(self.hidden_size[3], num_targets))\n",
    "    \n",
    "    def forward(self, x):\n",
    "        x = self.batch_norm1(x)\n",
    "        x = F.leaky_relu(self.dense1(x))\n",
    "        \n",
    "        x = self.batch_norm2(x)\n",
    "        x = self.dropout2(x)\n",
    "        x = F.leaky_relu(self.dense2(x))\n",
    "\n",
    "        x = self.batch_norm3(x)\n",
    "        x = self.dropout3(x)\n",
    "        x = F.leaky_relu(self.dense3(x))\n",
    "\n",
    "        x = self.batch_norm4(x)\n",
    "        x = self.dropout4(x)\n",
    "        x = F.leaky_relu(self.dense4(x))\n",
    "\n",
    "        x = self.batch_norm5(x)\n",
    "        x = self.dropout5(x)\n",
    "        x = self.dense5(x)\n",
    "        return x\n",
    "    \n",
    "class LabelSmoothingLoss(nn.Module):\n",
    "    def __init__(self, classes, smoothing=0.0, dim=-1):\n",
    "        super(LabelSmoothingLoss, self).__init__()\n",
    "        self.confidence = 1.0 - smoothing\n",
    "        self.smoothing = smoothing\n",
    "        self.cls = classes\n",
    "        self.dim = dim\n",
    "\n",
    "    def forward(self, pred, target):\n",
    "        pred = pred.log_softmax(dim=self.dim)\n",
    "\n",
    "        with torch.no_grad():\n",
    "            true_dist = torch.zeros_like(pred)\n",
    "            true_dist.fill_(self.smoothing / (self.cls - 1))\n",
    "            true_dist.scatter_(1, target.data.unsqueeze(1), self.confidence)\n",
    "            \n",
    "        return torch.mean(torch.sum(-true_dist * pred, dim=self.dim))    \n",
    "    \n",
    "    \n"
   ]
  },
  {
   "cell_type": "code",
   "execution_count": 35,
   "metadata": {
    "execution": {
     "iopub.execute_input": "2020-11-28T22:04:10.770365Z",
     "iopub.status.busy": "2020-11-28T22:04:10.769447Z",
     "iopub.status.idle": "2020-11-28T22:04:10.773530Z",
     "shell.execute_reply": "2020-11-28T22:04:10.772700Z"
    },
    "papermill": {
     "duration": 0.083749,
     "end_time": "2020-11-28T22:04:10.773673",
     "exception": false,
     "start_time": "2020-11-28T22:04:10.689924",
     "status": "completed"
    },
    "tags": []
   },
   "outputs": [],
   "source": [
    "def make_predictions(model_path):\n",
    "    \n",
    "    x_test = test[feature_cols].values\n",
    "    testdataset = TestDataset(x_test)\n",
    "    testloader = torch.utils.data.DataLoader(testdataset, batch_size=BATCH_SIZE, shuffle=False)\n",
    "    \n",
    "    model = Model(\n",
    "        num_features=num_features,\n",
    "        num_targets=num_targets,\n",
    "    )\n",
    "    \n",
    "    model.load_state_dict(torch.load(model_path, map_location=DEVICE))\n",
    "    model.to(DEVICE)\n",
    "    \n",
    "    predictions = np.zeros((len(test), target.iloc[:, 1:].shape[1]))\n",
    "    predictions = inference_fn(model, testloader, DEVICE)\n",
    "    return predictions"
   ]
  },
  {
   "cell_type": "code",
   "execution_count": 45,
   "metadata": {
    "execution": {
     "iopub.execute_input": "2020-11-28T22:04:10.999114Z",
     "iopub.status.busy": "2020-11-28T22:04:10.998279Z",
     "iopub.status.idle": "2020-11-28T22:04:11.002572Z",
     "shell.execute_reply": "2020-11-28T22:04:11.001879Z"
    },
    "papermill": {
     "duration": 0.120346,
     "end_time": "2020-11-28T22:04:11.002711",
     "exception": false,
     "start_time": "2020-11-28T22:04:10.882365",
     "status": "completed"
    },
    "tags": []
   },
   "outputs": [],
   "source": [
    "def create_submission_NN():\n",
    "    \n",
    "    predictions = np.zeros((len(test), len(target_cols)))\n",
    "    NFOLDS = 7\n",
    "    NSEEDS = 7\n",
    "    \n",
    "    for seed in range(NSEEDS):\n",
    "        print(\"seed:\", seed)\n",
    "        for fold in range(NFOLDS):\n",
    "            pred_ = make_predictions(\"../input/results_NN/SCORED_ONLY_FOLD\" + str(fold) + \"_SEED\" + str(seed) + \".pth\")\n",
    "            predictions += pred_ / (NFOLDS * NSEEDS)\n",
    "    \n",
    "    pred_df = pd.DataFrame(data = predictions, columns = target_cols)\n",
    "    pred_df = pd.concat((test[\"sig_id\"], pred_df), axis = 1)\n",
    "    sample_submission = pd.read_csv(\"../input/lish-moa/sample_submission.csv\")\n",
    "    sub = sample_submission.drop(columns=target_cols).merge(pred_df[['sig_id']+target_cols], on='sig_id', how='left').fillna(0)\n",
    "    return sub"
   ]
  },
  {
   "cell_type": "code",
   "execution_count": 46,
   "metadata": {
    "execution": {
     "iopub.execute_input": "2020-11-28T22:04:11.220928Z",
     "iopub.status.busy": "2020-11-28T22:04:11.220104Z",
     "iopub.status.idle": "2020-11-28T22:05:31.728007Z",
     "shell.execute_reply": "2020-11-28T22:05:31.727496Z"
    },
    "papermill": {
     "duration": 80.619096,
     "end_time": "2020-11-28T22:05:31.728109",
     "exception": false,
     "start_time": "2020-11-28T22:04:11.109013",
     "status": "completed"
    },
    "tags": []
   },
   "outputs": [
    {
     "output_type": "stream",
     "name": "stdout",
     "text": [
      "seed: 0\n",
      "seed: 1\n",
      "seed: 2\n",
      "seed: 3\n",
      "seed: 4\n",
      "seed: 5\n",
      "seed: 6\n"
     ]
    }
   ],
   "source": [
    "submission_NN = create_submission_NN()"
   ]
  },
  {
   "cell_type": "code",
   "execution_count": 48,
   "metadata": {
    "execution": {
     "iopub.execute_input": "2020-11-28T22:05:31.908077Z",
     "iopub.status.busy": "2020-11-28T22:05:31.907383Z",
     "iopub.status.idle": "2020-11-28T22:05:31.910547Z",
     "shell.execute_reply": "2020-11-28T22:05:31.911091Z"
    },
    "papermill": {
     "duration": 0.107734,
     "end_time": "2020-11-28T22:05:31.911240",
     "exception": false,
     "start_time": "2020-11-28T22:05:31.803506",
     "status": "completed"
    },
    "tags": []
   },
   "outputs": [],
   "source": [
    "check_submission(submission_NN, \"../input/results_NN/submission.csv\") "
   ]
  },
  {
   "cell_type": "markdown",
   "metadata": {
    "papermill": {
     "duration": 0.069275,
     "end_time": "2020-11-28T22:05:32.193822",
     "exception": false,
     "start_time": "2020-11-28T22:05:32.124547",
     "status": "completed"
    },
    "tags": []
   },
   "source": [
    "# Resnet"
   ]
  },
  {
   "cell_type": "code",
   "execution_count": 51,
   "metadata": {
    "execution": {
     "iopub.execute_input": "2020-11-28T22:05:32.350498Z",
     "iopub.status.busy": "2020-11-28T22:05:32.345103Z",
     "iopub.status.idle": "2020-11-28T22:10:12.105466Z",
     "shell.execute_reply": "2020-11-28T22:10:12.104834Z"
    },
    "papermill": {
     "duration": 279.840484,
     "end_time": "2020-11-28T22:10:12.105566",
     "exception": false,
     "start_time": "2020-11-28T22:05:32.265082",
     "status": "completed"
    },
    "tags": []
   },
   "outputs": [
    {
     "output_type": "stream",
     "name": "stdout",
     "text": [
      "performing Rank Gauss\n",
      "performing PCA on GENES\n",
      "after PCA on GENES, number of features: 976\n",
      "performing PCA on CELLS\n",
      "after PCA on CELLS, number of features: 986\n",
      "dropping cp_type and rows with cp_type = ctl_vehicle from train, test and target dataframes\n",
      "current seed: 10\n",
      "current seed: 11\n",
      "current seed: 12\n",
      "current seed: 13\n",
      "current seed: 14\n",
      "current seed: 15\n",
      "current seed: 16\n"
     ]
    }
   ],
   "source": [
    "# Import train data, drop sig_id, cp_type\n",
    "import tensorflow.keras as keras\n",
    "import json\n",
    "train_data = pd.read_csv('../input/lish-moa/train_features.csv')\n",
    "\n",
    "targets = pd.read_csv('../input/lish-moa/train_targets_scored.csv')\n",
    "test_data = pd.read_csv('../input/lish-moa/test_features.csv')\n",
    "\n",
    "\n",
    "\n",
    "json_file_path = '../input/main_predictors.json'\n",
    "\n",
    "with open(json_file_path, 'r') as j:\n",
    "    predictors = json.loads(j.read())\n",
    "    predictors = predictors['start_predictors']\n",
    "\n",
    "\n",
    "def preprocess_data_resnet(train_data, test_data, targets, predictors):\n",
    "    columns_numeric = [\"g-\" + str(i) for i in range(772)] + [\"c-\" + str(i) for i in range(100)]\n",
    "    GENES = [col for col in train_data.columns if col.startswith('g-')]\n",
    "    CELLS = [col for col in train_data.columns if col.startswith('c-')]\n",
    "    \n",
    "    \n",
    "    print(\"performing Rank Gauss\")\n",
    "    #Rank Gauss\n",
    "    transformer = QuantileTransformer(n_quantiles=1000,random_state=0, output_distribution=\"normal\")\n",
    "    train_data[columns_numeric] = transformer.fit_transform(train_data[columns_numeric])\n",
    "    test_data[columns_numeric] = transformer.transform(test_data[columns_numeric])\n",
    "\n",
    "    \n",
    "    #FEATURES + PCA\n",
    "    print(\"performing PCA on GENES\")\n",
    "    #GENES\n",
    "    n_comp_genes = 100\n",
    "    pca_genes = PCA(n_components=n_comp_genes, random_state=42)\n",
    "    train_pca_genes = pca_genes.fit_transform(train_data[GENES])\n",
    "    test_pca_genes = pca_genes.transform(test_data[GENES])\n",
    "    #adding columns\n",
    "    train_pca_genes = pd.DataFrame(train_pca_genes, columns=[f'pca_G-{i}' for i in range(n_comp_genes)])\n",
    "    test_pca_genes = pd.DataFrame(test_pca_genes, columns=[f'pca_G-{i}' for i in range(n_comp_genes)])\n",
    "    train_data = pd.concat((train_data, train_pca_genes), axis=1)\n",
    "    test_data = pd.concat((test_data, test_pca_genes), axis=1)\n",
    "    print(\"after PCA on GENES, number of features:\", train_data.shape[1])\n",
    "    \n",
    "    \n",
    "    print(\"performing PCA on CELLS\")\n",
    "    #CELLS\n",
    "    n_comp_cells = 10\n",
    "    pca_cells = PCA(n_components=n_comp_cells, random_state=42)\n",
    "    train_pca_cells = pca_cells.fit_transform(train_data[CELLS])\n",
    "    test_pca_cells = pca_cells.transform(test_data[CELLS])\n",
    "    #adding columns\n",
    "    train_pca_cells = pd.DataFrame(train_pca_cells, columns=[f'pca_G-{i}' for i in range(n_comp_cells)])\n",
    "    test_pca_cells = pd.DataFrame(test_pca_cells, columns=[f'pca_G-{i}' for i in range(n_comp_cells)])\n",
    "    train_data = pd.concat((train_data, train_pca_cells), axis=1)\n",
    "    test_data = pd.concat((test_data, test_pca_cells), axis=1)\n",
    "    print(\"after PCA on CELLS, number of features:\", train_data.shape[1])\n",
    "    \n",
    "    columns_numeric = columns_numeric + [f'pca_G-{i}' for i in range(n_comp_cells)] + [f'pca_G-{i}' for i in range(n_comp_genes)]\n",
    "    \n",
    "    print(\"dropping cp_type and rows with cp_type = ctl_vehicle from train, test and target dataframes\")\n",
    "    train_data = train_data[train_data[\"cp_type\"] != \"ctl_vehicle\"].drop(\"cp_type\", axis = 1)\n",
    "    test_data = test_data[test_data[\"cp_type\"] != \"ctl_vehicle\"].drop(\"cp_type\", axis = 1)\n",
    "    features_labels = train_data.merge(targets, on='sig_id')\n",
    "    targets = features_labels[targets.columns]  \n",
    "    train_data = pd.get_dummies(train_data, columns=['cp_time','cp_dose'])\n",
    "    test_data = pd.get_dummies(test_data, columns=['cp_time','cp_dose'])\n",
    "    \n",
    "    targets.drop(\"sig_id\", inplace = True, axis=1)\n",
    "    train_data.drop(\"sig_id\", inplace = True, axis=1)\n",
    "    test_data.drop(\"sig_id\", inplace = True, axis=1)\n",
    "    train_data2 = train_data[predictors]\n",
    "    test_data2 = test_data[predictors]\n",
    "    \n",
    "    train_data = train_data.to_numpy()\n",
    "    test_data = test_data.to_numpy()\n",
    "    targets = targets.to_numpy()\n",
    "    train_data2 = train_data2.to_numpy()\n",
    "    test_data2 = test_data2.to_numpy()\n",
    "    \n",
    "    return train_data, train_data2, test_data, test_data2,  targets\n",
    "\n",
    "\n",
    "\n",
    "train_data, train_data2, test_data, test_data2,  targets = preprocess_data_resnet(train_data, test_data, targets, predictors)\n",
    "\n",
    "\n",
    "# Prediction Clipping Thresholds\n",
    "\n",
    "p_min = 0.0005\n",
    "p_max = 0.9995\n",
    "\n",
    "# OOF Evaluation Metric with clipping and no label smoothing\n",
    "\n",
    "def logloss(y_true, y_pred):\n",
    "    y_pred = tf.clip_by_value(y_pred,p_min,p_max)\n",
    "    return -backend.mean(y_true*backend.log(y_pred) + (1-y_true)*backend.log(1-y_pred))\n",
    "\n",
    "n_test = test_data.shape[0]\n",
    "n_labels = targets.shape[1]\n",
    "\n",
    "n_folds = 10\n",
    "y_pred = np.zeros((n_test,n_labels))\n",
    "\n",
    "n_seeds = 7\n",
    "for seed in range(10, 17):\n",
    "    print(\"current seed:\", seed)\n",
    "    for fold in range(n_folds):\n",
    "        model = keras.models.load_model(\"../input/results_resnet/TwoHeads_seed_\" + str(seed) + \"_fold_\" + str(fold), custom_objects={'logloss':logloss})\n",
    "        y_pred += model.predict([test_data, test_data2]) / (n_folds * n_seeds)\n",
    "\n"
   ]
  },
  {
   "cell_type": "code",
   "execution_count": 55,
   "metadata": {
    "execution": {
     "iopub.execute_input": "2020-11-28T22:10:12.295140Z",
     "iopub.status.busy": "2020-11-28T22:10:12.294496Z",
     "iopub.status.idle": "2020-11-28T22:10:14.682694Z",
     "shell.execute_reply": "2020-11-28T22:10:14.683037Z"
    },
    "papermill": {
     "duration": 2.497454,
     "end_time": "2020-11-28T22:10:14.683147",
     "exception": false,
     "start_time": "2020-11-28T22:10:12.185693",
     "status": "completed"
    },
    "tags": []
   },
   "outputs": [],
   "source": [
    "sub_resnet = pd.read_csv('../input/lish-moa/sample_submission.csv')\n",
    "test_features = pd.read_csv('../input/lish-moa/test_features.csv')\n",
    "y_pred = np.clip(y_pred,p_min,p_max)\n",
    "sub_resnet.loc[test_features['cp_type'] != 'ctl_vehicle',1:] = y_pred\n",
    "\n",
    "# Set ctl_vehicle to 0\n",
    "sub_resnet.loc[test_features['cp_type'] == 'ctl_vehicle',1:] = 0\n",
    "\n",
    "# Save Submission\n",
    "#sub_resnet.to_csv('submission_resnet.csv', index=False)\n",
    "check_submission(sub_resnet, \"../input/results_resnet/submission.csv\") "
   ]
  },
  {
   "cell_type": "code",
   "execution_count": 56,
   "metadata": {
    "execution": {
     "iopub.execute_input": "2020-11-28T22:10:14.794919Z",
     "iopub.status.busy": "2020-11-28T22:10:14.794221Z",
     "iopub.status.idle": "2020-11-28T22:10:16.697824Z",
     "shell.execute_reply": "2020-11-28T22:10:16.697244Z"
    },
    "papermill": {
     "duration": 1.962358,
     "end_time": "2020-11-28T22:10:16.697938",
     "exception": false,
     "start_time": "2020-11-28T22:10:14.735580",
     "status": "completed"
    },
    "tags": []
   },
   "outputs": [],
   "source": [
    "weight = [0.33387592693072893, 0.3345993850605896, 0.3315246880086815]\n",
    "\n",
    "\n",
    "submission = pd.read_csv('../input/lish-moa/sample_submission.csv')\n",
    "submission.iloc[:, 1:] = 0\n",
    "submission.iloc[:, 1:] = submission_NN.iloc[:, 1:] * weight[0] + submission_tabnet.iloc[:, 1:] * weight[1] + sub_resnet.iloc[:, 1:] * weight[2]\n",
    "\n",
    "#submission.to_csv('submission.csv', index=False)"
   ]
  },
  {
   "cell_type": "code",
   "execution_count": 57,
   "metadata": {
    "execution": {
     "iopub.execute_input": "2020-11-28T22:10:16.852810Z",
     "iopub.status.busy": "2020-11-28T22:10:16.851899Z",
     "iopub.status.idle": "2020-11-28T22:10:16.880757Z",
     "shell.execute_reply": "2020-11-28T22:10:16.880127Z"
    },
    "papermill": {
     "duration": 0.108838,
     "end_time": "2020-11-28T22:10:16.880855",
     "exception": false,
     "start_time": "2020-11-28T22:10:16.772017",
     "status": "completed"
    },
    "tags": []
   },
   "outputs": [
    {
     "output_type": "stream",
     "name": "stdout",
     "text": [
      "(3982, 207)\n"
     ]
    },
    {
     "output_type": "execute_result",
     "data": {
      "text/plain": [
       "         sig_id  5-alpha_reductase_inhibitor  11-beta-hsd1_inhibitor  \\\n",
       "0  id_0004d9e33                     0.000859                0.001217   \n",
       "1  id_001897cda                     0.000555                0.000967   \n",
       "2  id_002429b5b                     0.000000                0.000000   \n",
       "3  id_00276f245                     0.000802                0.000869   \n",
       "4  id_0027f1083                     0.001796                0.001289   \n",
       "\n",
       "   acat_inhibitor  acetylcholine_receptor_agonist  \\\n",
       "0        0.002069                        0.017110   \n",
       "1        0.001594                        0.002448   \n",
       "2        0.000000                        0.000000   \n",
       "3        0.002009                        0.015152   \n",
       "4        0.001706                        0.018504   \n",
       "\n",
       "   acetylcholine_receptor_antagonist  acetylcholinesterase_inhibitor  \\\n",
       "0                           0.021275                        0.004772   \n",
       "1                           0.001468                        0.001771   \n",
       "2                           0.000000                        0.000000   \n",
       "3                           0.018656                        0.005114   \n",
       "4                           0.023352                        0.004596   \n",
       "\n",
       "   adenosine_receptor_agonist  adenosine_receptor_antagonist  \\\n",
       "0                    0.002751                       0.005552   \n",
       "1                    0.005085                       0.013294   \n",
       "2                    0.000000                       0.000000   \n",
       "3                    0.003240                       0.005064   \n",
       "4                    0.004608                       0.002297   \n",
       "\n",
       "   adenylyl_cyclase_activator  ...  tropomyosin_receptor_kinase_inhibitor  \\\n",
       "0                    0.000416  ...                               0.001143   \n",
       "1                    0.025995  ...                               0.000712   \n",
       "2                    0.000000  ...                               0.000000   \n",
       "3                    0.000424  ...                               0.000679   \n",
       "4                    0.000487  ...                               0.001035   \n",
       "\n",
       "   trpv_agonist  trpv_antagonist  tubulin_inhibitor  \\\n",
       "0      0.001231         0.003854           0.001197   \n",
       "1      0.000968         0.003476           0.000585   \n",
       "2      0.000000         0.000000           0.000000   \n",
       "3      0.001453         0.003222           0.024122   \n",
       "4      0.000773         0.003514           0.001878   \n",
       "\n",
       "   tyrosine_kinase_inhibitor  ubiquitin_specific_protease_inhibitor  \\\n",
       "0                   0.000916                               0.000652   \n",
       "1                   0.007731                               0.000576   \n",
       "2                   0.000000                               0.000000   \n",
       "3                   0.005562                               0.000658   \n",
       "4                   0.001260                               0.000735   \n",
       "\n",
       "   vegfr_inhibitor  vitamin_b  vitamin_d_receptor_agonist  wnt_inhibitor  \n",
       "0         0.000826   0.001830                    0.003465       0.001496  \n",
       "1         0.005445   0.001285                    0.004174       0.003499  \n",
       "2         0.000000   0.000000                    0.000000       0.000000  \n",
       "3         0.001538   0.002031                    0.001259       0.002222  \n",
       "4         0.001164   0.001870                    0.000675       0.001305  \n",
       "\n",
       "[5 rows x 207 columns]"
      ],
      "text/html": "<div>\n<style scoped>\n    .dataframe tbody tr th:only-of-type {\n        vertical-align: middle;\n    }\n\n    .dataframe tbody tr th {\n        vertical-align: top;\n    }\n\n    .dataframe thead th {\n        text-align: right;\n    }\n</style>\n<table border=\"1\" class=\"dataframe\">\n  <thead>\n    <tr style=\"text-align: right;\">\n      <th></th>\n      <th>sig_id</th>\n      <th>5-alpha_reductase_inhibitor</th>\n      <th>11-beta-hsd1_inhibitor</th>\n      <th>acat_inhibitor</th>\n      <th>acetylcholine_receptor_agonist</th>\n      <th>acetylcholine_receptor_antagonist</th>\n      <th>acetylcholinesterase_inhibitor</th>\n      <th>adenosine_receptor_agonist</th>\n      <th>adenosine_receptor_antagonist</th>\n      <th>adenylyl_cyclase_activator</th>\n      <th>...</th>\n      <th>tropomyosin_receptor_kinase_inhibitor</th>\n      <th>trpv_agonist</th>\n      <th>trpv_antagonist</th>\n      <th>tubulin_inhibitor</th>\n      <th>tyrosine_kinase_inhibitor</th>\n      <th>ubiquitin_specific_protease_inhibitor</th>\n      <th>vegfr_inhibitor</th>\n      <th>vitamin_b</th>\n      <th>vitamin_d_receptor_agonist</th>\n      <th>wnt_inhibitor</th>\n    </tr>\n  </thead>\n  <tbody>\n    <tr>\n      <th>0</th>\n      <td>id_0004d9e33</td>\n      <td>0.000859</td>\n      <td>0.001217</td>\n      <td>0.002069</td>\n      <td>0.017110</td>\n      <td>0.021275</td>\n      <td>0.004772</td>\n      <td>0.002751</td>\n      <td>0.005552</td>\n      <td>0.000416</td>\n      <td>...</td>\n      <td>0.001143</td>\n      <td>0.001231</td>\n      <td>0.003854</td>\n      <td>0.001197</td>\n      <td>0.000916</td>\n      <td>0.000652</td>\n      <td>0.000826</td>\n      <td>0.001830</td>\n      <td>0.003465</td>\n      <td>0.001496</td>\n    </tr>\n    <tr>\n      <th>1</th>\n      <td>id_001897cda</td>\n      <td>0.000555</td>\n      <td>0.000967</td>\n      <td>0.001594</td>\n      <td>0.002448</td>\n      <td>0.001468</td>\n      <td>0.001771</td>\n      <td>0.005085</td>\n      <td>0.013294</td>\n      <td>0.025995</td>\n      <td>...</td>\n      <td>0.000712</td>\n      <td>0.000968</td>\n      <td>0.003476</td>\n      <td>0.000585</td>\n      <td>0.007731</td>\n      <td>0.000576</td>\n      <td>0.005445</td>\n      <td>0.001285</td>\n      <td>0.004174</td>\n      <td>0.003499</td>\n    </tr>\n    <tr>\n      <th>2</th>\n      <td>id_002429b5b</td>\n      <td>0.000000</td>\n      <td>0.000000</td>\n      <td>0.000000</td>\n      <td>0.000000</td>\n      <td>0.000000</td>\n      <td>0.000000</td>\n      <td>0.000000</td>\n      <td>0.000000</td>\n      <td>0.000000</td>\n      <td>...</td>\n      <td>0.000000</td>\n      <td>0.000000</td>\n      <td>0.000000</td>\n      <td>0.000000</td>\n      <td>0.000000</td>\n      <td>0.000000</td>\n      <td>0.000000</td>\n      <td>0.000000</td>\n      <td>0.000000</td>\n      <td>0.000000</td>\n    </tr>\n    <tr>\n      <th>3</th>\n      <td>id_00276f245</td>\n      <td>0.000802</td>\n      <td>0.000869</td>\n      <td>0.002009</td>\n      <td>0.015152</td>\n      <td>0.018656</td>\n      <td>0.005114</td>\n      <td>0.003240</td>\n      <td>0.005064</td>\n      <td>0.000424</td>\n      <td>...</td>\n      <td>0.000679</td>\n      <td>0.001453</td>\n      <td>0.003222</td>\n      <td>0.024122</td>\n      <td>0.005562</td>\n      <td>0.000658</td>\n      <td>0.001538</td>\n      <td>0.002031</td>\n      <td>0.001259</td>\n      <td>0.002222</td>\n    </tr>\n    <tr>\n      <th>4</th>\n      <td>id_0027f1083</td>\n      <td>0.001796</td>\n      <td>0.001289</td>\n      <td>0.001706</td>\n      <td>0.018504</td>\n      <td>0.023352</td>\n      <td>0.004596</td>\n      <td>0.004608</td>\n      <td>0.002297</td>\n      <td>0.000487</td>\n      <td>...</td>\n      <td>0.001035</td>\n      <td>0.000773</td>\n      <td>0.003514</td>\n      <td>0.001878</td>\n      <td>0.001260</td>\n      <td>0.000735</td>\n      <td>0.001164</td>\n      <td>0.001870</td>\n      <td>0.000675</td>\n      <td>0.001305</td>\n    </tr>\n  </tbody>\n</table>\n<p>5 rows × 207 columns</p>\n</div>"
     },
     "metadata": {},
     "execution_count": 57
    }
   ],
   "source": [
    "print(submission.shape)\n",
    "submission.head()"
   ]
  }
 ],
 "metadata": {
  "kernelspec": {
   "display_name": "Python 3",
   "language": "python",
   "name": "python3"
  },
  "language_info": {
   "codemirror_mode": {
    "name": "ipython",
    "version": 3
   },
   "file_extension": ".py",
   "mimetype": "text/x-python",
   "name": "python",
   "nbconvert_exporter": "python",
   "pygments_lexer": "ipython3",
   "version": "3.8.3-final"
  },
  "papermill": {
   "duration": 476.030369,
   "end_time": "2020-11-28T22:10:17.984467",
   "environment_variables": {},
   "exception": null,
   "input_path": "__notebook__.ipynb",
   "output_path": "__notebook__.ipynb",
   "parameters": {},
   "start_time": "2020-11-28T22:02:21.954098",
   "version": "2.1.0"
  }
 },
 "nbformat": 4,
 "nbformat_minor": 4
}