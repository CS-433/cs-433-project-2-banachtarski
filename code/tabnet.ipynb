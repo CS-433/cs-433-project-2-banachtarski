{
 "cells": [
  {
   "cell_type": "code",
   "execution_count": 1,
   "metadata": {
    "execution": {
     "iopub.execute_input": "2020-11-27T10:41:28.796456Z",
     "iopub.status.busy": "2020-11-27T10:41:28.792497Z",
     "iopub.status.idle": "2020-11-27T10:41:29.927881Z",
     "shell.execute_reply": "2020-11-27T10:41:29.928656Z"
    },
    "papermill": {
     "duration": 1.174256,
     "end_time": "2020-11-27T10:41:29.928863",
     "exception": false,
     "start_time": "2020-11-27T10:41:28.754607",
     "status": "completed"
    },
    "tags": []
   },
   "outputs": [],
   "source": [
    "from iterstrat.ml_stratifiers import MultilabelStratifiedKFold"
   ]
  },
  {
   "cell_type": "code",
   "execution_count": 2,
   "metadata": {
    "_cell_guid": "79c7e3d0-c299-4dcb-8224-4455121ee9b0",
    "_uuid": "d629ff2d2480ee46fbb7e2d37f6b5fab8052498a",
    "execution": {
     "iopub.execute_input": "2020-11-27T10:41:30.041076Z",
     "iopub.status.busy": "2020-11-27T10:41:30.040131Z",
     "iopub.status.idle": "2020-11-27T10:41:31.513048Z",
     "shell.execute_reply": "2020-11-27T10:41:31.511822Z"
    },
    "papermill": {
     "duration": 1.537692,
     "end_time": "2020-11-27T10:41:31.513226",
     "exception": false,
     "start_time": "2020-11-27T10:41:29.975534",
     "status": "completed"
    },
    "tags": []
   },
   "outputs": [],
   "source": [
    "### General ###\n",
    "import os\n",
    "import copy\n",
    "import tqdm\n",
    "import pickle\n",
    "import random\n",
    "import warnings\n",
    "warnings.filterwarnings(\"ignore\")\n",
    "os.environ[\"CUDA_LAUNCH_BLOCKING\"] = '1'\n",
    "\n",
    "### Data Wrangling ###\n",
    "import numpy as np\n",
    "import pandas as pd\n",
    "from scipy import stats\n",
    "\n",
    "### Machine Learning ###\n",
    "from sklearn import preprocessing\n",
    "from sklearn.metrics import roc_auc_score, log_loss\n",
    "from sklearn.preprocessing import StandardScaler\n",
    "from sklearn.decomposition import PCA\n",
    "\n",
    "### Deep Learning ###\n",
    "import torch\n",
    "from torch import nn\n",
    "import torch.optim as optim\n",
    "from torch.nn import functional as F\n",
    "from torch.nn.modules.loss import _WeightedLoss\n",
    "from torch.utils.data import DataLoader, Dataset\n",
    "from torch.optim.lr_scheduler import ReduceLROnPlateau\n",
    "# Tabnet \n",
    "from pytorch_tabnet.metrics import Metric\n",
    "from pytorch_tabnet.tab_model import TabNetRegressor\n",
    "\n",
    "from pickle import load,dump\n",
    "\n",
    "### Make prettier the prints ###\n",
    "from colorama import Fore\n",
    "c_ = Fore.CYAN\n",
    "m_ = Fore.MAGENTA\n",
    "r_ = Fore.RED\n",
    "b_ = Fore.BLUE\n",
    "y_ = Fore.YELLOW\n",
    "g_ = Fore.GREEN"
   ]
  },
  {
   "cell_type": "code",
   "execution_count": 3,
   "metadata": {
    "execution": {
     "iopub.execute_input": "2020-11-27T10:41:31.587782Z",
     "iopub.status.busy": "2020-11-27T10:41:31.587066Z",
     "iopub.status.idle": "2020-11-27T10:41:31.591406Z",
     "shell.execute_reply": "2020-11-27T10:41:31.590662Z"
    },
    "papermill": {
     "duration": 0.04329,
     "end_time": "2020-11-27T10:41:31.591552",
     "exception": false,
     "start_time": "2020-11-27T10:41:31.548262",
     "status": "completed"
    },
    "tags": []
   },
   "outputs": [],
   "source": [
    "output_path = \"../output/tabnet/\""
   ]
  },
  {
   "cell_type": "code",
   "execution_count": 4,
   "metadata": {
    "execution": {
     "iopub.execute_input": "2020-11-27T10:41:31.748721Z",
     "iopub.status.busy": "2020-11-27T10:41:31.747691Z",
     "iopub.status.idle": "2020-11-27T10:41:38.627686Z",
     "shell.execute_reply": "2020-11-27T10:41:38.626956Z"
    },
    "papermill": {
     "duration": 6.921345,
     "end_time": "2020-11-27T10:41:38.627810",
     "exception": false,
     "start_time": "2020-11-27T10:41:31.706465",
     "status": "completed"
    },
    "tags": []
   },
   "outputs": [],
   "source": [
    "train_features = pd.read_csv('../input/lish-moa/train_features.csv')\n",
    "train_targets_scored = pd.read_csv('../input/lish-moa/train_targets_scored.csv')\n",
    "train_targets_nonscored = pd.read_csv('../input/lish-moa/train_targets_nonscored.csv')\n",
    "\n",
    "test_features = pd.read_csv('../input/lish-moa/test_features.csv')\n",
    "df = pd.read_csv('../input/lish-moa/sample_submission.csv')"
   ]
  },
  {
   "cell_type": "code",
   "execution_count": 5,
   "metadata": {
    "execution": {
     "iopub.execute_input": "2020-11-27T10:41:38.850841Z",
     "iopub.status.busy": "2020-11-27T10:41:38.850019Z",
     "iopub.status.idle": "2020-11-27T10:41:38.854098Z",
     "shell.execute_reply": "2020-11-27T10:41:38.853566Z"
    },
    "papermill": {
     "duration": 0.044688,
     "end_time": "2020-11-27T10:41:38.854233",
     "exception": false,
     "start_time": "2020-11-27T10:41:38.809545",
     "status": "completed"
    },
    "tags": []
   },
   "outputs": [],
   "source": [
    "GENES = [col for col in train_features.columns if col.startswith('g-')]\n",
    "CELLS = [col for col in train_features.columns if col.startswith('c-')]"
   ]
  },
  {
   "cell_type": "code",
   "execution_count": 6,
   "metadata": {
    "execution": {
     "iopub.execute_input": "2020-11-27T10:41:55.468950Z",
     "iopub.status.busy": "2020-11-27T10:41:55.468106Z",
     "iopub.status.idle": "2020-11-27T10:41:55.832193Z",
     "shell.execute_reply": "2020-11-27T10:41:55.831593Z"
    },
    "papermill": {
     "duration": 0.408348,
     "end_time": "2020-11-27T10:41:55.832322",
     "exception": false,
     "start_time": "2020-11-27T10:41:55.423974",
     "status": "completed"
    },
    "tags": []
   },
   "outputs": [],
   "source": [
    "seed = 42\n",
    "\n",
    "def set_seed(seed):\n",
    "    random.seed(seed)\n",
    "    np.random.seed(seed)\n",
    "    torch.manual_seed(seed)\n",
    "    os.environ[\"PYTHONHASHSEED\"] = str(seed)\n",
    "    \n",
    "    if torch.cuda.is_available():\n",
    "        torch.cuda.manual_seed(seed)\n",
    "        torch.cuda.manual_seed_all(seed)\n",
    "        torch.backends.cudnn.deterministic = True\n",
    "        torch.backends.cudnn.benchmark = False\n",
    "set_seed(seed)"
   ]
  },
  {
   "cell_type": "code",
   "execution_count": 7,
   "metadata": {},
   "outputs": [
    {
     "output_type": "stream",
     "name": "stdout",
     "text": [
      "making gaussian distributions\n",
      "performing pca on genes\n",
      "performing pca on cells\n",
      "variance threshold: 0.85\n",
      "adding clusters generated from KMeans as features\n",
      "adding statistics and square of columns as new features\n",
      "new number of columns: 1239\n"
     ]
    }
   ],
   "source": [
    "from feature_engineering import preprocess\n",
    "train_features = pd.read_csv('../input/lish-moa/train_features.csv')\n",
    "\n",
    "test_features = pd.read_csv('../input/lish-moa/test_features.csv')\n",
    "train_features, test_features = preprocess(train_features, test_features, output_path = output_path)"
   ]
  },
  {
   "cell_type": "code",
   "execution_count": 8,
   "metadata": {
    "execution": {
     "iopub.execute_input": "2020-11-27T10:43:24.536358Z",
     "iopub.status.busy": "2020-11-27T10:43:24.535045Z",
     "iopub.status.idle": "2020-11-27T10:43:25.178307Z",
     "shell.execute_reply": "2020-11-27T10:43:25.177279Z"
    },
    "papermill": {
     "duration": 0.690857,
     "end_time": "2020-11-27T10:43:25.178525",
     "exception": false,
     "start_time": "2020-11-27T10:43:24.487668",
     "status": "completed"
    },
    "tags": []
   },
   "outputs": [],
   "source": [
    "train = train_features.merge(train_targets_scored, on='sig_id')\n",
    "train = train[train['cp_type']!='ctl_vehicle'].reset_index(drop=True)\n",
    "test = test_features[test_features['cp_type']!='ctl_vehicle'].reset_index(drop=True)\n",
    "\n",
    "target = train[train_targets_scored.columns]"
   ]
  },
  {
   "cell_type": "code",
   "execution_count": 9,
   "metadata": {
    "execution": {
     "iopub.execute_input": "2020-11-27T10:43:25.402575Z",
     "iopub.status.busy": "2020-11-27T10:43:25.326057Z",
     "iopub.status.idle": "2020-11-27T10:43:25.428056Z",
     "shell.execute_reply": "2020-11-27T10:43:25.427089Z"
    },
    "papermill": {
     "duration": 0.184936,
     "end_time": "2020-11-27T10:43:25.428262",
     "exception": false,
     "start_time": "2020-11-27T10:43:25.243326",
     "status": "completed"
    },
    "tags": []
   },
   "outputs": [],
   "source": [
    "train = train.drop('cp_type', axis=1)\n",
    "test = test.drop('cp_type', axis=1)"
   ]
  },
  {
   "cell_type": "code",
   "execution_count": 10,
   "metadata": {
    "execution": {
     "iopub.execute_input": "2020-11-27T10:43:25.569263Z",
     "iopub.status.busy": "2020-11-27T10:43:25.568285Z",
     "iopub.status.idle": "2020-11-27T10:43:25.572976Z",
     "shell.execute_reply": "2020-11-27T10:43:25.574112Z"
    },
    "papermill": {
     "duration": 0.086346,
     "end_time": "2020-11-27T10:43:25.574320",
     "exception": false,
     "start_time": "2020-11-27T10:43:25.487974",
     "status": "completed"
    },
    "tags": []
   },
   "outputs": [],
   "source": [
    "target_cols = target.drop('sig_id', axis=1).columns.values.tolist()"
   ]
  },
  {
   "cell_type": "code",
   "execution_count": 11,
   "metadata": {
    "execution": {
     "iopub.execute_input": "2020-11-27T10:43:25.712081Z",
     "iopub.status.busy": "2020-11-27T10:43:25.711007Z",
     "iopub.status.idle": "2020-11-27T10:43:25.715989Z",
     "shell.execute_reply": "2020-11-27T10:43:25.717285Z"
    },
    "papermill": {
     "duration": 0.085949,
     "end_time": "2020-11-27T10:43:25.717499",
     "exception": false,
     "start_time": "2020-11-27T10:43:25.631550",
     "status": "completed"
    },
    "tags": []
   },
   "outputs": [],
   "source": [
    "target=target[target_cols]"
   ]
  },
  {
   "cell_type": "code",
   "execution_count": 12,
   "metadata": {
    "execution": {
     "iopub.execute_input": "2020-11-27T10:43:25.913800Z",
     "iopub.status.busy": "2020-11-27T10:43:25.900867Z",
     "iopub.status.idle": "2020-11-27T10:43:26.034196Z",
     "shell.execute_reply": "2020-11-27T10:43:26.032989Z"
    },
    "papermill": {
     "duration": 0.258902,
     "end_time": "2020-11-27T10:43:26.034345",
     "exception": false,
     "start_time": "2020-11-27T10:43:25.775443",
     "status": "completed"
    },
    "tags": []
   },
   "outputs": [],
   "source": [
    "train = pd.get_dummies(train, columns=['cp_time','cp_dose'])\n",
    "test_ = pd.get_dummies(test, columns=['cp_time','cp_dose'])"
   ]
  },
  {
   "cell_type": "code",
   "execution_count": 13,
   "metadata": {
    "execution": {
     "iopub.execute_input": "2020-11-27T10:43:26.124816Z",
     "iopub.status.busy": "2020-11-27T10:43:26.123836Z",
     "iopub.status.idle": "2020-11-27T10:43:26.127127Z",
     "shell.execute_reply": "2020-11-27T10:43:26.126539Z"
    },
    "papermill": {
     "duration": 0.052783,
     "end_time": "2020-11-27T10:43:26.127254",
     "exception": false,
     "start_time": "2020-11-27T10:43:26.074471",
     "status": "completed"
    },
    "tags": []
   },
   "outputs": [],
   "source": [
    "feature_cols = [c for c in train.columns if c not in target_cols]\n",
    "feature_cols = [c for c in feature_cols if c not in ['sig_id']]"
   ]
  },
  {
   "cell_type": "code",
   "execution_count": 14,
   "metadata": {
    "execution": {
     "iopub.execute_input": "2020-11-27T10:43:26.218817Z",
     "iopub.status.busy": "2020-11-27T10:43:26.217634Z",
     "iopub.status.idle": "2020-11-27T10:43:26.489693Z",
     "shell.execute_reply": "2020-11-27T10:43:26.488977Z"
    },
    "papermill": {
     "duration": 0.318242,
     "end_time": "2020-11-27T10:43:26.489815",
     "exception": false,
     "start_time": "2020-11-27T10:43:26.171573",
     "status": "completed"
    },
    "tags": []
   },
   "outputs": [],
   "source": [
    "train = train[feature_cols]\n",
    "test = test_[feature_cols]"
   ]
  },
  {
   "cell_type": "code",
   "execution_count": 15,
   "metadata": {
    "execution": {
     "iopub.execute_input": "2020-11-27T10:43:26.575947Z",
     "iopub.status.busy": "2020-11-27T10:43:26.574606Z",
     "iopub.status.idle": "2020-11-27T10:43:26.588686Z",
     "shell.execute_reply": "2020-11-27T10:43:26.588093Z"
    },
    "papermill": {
     "duration": 0.058692,
     "end_time": "2020-11-27T10:43:26.588801",
     "exception": false,
     "start_time": "2020-11-27T10:43:26.530109",
     "status": "completed"
    },
    "tags": []
   },
   "outputs": [],
   "source": [
    "X_test = test.values"
   ]
  },
  {
   "cell_type": "code",
   "execution_count": 16,
   "metadata": {
    "execution": {
     "iopub.execute_input": "2020-11-27T10:43:26.682336Z",
     "iopub.status.busy": "2020-11-27T10:43:26.681644Z",
     "iopub.status.idle": "2020-11-27T10:43:26.686168Z",
     "shell.execute_reply": "2020-11-27T10:43:26.685640Z"
    },
    "papermill": {
     "duration": 0.057563,
     "end_time": "2020-11-27T10:43:26.686279",
     "exception": false,
     "start_time": "2020-11-27T10:43:26.628716",
     "status": "completed"
    },
    "tags": []
   },
   "outputs": [],
   "source": [
    "from torch.nn.modules.loss import _WeightedLoss\n",
    "class SmoothBCEwLogits(_WeightedLoss):\n",
    "    def __init__(self, weight=None, reduction='mean', smoothing=0.0):\n",
    "        super().__init__(weight=weight, reduction=reduction)\n",
    "        self.smoothing = smoothing\n",
    "        self.weight = weight\n",
    "        self.reduction = reduction\n",
    "\n",
    "    @staticmethod\n",
    "    def _smooth(targets:torch.Tensor, n_labels:int, smoothing=0.0):\n",
    "        assert 0 <= smoothing < 1\n",
    "        with torch.no_grad():\n",
    "            targets = targets * (1.0 - smoothing) + 0.5 * smoothing\n",
    "        return targets\n",
    "\n",
    "    def forward(self, inputs, targets):\n",
    "        targets = SmoothBCEwLogits._smooth(targets, inputs.size(-1),\n",
    "            self.smoothing)\n",
    "        loss = F.binary_cross_entropy_with_logits(inputs, targets,self.weight)\n",
    "\n",
    "        if  self.reduction == 'sum':\n",
    "            loss = loss.sum()\n",
    "        elif  self.reduction == 'mean':\n",
    "            loss = loss.mean()\n",
    "\n",
    "        return loss"
   ]
  },
  {
   "cell_type": "code",
   "execution_count": 17,
   "metadata": {
    "execution": {
     "iopub.execute_input": "2020-11-27T10:43:26.775910Z",
     "iopub.status.busy": "2020-11-27T10:43:26.774917Z",
     "iopub.status.idle": "2020-11-27T10:43:26.778123Z",
     "shell.execute_reply": "2020-11-27T10:43:26.777590Z"
    },
    "papermill": {
     "duration": 0.051062,
     "end_time": "2020-11-27T10:43:26.778264",
     "exception": false,
     "start_time": "2020-11-27T10:43:26.727202",
     "status": "completed"
    },
    "tags": []
   },
   "outputs": [],
   "source": [
    "class LogitsLogLoss(Metric):\n",
    "\n",
    "    def __init__(self):\n",
    "        self._name = \"logits_ll\"\n",
    "        self._maximize = False\n",
    "\n",
    "    def __call__(self, y_true, y_pred):\n",
    "        logits = 1 / (1 + np.exp(-y_pred))\n",
    "        aux = (1 - y_true) * np.log(1 - logits + 5e-5) + y_true * np.log(logits + 5e-5)\n",
    "        return np.mean(-aux)"
   ]
  },
  {
   "cell_type": "code",
   "execution_count": 18,
   "metadata": {
    "execution": {
     "iopub.execute_input": "2020-11-27T10:43:26.868681Z",
     "iopub.status.busy": "2020-11-27T10:43:26.866548Z",
     "iopub.status.idle": "2020-11-27T10:43:26.869429Z",
     "shell.execute_reply": "2020-11-27T10:43:26.869985Z"
    },
    "papermill": {
     "duration": 0.05109,
     "end_time": "2020-11-27T10:43:26.870111",
     "exception": false,
     "start_time": "2020-11-27T10:43:26.819021",
     "status": "completed"
    },
    "tags": []
   },
   "outputs": [],
   "source": [
    "MAX_EPOCH = 200\n",
    "\n",
    "tabnet_params = dict(\n",
    "    n_d = 32,\n",
    "    n_a = 32,\n",
    "    n_steps = 1,\n",
    "    gamma = 1.3,\n",
    "    lambda_sparse = 0,\n",
    "    optimizer_fn = optim.Adam,\n",
    "    optimizer_params = dict(lr = 2e-2, weight_decay = 1e-5),\n",
    "    mask_type = \"entmax\",\n",
    "    scheduler_params = dict(mode = \"min\", patience = 5, min_lr = 1e-5, factor = 0.9),\n",
    "    scheduler_fn = ReduceLROnPlateau,\n",
    "    seed = seed,\n",
    "    verbose = 10\n",
    ")"
   ]
  },
  {
   "cell_type": "code",
   "execution_count": 19,
   "metadata": {
    "execution": {
     "iopub.execute_input": "2020-11-27T10:43:26.981185Z",
     "iopub.status.busy": "2020-11-27T10:43:26.971852Z",
     "iopub.status.idle": "2020-11-27T12:58:37.738793Z",
     "shell.execute_reply": "2020-11-27T12:58:37.738178Z"
    },
    "papermill": {
     "duration": 8110.826707,
     "end_time": "2020-11-27T12:58:37.738920",
     "exception": false,
     "start_time": "2020-11-27T10:43:26.912213",
     "status": "completed"
    },
    "tags": []
   },
   "outputs": [
    {
     "output_type": "stream",
     "name": "stdout",
     "text": [
      "\u001b[34m FOLDS:  \u001b[31m 1 \u001b[33m seed: 20\n",
      "\u001b[32m ************************************************************ \u001b[36m\n",
      "Device used : cpu\n",
      "epoch 0  | loss: 0.33653 | val_logits_ll: 0.03279 |  0:00:26s\n"
     ]
    },
    {
     "output_type": "error",
     "ename": "KeyboardInterrupt",
     "evalue": "",
     "traceback": [
      "\u001b[1;31m---------------------------------------------------------------------------\u001b[0m",
      "\u001b[1;31mKeyboardInterrupt\u001b[0m                         Traceback (most recent call last)",
      "\u001b[1;32m<ipython-input-19-58ad060a2e89>\u001b[0m in \u001b[0;36m<module>\u001b[1;34m\u001b[0m\n\u001b[0;32m     30\u001b[0m \u001b[1;33m\u001b[0m\u001b[0m\n\u001b[0;32m     31\u001b[0m         \u001b[1;31m### Fit ###\u001b[0m\u001b[1;33m\u001b[0m\u001b[1;33m\u001b[0m\u001b[1;33m\u001b[0m\u001b[0m\n\u001b[1;32m---> 32\u001b[1;33m         model.fit(\n\u001b[0m\u001b[0;32m     33\u001b[0m             \u001b[0mX_train\u001b[0m \u001b[1;33m=\u001b[0m \u001b[0mX_train\u001b[0m\u001b[1;33m,\u001b[0m\u001b[1;33m\u001b[0m\u001b[1;33m\u001b[0m\u001b[0m\n\u001b[0;32m     34\u001b[0m             \u001b[0my_train\u001b[0m \u001b[1;33m=\u001b[0m \u001b[0my_train\u001b[0m\u001b[1;33m,\u001b[0m\u001b[1;33m\u001b[0m\u001b[1;33m\u001b[0m\u001b[0m\n",
      "\u001b[1;32m~\\anaconda3\\lib\\site-packages\\pytorch_tabnet\\abstract_model.py\u001b[0m in \u001b[0;36mfit\u001b[1;34m(self, X_train, y_train, eval_set, eval_name, eval_metric, loss_fn, weights, max_epochs, patience, batch_size, virtual_batch_size, num_workers, drop_last, callbacks, pin_memory)\u001b[0m\n\u001b[0;32m    171\u001b[0m             \u001b[0mself\u001b[0m\u001b[1;33m.\u001b[0m\u001b[0m_callback_container\u001b[0m\u001b[1;33m.\u001b[0m\u001b[0mon_epoch_begin\u001b[0m\u001b[1;33m(\u001b[0m\u001b[0mepoch_idx\u001b[0m\u001b[1;33m)\u001b[0m\u001b[1;33m\u001b[0m\u001b[1;33m\u001b[0m\u001b[0m\n\u001b[0;32m    172\u001b[0m \u001b[1;33m\u001b[0m\u001b[0m\n\u001b[1;32m--> 173\u001b[1;33m             \u001b[0mself\u001b[0m\u001b[1;33m.\u001b[0m\u001b[0m_train_epoch\u001b[0m\u001b[1;33m(\u001b[0m\u001b[0mtrain_dataloader\u001b[0m\u001b[1;33m)\u001b[0m\u001b[1;33m\u001b[0m\u001b[1;33m\u001b[0m\u001b[0m\n\u001b[0m\u001b[0;32m    174\u001b[0m \u001b[1;33m\u001b[0m\u001b[0m\n\u001b[0;32m    175\u001b[0m             \u001b[1;31m# Apply predict epoch to all eval sets\u001b[0m\u001b[1;33m\u001b[0m\u001b[1;33m\u001b[0m\u001b[1;33m\u001b[0m\u001b[0m\n",
      "\u001b[1;32m~\\anaconda3\\lib\\site-packages\\pytorch_tabnet\\abstract_model.py\u001b[0m in \u001b[0;36m_train_epoch\u001b[1;34m(self, train_loader)\u001b[0m\n\u001b[0;32m    347\u001b[0m             \u001b[0mself\u001b[0m\u001b[1;33m.\u001b[0m\u001b[0m_callback_container\u001b[0m\u001b[1;33m.\u001b[0m\u001b[0mon_batch_begin\u001b[0m\u001b[1;33m(\u001b[0m\u001b[0mbatch_idx\u001b[0m\u001b[1;33m)\u001b[0m\u001b[1;33m\u001b[0m\u001b[1;33m\u001b[0m\u001b[0m\n\u001b[0;32m    348\u001b[0m \u001b[1;33m\u001b[0m\u001b[0m\n\u001b[1;32m--> 349\u001b[1;33m             \u001b[0mbatch_logs\u001b[0m \u001b[1;33m=\u001b[0m \u001b[0mself\u001b[0m\u001b[1;33m.\u001b[0m\u001b[0m_train_batch\u001b[0m\u001b[1;33m(\u001b[0m\u001b[0mX\u001b[0m\u001b[1;33m,\u001b[0m \u001b[0my\u001b[0m\u001b[1;33m)\u001b[0m\u001b[1;33m\u001b[0m\u001b[1;33m\u001b[0m\u001b[0m\n\u001b[0m\u001b[0;32m    350\u001b[0m \u001b[1;33m\u001b[0m\u001b[0m\n\u001b[0;32m    351\u001b[0m             \u001b[0mself\u001b[0m\u001b[1;33m.\u001b[0m\u001b[0m_callback_container\u001b[0m\u001b[1;33m.\u001b[0m\u001b[0mon_batch_end\u001b[0m\u001b[1;33m(\u001b[0m\u001b[0mbatch_idx\u001b[0m\u001b[1;33m,\u001b[0m \u001b[0mbatch_logs\u001b[0m\u001b[1;33m)\u001b[0m\u001b[1;33m\u001b[0m\u001b[1;33m\u001b[0m\u001b[0m\n",
      "\u001b[1;32m~\\anaconda3\\lib\\site-packages\\pytorch_tabnet\\abstract_model.py\u001b[0m in \u001b[0;36m_train_batch\u001b[1;34m(self, X, y)\u001b[0m\n\u001b[0;32m    389\u001b[0m \u001b[1;33m\u001b[0m\u001b[0m\n\u001b[0;32m    390\u001b[0m         \u001b[1;31m# Perform backward pass and optimization\u001b[0m\u001b[1;33m\u001b[0m\u001b[1;33m\u001b[0m\u001b[1;33m\u001b[0m\u001b[0m\n\u001b[1;32m--> 391\u001b[1;33m         \u001b[0mloss\u001b[0m\u001b[1;33m.\u001b[0m\u001b[0mbackward\u001b[0m\u001b[1;33m(\u001b[0m\u001b[1;33m)\u001b[0m\u001b[1;33m\u001b[0m\u001b[1;33m\u001b[0m\u001b[0m\n\u001b[0m\u001b[0;32m    392\u001b[0m         \u001b[1;32mif\u001b[0m \u001b[0mself\u001b[0m\u001b[1;33m.\u001b[0m\u001b[0mclip_value\u001b[0m\u001b[1;33m:\u001b[0m\u001b[1;33m\u001b[0m\u001b[1;33m\u001b[0m\u001b[0m\n\u001b[0;32m    393\u001b[0m             \u001b[0mclip_grad_norm_\u001b[0m\u001b[1;33m(\u001b[0m\u001b[0mself\u001b[0m\u001b[1;33m.\u001b[0m\u001b[0mnetwork\u001b[0m\u001b[1;33m.\u001b[0m\u001b[0mparameters\u001b[0m\u001b[1;33m(\u001b[0m\u001b[1;33m)\u001b[0m\u001b[1;33m,\u001b[0m \u001b[0mself\u001b[0m\u001b[1;33m.\u001b[0m\u001b[0mclip_value\u001b[0m\u001b[1;33m)\u001b[0m\u001b[1;33m\u001b[0m\u001b[1;33m\u001b[0m\u001b[0m\n",
      "\u001b[1;32m~\\anaconda3\\lib\\site-packages\\torch\\tensor.py\u001b[0m in \u001b[0;36mbackward\u001b[1;34m(self, gradient, retain_graph, create_graph)\u001b[0m\n\u001b[0;32m    219\u001b[0m                 \u001b[0mretain_graph\u001b[0m\u001b[1;33m=\u001b[0m\u001b[0mretain_graph\u001b[0m\u001b[1;33m,\u001b[0m\u001b[1;33m\u001b[0m\u001b[1;33m\u001b[0m\u001b[0m\n\u001b[0;32m    220\u001b[0m                 create_graph=create_graph)\n\u001b[1;32m--> 221\u001b[1;33m         \u001b[0mtorch\u001b[0m\u001b[1;33m.\u001b[0m\u001b[0mautograd\u001b[0m\u001b[1;33m.\u001b[0m\u001b[0mbackward\u001b[0m\u001b[1;33m(\u001b[0m\u001b[0mself\u001b[0m\u001b[1;33m,\u001b[0m \u001b[0mgradient\u001b[0m\u001b[1;33m,\u001b[0m \u001b[0mretain_graph\u001b[0m\u001b[1;33m,\u001b[0m \u001b[0mcreate_graph\u001b[0m\u001b[1;33m)\u001b[0m\u001b[1;33m\u001b[0m\u001b[1;33m\u001b[0m\u001b[0m\n\u001b[0m\u001b[0;32m    222\u001b[0m \u001b[1;33m\u001b[0m\u001b[0m\n\u001b[0;32m    223\u001b[0m     \u001b[1;32mdef\u001b[0m \u001b[0mregister_hook\u001b[0m\u001b[1;33m(\u001b[0m\u001b[0mself\u001b[0m\u001b[1;33m,\u001b[0m \u001b[0mhook\u001b[0m\u001b[1;33m)\u001b[0m\u001b[1;33m:\u001b[0m\u001b[1;33m\u001b[0m\u001b[1;33m\u001b[0m\u001b[0m\n",
      "\u001b[1;32m~\\anaconda3\\lib\\site-packages\\torch\\autograd\\__init__.py\u001b[0m in \u001b[0;36mbackward\u001b[1;34m(tensors, grad_tensors, retain_graph, create_graph, grad_variables)\u001b[0m\n\u001b[0;32m    128\u001b[0m         \u001b[0mretain_graph\u001b[0m \u001b[1;33m=\u001b[0m \u001b[0mcreate_graph\u001b[0m\u001b[1;33m\u001b[0m\u001b[1;33m\u001b[0m\u001b[0m\n\u001b[0;32m    129\u001b[0m \u001b[1;33m\u001b[0m\u001b[0m\n\u001b[1;32m--> 130\u001b[1;33m     Variable._execution_engine.run_backward(\n\u001b[0m\u001b[0;32m    131\u001b[0m         \u001b[0mtensors\u001b[0m\u001b[1;33m,\u001b[0m \u001b[0mgrad_tensors_\u001b[0m\u001b[1;33m,\u001b[0m \u001b[0mretain_graph\u001b[0m\u001b[1;33m,\u001b[0m \u001b[0mcreate_graph\u001b[0m\u001b[1;33m,\u001b[0m\u001b[1;33m\u001b[0m\u001b[1;33m\u001b[0m\u001b[0m\n\u001b[0;32m    132\u001b[0m         allow_unreachable=True)  # allow_unreachable flag\n",
      "\u001b[1;31mKeyboardInterrupt\u001b[0m: "
     ]
    }
   ],
   "source": [
    "scores_auc_all = []\n",
    "test_cv_preds = []\n",
    "\n",
    "NB_SPLITS = 10\n",
    "mskf = MultilabelStratifiedKFold(n_splits = NB_SPLITS, random_state = 0, shuffle = True)\n",
    "\n",
    "oof_preds = []\n",
    "oof_targets = []\n",
    "scores = []\n",
    "scores_auc = []\n",
    "SEED = [20,21,22]\n",
    "oof_to_save = np.zeros((train.shape[0], target.shape[1]))\n",
    "for s in SEED:\n",
    "    tabnet_params['seed'] = s\n",
    "    \n",
    "    \n",
    "    \n",
    "    for fold_nb, (train_idx, val_idx) in enumerate(mskf.split(train, target)):\n",
    "        print(b_,\"FOLDS: \", r_, fold_nb + 1, y_, 'seed:', tabnet_params['seed'])\n",
    "        print(g_, '*' * 60, c_)\n",
    "    \n",
    "        X_train, y_train = train.values[train_idx, :], target.values[train_idx, :]\n",
    "        X_val, y_val = train.values[val_idx, :], target.values[val_idx, :]\n",
    "        \n",
    "        \n",
    "        \n",
    "        \n",
    "        ### Model ###\n",
    "        model = TabNetRegressor(**tabnet_params)\n",
    "        \n",
    "        ### Fit ###\n",
    "        model.fit(\n",
    "            X_train = X_train,\n",
    "            y_train = y_train,\n",
    "            eval_set = [(X_val, y_val)],\n",
    "            eval_name = [\"val\"],\n",
    "            eval_metric = [\"logits_ll\"],\n",
    "            max_epochs = MAX_EPOCH,\n",
    "            patience = 20,\n",
    "            batch_size = 1024, \n",
    "            virtual_batch_size = 32,\n",
    "            num_workers = 1,\n",
    "            drop_last = False,\n",
    "            loss_fn = SmoothBCEwLogits(smoothing=5e-5))\n",
    "        print(y_, '-' * 60)\n",
    "    \n",
    "        ### Predict on validation ###\n",
    "        preds_val = model.predict(X_val)\n",
    "        # Apply sigmoid to the predictions\n",
    "        preds = 1 / (1 + np.exp(-preds_val))\n",
    "        score = np.min(model.history[\"val_logits_ll\"])\n",
    "        saving_path_name = output_path + 'TabNet_seed_'+str(tabnet_params['seed'])+'_fold_'+str(fold_nb+1)\n",
    "        saved_filepath = model.save_model(saving_path_name)\n",
    "        \n",
    "        loaded_model =  TabNetRegressor()\n",
    "        loaded_model.load_model(saved_filepath)\n",
    "    \n",
    "        ### Save OOF for CV ###\n",
    "        oof_preds.append(preds_val)\n",
    "        oof_targets.append(y_val)\n",
    "        scores.append(score)\n",
    "        \n",
    "        oof_to_save[val_idx,:] += preds_val / len(SEED)\n",
    "    \n",
    "        ### Predict on test ###\n",
    "        model.load_model(saved_filepath)\n",
    "        preds_test = model.predict(X_test)\n",
    "        test_cv_preds.append(1 / (1 + np.exp(-preds_test)))\n",
    "\n",
    "oof_preds_all = np.concatenate(oof_preds)\n",
    "oof_targets_all = np.concatenate(oof_targets)\n",
    "test_preds_all = np.stack(test_cv_preds)"
   ]
  },
  {
   "cell_type": "code",
   "execution_count": null,
   "metadata": {
    "execution": {
     "iopub.execute_input": "2020-11-27T12:58:38.251670Z",
     "iopub.status.busy": "2020-11-27T12:58:38.220096Z",
     "iopub.status.idle": "2020-11-27T12:58:38.283621Z",
     "shell.execute_reply": "2020-11-27T12:58:38.283019Z"
    },
    "papermill": {
     "duration": 0.295277,
     "end_time": "2020-11-27T12:58:38.283743",
     "exception": false,
     "start_time": "2020-11-27T12:58:37.988466",
     "status": "completed"
    },
    "tags": []
   },
   "outputs": [],
   "source": [
    "import pickle\n",
    "file = open(output_path + \"oof\", \"wb\")\n",
    "pickle.dump(oof_to_save, file)\n",
    "file.close()"
   ]
  },
  {
   "cell_type": "code",
   "execution_count": 37,
   "metadata": {
    "execution": {
     "iopub.execute_input": "2020-11-27T12:58:38.742303Z",
     "iopub.status.busy": "2020-11-27T12:58:38.738135Z",
     "iopub.status.idle": "2020-11-27T12:58:42.455757Z",
     "shell.execute_reply": "2020-11-27T12:58:42.456514Z"
    },
    "papermill": {
     "duration": 3.95126,
     "end_time": "2020-11-27T12:58:42.456714",
     "exception": false,
     "start_time": "2020-11-27T12:58:38.505454",
     "status": "completed"
    },
    "tags": []
   },
   "outputs": [
    {
     "name": "stdout",
     "output_type": "stream",
     "text": [
      "\u001b[34mOverall AUC: \u001b[31m0.7510276839965964\n",
      "\u001b[34mAverage CV: \u001b[31m0.01643082481448639\n"
     ]
    }
   ],
   "source": [
    "aucs = []\n",
    "for task_id in range(oof_preds_all.shape[1]):\n",
    "    aucs.append(roc_auc_score(y_true = oof_targets_all[:, task_id],\n",
    "                              y_score = oof_preds_all[:, task_id]\n",
    "                             ))\n",
    "print(f\"{b_}Overall AUC: {r_}{np.mean(aucs)}\")\n",
    "print(f\"{b_}Average CV: {r_}{np.mean(scores)}\")"
   ]
  },
  {
   "cell_type": "code",
   "execution_count": 38,
   "metadata": {
    "execution": {
     "iopub.execute_input": "2020-11-27T12:58:42.919357Z",
     "iopub.status.busy": "2020-11-27T12:58:42.916596Z",
     "iopub.status.idle": "2020-11-27T12:58:42.922616Z",
     "shell.execute_reply": "2020-11-27T12:58:42.921705Z"
    },
    "papermill": {
     "duration": 0.235758,
     "end_time": "2020-11-27T12:58:42.922749",
     "exception": false,
     "start_time": "2020-11-27T12:58:42.686991",
     "status": "completed"
    },
    "tags": []
   },
   "outputs": [
    {
     "name": "stdout",
     "output_type": "stream",
     "text": [
      "(65844, 206)\n",
      "(65844, 206)\n",
      "(65844, 206)\n",
      "22\n"
     ]
    }
   ],
   "source": [
    "print(oof_preds_all.shape)\n",
    "print(oof_targets_all.shape)\n",
    "print(oof_preds_all.shape)\n",
    "print(tabnet_params['seed'])"
   ]
  },
  {
   "cell_type": "code",
   "execution_count": 39,
   "metadata": {
    "execution": {
     "iopub.execute_input": "2020-11-27T12:58:43.389842Z",
     "iopub.status.busy": "2020-11-27T12:58:43.387214Z",
     "iopub.status.idle": "2020-11-27T12:58:45.966054Z",
     "shell.execute_reply": "2020-11-27T12:58:45.965006Z"
    },
    "papermill": {
     "duration": 2.81467,
     "end_time": "2020-11-27T12:58:45.966189",
     "exception": false,
     "start_time": "2020-11-27T12:58:43.151519",
     "status": "completed"
    },
    "tags": []
   },
   "outputs": [
    {
     "data": {
      "text/html": [
       "<div>\n",
       "<style scoped>\n",
       "    .dataframe tbody tr th:only-of-type {\n",
       "        vertical-align: middle;\n",
       "    }\n",
       "\n",
       "    .dataframe tbody tr th {\n",
       "        vertical-align: top;\n",
       "    }\n",
       "\n",
       "    .dataframe thead th {\n",
       "        text-align: right;\n",
       "    }\n",
       "</style>\n",
       "<table border=\"1\" class=\"dataframe\">\n",
       "  <thead>\n",
       "    <tr style=\"text-align: right;\">\n",
       "      <th></th>\n",
       "      <th>sig_id</th>\n",
       "      <th>5-alpha_reductase_inhibitor</th>\n",
       "      <th>11-beta-hsd1_inhibitor</th>\n",
       "      <th>acat_inhibitor</th>\n",
       "      <th>acetylcholine_receptor_agonist</th>\n",
       "      <th>acetylcholine_receptor_antagonist</th>\n",
       "      <th>acetylcholinesterase_inhibitor</th>\n",
       "      <th>adenosine_receptor_agonist</th>\n",
       "      <th>adenosine_receptor_antagonist</th>\n",
       "      <th>adenylyl_cyclase_activator</th>\n",
       "      <th>...</th>\n",
       "      <th>tropomyosin_receptor_kinase_inhibitor</th>\n",
       "      <th>trpv_agonist</th>\n",
       "      <th>trpv_antagonist</th>\n",
       "      <th>tubulin_inhibitor</th>\n",
       "      <th>tyrosine_kinase_inhibitor</th>\n",
       "      <th>ubiquitin_specific_protease_inhibitor</th>\n",
       "      <th>vegfr_inhibitor</th>\n",
       "      <th>vitamin_b</th>\n",
       "      <th>vitamin_d_receptor_agonist</th>\n",
       "      <th>wnt_inhibitor</th>\n",
       "    </tr>\n",
       "  </thead>\n",
       "  <tbody>\n",
       "    <tr>\n",
       "      <th>0</th>\n",
       "      <td>id_0004d9e33</td>\n",
       "      <td>0.001001</td>\n",
       "      <td>0.001180</td>\n",
       "      <td>0.002022</td>\n",
       "      <td>0.019151</td>\n",
       "      <td>0.022228</td>\n",
       "      <td>0.005246</td>\n",
       "      <td>0.002998</td>\n",
       "      <td>0.005494</td>\n",
       "      <td>0.000341</td>\n",
       "      <td>...</td>\n",
       "      <td>0.000791</td>\n",
       "      <td>0.001165</td>\n",
       "      <td>0.003596</td>\n",
       "      <td>0.000863</td>\n",
       "      <td>0.000768</td>\n",
       "      <td>0.000551</td>\n",
       "      <td>0.000530</td>\n",
       "      <td>0.002032</td>\n",
       "      <td>0.002621</td>\n",
       "      <td>0.001774</td>\n",
       "    </tr>\n",
       "    <tr>\n",
       "      <th>1</th>\n",
       "      <td>id_001897cda</td>\n",
       "      <td>0.000553</td>\n",
       "      <td>0.000970</td>\n",
       "      <td>0.002050</td>\n",
       "      <td>0.003869</td>\n",
       "      <td>0.002154</td>\n",
       "      <td>0.002155</td>\n",
       "      <td>0.002373</td>\n",
       "      <td>0.010095</td>\n",
       "      <td>0.001831</td>\n",
       "      <td>...</td>\n",
       "      <td>0.000823</td>\n",
       "      <td>0.001038</td>\n",
       "      <td>0.004116</td>\n",
       "      <td>0.000436</td>\n",
       "      <td>0.003736</td>\n",
       "      <td>0.000538</td>\n",
       "      <td>0.003671</td>\n",
       "      <td>0.001173</td>\n",
       "      <td>0.007768</td>\n",
       "      <td>0.003193</td>\n",
       "    </tr>\n",
       "    <tr>\n",
       "      <th>2</th>\n",
       "      <td>id_002429b5b</td>\n",
       "      <td>0.000000</td>\n",
       "      <td>0.000000</td>\n",
       "      <td>0.000000</td>\n",
       "      <td>0.000000</td>\n",
       "      <td>0.000000</td>\n",
       "      <td>0.000000</td>\n",
       "      <td>0.000000</td>\n",
       "      <td>0.000000</td>\n",
       "      <td>0.000000</td>\n",
       "      <td>...</td>\n",
       "      <td>0.000000</td>\n",
       "      <td>0.000000</td>\n",
       "      <td>0.000000</td>\n",
       "      <td>0.000000</td>\n",
       "      <td>0.000000</td>\n",
       "      <td>0.000000</td>\n",
       "      <td>0.000000</td>\n",
       "      <td>0.000000</td>\n",
       "      <td>0.000000</td>\n",
       "      <td>0.000000</td>\n",
       "    </tr>\n",
       "    <tr>\n",
       "      <th>3</th>\n",
       "      <td>id_00276f245</td>\n",
       "      <td>0.000941</td>\n",
       "      <td>0.001069</td>\n",
       "      <td>0.001757</td>\n",
       "      <td>0.009520</td>\n",
       "      <td>0.014225</td>\n",
       "      <td>0.004072</td>\n",
       "      <td>0.002586</td>\n",
       "      <td>0.004707</td>\n",
       "      <td>0.000272</td>\n",
       "      <td>...</td>\n",
       "      <td>0.000677</td>\n",
       "      <td>0.001883</td>\n",
       "      <td>0.002904</td>\n",
       "      <td>0.014937</td>\n",
       "      <td>0.004340</td>\n",
       "      <td>0.000663</td>\n",
       "      <td>0.001643</td>\n",
       "      <td>0.001733</td>\n",
       "      <td>0.000565</td>\n",
       "      <td>0.001571</td>\n",
       "    </tr>\n",
       "    <tr>\n",
       "      <th>4</th>\n",
       "      <td>id_0027f1083</td>\n",
       "      <td>0.001404</td>\n",
       "      <td>0.001343</td>\n",
       "      <td>0.001599</td>\n",
       "      <td>0.015770</td>\n",
       "      <td>0.020870</td>\n",
       "      <td>0.004714</td>\n",
       "      <td>0.003634</td>\n",
       "      <td>0.003071</td>\n",
       "      <td>0.000482</td>\n",
       "      <td>...</td>\n",
       "      <td>0.000753</td>\n",
       "      <td>0.000820</td>\n",
       "      <td>0.002950</td>\n",
       "      <td>0.001631</td>\n",
       "      <td>0.001472</td>\n",
       "      <td>0.000680</td>\n",
       "      <td>0.000892</td>\n",
       "      <td>0.001871</td>\n",
       "      <td>0.000559</td>\n",
       "      <td>0.001550</td>\n",
       "    </tr>\n",
       "  </tbody>\n",
       "</table>\n",
       "<p>5 rows × 207 columns</p>\n",
       "</div>"
      ],
      "text/plain": [
       "         sig_id  5-alpha_reductase_inhibitor  11-beta-hsd1_inhibitor  \\\n",
       "0  id_0004d9e33                     0.001001                0.001180   \n",
       "1  id_001897cda                     0.000553                0.000970   \n",
       "2  id_002429b5b                     0.000000                0.000000   \n",
       "3  id_00276f245                     0.000941                0.001069   \n",
       "4  id_0027f1083                     0.001404                0.001343   \n",
       "\n",
       "   acat_inhibitor  acetylcholine_receptor_agonist  \\\n",
       "0        0.002022                        0.019151   \n",
       "1        0.002050                        0.003869   \n",
       "2        0.000000                        0.000000   \n",
       "3        0.001757                        0.009520   \n",
       "4        0.001599                        0.015770   \n",
       "\n",
       "   acetylcholine_receptor_antagonist  acetylcholinesterase_inhibitor  \\\n",
       "0                           0.022228                        0.005246   \n",
       "1                           0.002154                        0.002155   \n",
       "2                           0.000000                        0.000000   \n",
       "3                           0.014225                        0.004072   \n",
       "4                           0.020870                        0.004714   \n",
       "\n",
       "   adenosine_receptor_agonist  adenosine_receptor_antagonist  \\\n",
       "0                    0.002998                       0.005494   \n",
       "1                    0.002373                       0.010095   \n",
       "2                    0.000000                       0.000000   \n",
       "3                    0.002586                       0.004707   \n",
       "4                    0.003634                       0.003071   \n",
       "\n",
       "   adenylyl_cyclase_activator  ...  tropomyosin_receptor_kinase_inhibitor  \\\n",
       "0                    0.000341  ...                               0.000791   \n",
       "1                    0.001831  ...                               0.000823   \n",
       "2                    0.000000  ...                               0.000000   \n",
       "3                    0.000272  ...                               0.000677   \n",
       "4                    0.000482  ...                               0.000753   \n",
       "\n",
       "   trpv_agonist  trpv_antagonist  tubulin_inhibitor  \\\n",
       "0      0.001165         0.003596           0.000863   \n",
       "1      0.001038         0.004116           0.000436   \n",
       "2      0.000000         0.000000           0.000000   \n",
       "3      0.001883         0.002904           0.014937   \n",
       "4      0.000820         0.002950           0.001631   \n",
       "\n",
       "   tyrosine_kinase_inhibitor  ubiquitin_specific_protease_inhibitor  \\\n",
       "0                   0.000768                               0.000551   \n",
       "1                   0.003736                               0.000538   \n",
       "2                   0.000000                               0.000000   \n",
       "3                   0.004340                               0.000663   \n",
       "4                   0.001472                               0.000680   \n",
       "\n",
       "   vegfr_inhibitor  vitamin_b  vitamin_d_receptor_agonist  wnt_inhibitor  \n",
       "0         0.000530   0.002032                    0.002621       0.001774  \n",
       "1         0.003671   0.001173                    0.007768       0.003193  \n",
       "2         0.000000   0.000000                    0.000000       0.000000  \n",
       "3         0.001643   0.001733                    0.000565       0.001571  \n",
       "4         0.000892   0.001871                    0.000559       0.001550  \n",
       "\n",
       "[5 rows x 207 columns]"
      ]
     },
     "execution_count": 39,
     "metadata": {},
     "output_type": "execute_result"
    }
   ],
   "source": [
    "all_feat = [col for col in df.columns if col not in [\"sig_id\"]]\n",
    "# To obtain the same lenght of test_preds_all and submission\n",
    "test = pd.read_csv(\"../input/lish-moa/test_features.csv\")\n",
    "sig_id = test[test[\"cp_type\"] != \"ctl_vehicle\"].sig_id.reset_index(drop = True)\n",
    "tmp = pd.DataFrame(test_preds_all.mean(axis = 0), columns = all_feat)\n",
    "tmp[\"sig_id\"] = sig_id\n",
    "\n",
    "submission = pd.merge(test[[\"sig_id\"]], tmp, on = \"sig_id\", how = \"left\")\n",
    "submission.fillna(0, inplace = True)\n",
    "submission.to_csv(output_path + \"submission.csv\", index = None)\n",
    "submission.head()"
   ]
  },
  {
   "cell_type": "code",
   "execution_count": 40,
   "metadata": {
    "execution": {
     "iopub.execute_input": "2020-11-27T12:58:46.463839Z",
     "iopub.status.busy": "2020-11-27T12:58:46.463029Z",
     "iopub.status.idle": "2020-11-27T12:58:46.467342Z",
     "shell.execute_reply": "2020-11-27T12:58:46.468071Z"
    },
    "papermill": {
     "duration": 0.245469,
     "end_time": "2020-11-27T12:58:46.468262",
     "exception": false,
     "start_time": "2020-11-27T12:58:46.222793",
     "status": "completed"
    },
    "tags": []
   },
   "outputs": [
    {
     "name": "stdout",
     "output_type": "stream",
     "text": [
      "\u001b[34msubmission.shape: \u001b[31m(3982, 207)\n"
     ]
    }
   ],
   "source": [
    "print(f\"{b_}submission.shape: {r_}{submission.shape}\")"
   ]
  },
  {
   "cell_type": "code",
   "execution_count": null,
   "metadata": {
    "papermill": {
     "duration": 0.226633,
     "end_time": "2020-11-27T12:58:46.929223",
     "exception": false,
     "start_time": "2020-11-27T12:58:46.702590",
     "status": "completed"
    },
    "tags": []
   },
   "outputs": [],
   "source": []
  }
 ],
 "metadata": {
  "kernelspec": {
   "display_name": "Python 3",
   "language": "python",
   "name": "python3"
  },
  "language_info": {
   "codemirror_mode": {
    "name": "ipython",
    "version": 3
   },
   "file_extension": ".py",
   "mimetype": "text/x-python",
   "name": "python",
   "nbconvert_exporter": "python",
   "pygments_lexer": "ipython3",
   "version": "3.8.3-final"
  },
  "papermill": {
   "duration": 8304.542506,
   "end_time": "2020-11-27T12:58:48.333044",
   "environment_variables": {},
   "exception": null,
   "input_path": "__notebook__.ipynb",
   "output_path": "__notebook__.ipynb",
   "parameters": {},
   "start_time": "2020-11-27T10:40:23.790538",
   "version": "2.1.0"
  }
 },
 "nbformat": 4,
 "nbformat_minor": 4
}